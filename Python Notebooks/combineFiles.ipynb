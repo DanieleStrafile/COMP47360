{
 "cells": [
  {
   "cell_type": "markdown",
   "metadata": {
    "collapsed": false
   },
   "source": [
    "# Combine CSV Files Into One Cleaned DataFrame"
   ]
  },
  {
   "cell_type": "code",
   "execution_count": 1,
   "metadata": {
    "collapsed": true
   },
   "outputs": [],
   "source": [
    "import pandas as pd\n",
    "import datetime\n",
    "from geopy.distance import vincenty"
   ]
  },
  {
   "cell_type": "code",
   "execution_count": 2,
   "metadata": {
    "collapsed": false
   },
   "outputs": [],
   "source": [
    "\"\"\" Loop though 3 CSV Files In January (Thursday-08, Friday-09, Saturday-10) and Add Together Into One File \"\"\"\n",
    "\n",
    "# Make main df with first file\n",
    "df = pd.read_csv(\"siri.20121108.csv\", header = None, low_memory = False)\n",
    "df.columns = [\"Timestamp\", \"LineId\", \"Direction\", \"JourneyPatternId\", \"TimeFrame\", \"VehicleJourneyId\", \"BusOperator\", \"Congestion\", \"Long\", \"Lat\", \"Delay\", \"BlockId\", \"VehicleId\", \"StopId\", \"AtStop\"]\n",
    "\n",
    "for i in range(9, 11):\n",
    "    \n",
    "    if i < 10:\n",
    "        i = \"0\" + str(i)\n",
    "    \n",
    "    # Next file to add\n",
    "    file = \"siri.201211\" + str(i) + \".csv\"\n",
    "\n",
    "    # Make DataFrame to add to main df\n",
    "    df_to_add = pd.read_csv(file, header = None, low_memory = False)\n",
    "    df_to_add.columns = [\"Timestamp\", \"LineId\", \"Direction\", \"JourneyPatternId\", \"TimeFrame\", \"VehicleJourneyId\", \"BusOperator\", \"Congestion\", \"Long\", \"Lat\", \"Delay\", \"BlockId\", \"VehicleId\", \"StopId\", \"AtStop\"]\n",
    "\n",
    "    # Combine DataFrames\n",
    "    df = df.append(df_to_add ,ignore_index = True)"
   ]
  },
  {
   "cell_type": "code",
   "execution_count": 3,
   "metadata": {
    "collapsed": false
   },
   "outputs": [
    {
     "data": {
      "text/plain": [
       "(4766421, 15)"
      ]
     },
     "execution_count": 3,
     "metadata": {},
     "output_type": "execute_result"
    }
   ],
   "source": [
    "df.shape"
   ]
  },
  {
   "cell_type": "code",
   "execution_count": 4,
   "metadata": {
    "collapsed": false
   },
   "outputs": [
    {
     "data": {
      "text/html": [
       "<div>\n",
       "<table border=\"1\" class=\"dataframe\">\n",
       "  <thead>\n",
       "    <tr style=\"text-align: right;\">\n",
       "      <th></th>\n",
       "      <th>Timestamp</th>\n",
       "      <th>LineId</th>\n",
       "      <th>Direction</th>\n",
       "      <th>JourneyPatternId</th>\n",
       "      <th>TimeFrame</th>\n",
       "      <th>VehicleJourneyId</th>\n",
       "      <th>BusOperator</th>\n",
       "      <th>Congestion</th>\n",
       "      <th>Long</th>\n",
       "      <th>Lat</th>\n",
       "      <th>Delay</th>\n",
       "      <th>BlockId</th>\n",
       "      <th>VehicleId</th>\n",
       "      <th>StopId</th>\n",
       "      <th>AtStop</th>\n",
       "    </tr>\n",
       "  </thead>\n",
       "  <tbody>\n",
       "    <tr>\n",
       "      <th>0</th>\n",
       "      <td>1352332801000000</td>\n",
       "      <td>39</td>\n",
       "      <td>0</td>\n",
       "      <td>00390002</td>\n",
       "      <td>2012-11-07</td>\n",
       "      <td>3810</td>\n",
       "      <td>PO</td>\n",
       "      <td>0</td>\n",
       "      <td>-6.398326</td>\n",
       "      <td>53.393314</td>\n",
       "      <td>-296</td>\n",
       "      <td>39025</td>\n",
       "      <td>36049</td>\n",
       "      <td>4362</td>\n",
       "      <td>0</td>\n",
       "    </tr>\n",
       "    <tr>\n",
       "      <th>1</th>\n",
       "      <td>1352332801000000</td>\n",
       "      <td>27</td>\n",
       "      <td>0</td>\n",
       "      <td>00270001</td>\n",
       "      <td>2012-11-07</td>\n",
       "      <td>4958</td>\n",
       "      <td>RD</td>\n",
       "      <td>0</td>\n",
       "      <td>-6.393233</td>\n",
       "      <td>53.284412</td>\n",
       "      <td>-879</td>\n",
       "      <td>27014</td>\n",
       "      <td>33230</td>\n",
       "      <td>2622</td>\n",
       "      <td>0</td>\n",
       "    </tr>\n",
       "    <tr>\n",
       "      <th>2</th>\n",
       "      <td>1352332801000000</td>\n",
       "      <td>27</td>\n",
       "      <td>0</td>\n",
       "      <td>077A1001</td>\n",
       "      <td>2012-11-07</td>\n",
       "      <td>4993</td>\n",
       "      <td>RD</td>\n",
       "      <td>0</td>\n",
       "      <td>-6.246746</td>\n",
       "      <td>53.344143</td>\n",
       "      <td>-510</td>\n",
       "      <td>27023</td>\n",
       "      <td>33319</td>\n",
       "      <td>350</td>\n",
       "      <td>0</td>\n",
       "    </tr>\n",
       "    <tr>\n",
       "      <th>3</th>\n",
       "      <td>1352332801000000</td>\n",
       "      <td>76</td>\n",
       "      <td>0</td>\n",
       "      <td>00760001</td>\n",
       "      <td>2012-11-07</td>\n",
       "      <td>4553</td>\n",
       "      <td>CD</td>\n",
       "      <td>0</td>\n",
       "      <td>-6.361800</td>\n",
       "      <td>53.311016</td>\n",
       "      <td>-263</td>\n",
       "      <td>76001</td>\n",
       "      <td>33352</td>\n",
       "      <td>4341</td>\n",
       "      <td>1</td>\n",
       "    </tr>\n",
       "    <tr>\n",
       "      <th>4</th>\n",
       "      <td>1352332801000000</td>\n",
       "      <td>13</td>\n",
       "      <td>0</td>\n",
       "      <td>00131005</td>\n",
       "      <td>2012-11-07</td>\n",
       "      <td>4175</td>\n",
       "      <td>CD</td>\n",
       "      <td>0</td>\n",
       "      <td>-6.279008</td>\n",
       "      <td>53.342808</td>\n",
       "      <td>-156</td>\n",
       "      <td>13003</td>\n",
       "      <td>38063</td>\n",
       "      <td>1998</td>\n",
       "      <td>0</td>\n",
       "    </tr>\n",
       "  </tbody>\n",
       "</table>\n",
       "</div>"
      ],
      "text/plain": [
       "          Timestamp LineId  Direction JourneyPatternId   TimeFrame  \\\n",
       "0  1352332801000000     39          0         00390002  2012-11-07   \n",
       "1  1352332801000000     27          0         00270001  2012-11-07   \n",
       "2  1352332801000000     27          0         077A1001  2012-11-07   \n",
       "3  1352332801000000     76          0         00760001  2012-11-07   \n",
       "4  1352332801000000     13          0         00131005  2012-11-07   \n",
       "\n",
       "   VehicleJourneyId BusOperator  Congestion      Long        Lat  Delay  \\\n",
       "0              3810          PO           0 -6.398326  53.393314   -296   \n",
       "1              4958          RD           0 -6.393233  53.284412   -879   \n",
       "2              4993          RD           0 -6.246746  53.344143   -510   \n",
       "3              4553          CD           0 -6.361800  53.311016   -263   \n",
       "4              4175          CD           0 -6.279008  53.342808   -156   \n",
       "\n",
       "   BlockId  VehicleId StopId  AtStop  \n",
       "0    39025      36049   4362       0  \n",
       "1    27014      33230   2622       0  \n",
       "2    27023      33319    350       0  \n",
       "3    76001      33352   4341       1  \n",
       "4    13003      38063   1998       0  "
      ]
     },
     "execution_count": 4,
     "metadata": {},
     "output_type": "execute_result"
    }
   ],
   "source": [
    "df.head()"
   ]
  },
  {
   "cell_type": "code",
   "execution_count": 5,
   "metadata": {
    "collapsed": true
   },
   "outputs": [],
   "source": [
    "# Constant Column\n",
    "del df[\"Direction\"]"
   ]
  },
  {
   "cell_type": "code",
   "execution_count": 6,
   "metadata": {
    "collapsed": true
   },
   "outputs": [],
   "source": [
    "# Organise the Data\n",
    "df = df.sort_values(['TimeFrame', 'VehicleId', 'VehicleJourneyId', 'Timestamp'], ascending=True)\n",
    "\n",
    "# Clean up index\n",
    "df = df.reset_index()\n",
    "del df['index']"
   ]
  },
  {
   "cell_type": "code",
   "execution_count": 7,
   "metadata": {
    "collapsed": false
   },
   "outputs": [],
   "source": [
    "df.to_csv(\"raw_data.csv\", index=False)"
   ]
  },
  {
   "cell_type": "code",
   "execution_count": 8,
   "metadata": {
    "collapsed": false
   },
   "outputs": [
    {
     "data": {
      "text/html": [
       "<div>\n",
       "<table border=\"1\" class=\"dataframe\">\n",
       "  <thead>\n",
       "    <tr style=\"text-align: right;\">\n",
       "      <th></th>\n",
       "      <th>Timestamp</th>\n",
       "      <th>LineId</th>\n",
       "      <th>JourneyPatternId</th>\n",
       "      <th>TimeFrame</th>\n",
       "      <th>VehicleJourneyId</th>\n",
       "      <th>BusOperator</th>\n",
       "      <th>Congestion</th>\n",
       "      <th>Long</th>\n",
       "      <th>Lat</th>\n",
       "      <th>Delay</th>\n",
       "      <th>BlockId</th>\n",
       "      <th>VehicleId</th>\n",
       "      <th>StopId</th>\n",
       "      <th>AtStop</th>\n",
       "    </tr>\n",
       "  </thead>\n",
       "  <tbody>\n",
       "    <tr>\n",
       "      <th>0</th>\n",
       "      <td>1352332811000000</td>\n",
       "      <td>16</td>\n",
       "      <td>00160001</td>\n",
       "      <td>2012-11-07</td>\n",
       "      <td>5591</td>\n",
       "      <td>SL</td>\n",
       "      <td>0</td>\n",
       "      <td>-6.267933</td>\n",
       "      <td>53.356716</td>\n",
       "      <td>-624</td>\n",
       "      <td>16013</td>\n",
       "      <td>24559</td>\n",
       "      <td>2975</td>\n",
       "      <td>1</td>\n",
       "    </tr>\n",
       "    <tr>\n",
       "      <th>1</th>\n",
       "      <td>1352332831000000</td>\n",
       "      <td>16</td>\n",
       "      <td>00160001</td>\n",
       "      <td>2012-11-07</td>\n",
       "      <td>5591</td>\n",
       "      <td>SL</td>\n",
       "      <td>0</td>\n",
       "      <td>-6.265700</td>\n",
       "      <td>53.356167</td>\n",
       "      <td>-624</td>\n",
       "      <td>16013</td>\n",
       "      <td>24559</td>\n",
       "      <td>2975</td>\n",
       "      <td>1</td>\n",
       "    </tr>\n",
       "    <tr>\n",
       "      <th>2</th>\n",
       "      <td>1352332852000000</td>\n",
       "      <td>16</td>\n",
       "      <td>00160001</td>\n",
       "      <td>2012-11-07</td>\n",
       "      <td>5591</td>\n",
       "      <td>SL</td>\n",
       "      <td>0</td>\n",
       "      <td>-6.265717</td>\n",
       "      <td>53.356152</td>\n",
       "      <td>-624</td>\n",
       "      <td>16013</td>\n",
       "      <td>24559</td>\n",
       "      <td>2975</td>\n",
       "      <td>1</td>\n",
       "    </tr>\n",
       "    <tr>\n",
       "      <th>3</th>\n",
       "      <td>1352332874000000</td>\n",
       "      <td>16</td>\n",
       "      <td>00160001</td>\n",
       "      <td>2012-11-07</td>\n",
       "      <td>5591</td>\n",
       "      <td>SL</td>\n",
       "      <td>0</td>\n",
       "      <td>-6.265666</td>\n",
       "      <td>53.356232</td>\n",
       "      <td>-624</td>\n",
       "      <td>16013</td>\n",
       "      <td>24559</td>\n",
       "      <td>2975</td>\n",
       "      <td>1</td>\n",
       "    </tr>\n",
       "    <tr>\n",
       "      <th>4</th>\n",
       "      <td>1352332892000000</td>\n",
       "      <td>16</td>\n",
       "      <td>00160001</td>\n",
       "      <td>2012-11-07</td>\n",
       "      <td>5591</td>\n",
       "      <td>SL</td>\n",
       "      <td>0</td>\n",
       "      <td>-6.265200</td>\n",
       "      <td>53.356033</td>\n",
       "      <td>-624</td>\n",
       "      <td>16013</td>\n",
       "      <td>24559</td>\n",
       "      <td>2975</td>\n",
       "      <td>1</td>\n",
       "    </tr>\n",
       "  </tbody>\n",
       "</table>\n",
       "</div>"
      ],
      "text/plain": [
       "          Timestamp LineId JourneyPatternId   TimeFrame  VehicleJourneyId  \\\n",
       "0  1352332811000000     16         00160001  2012-11-07              5591   \n",
       "1  1352332831000000     16         00160001  2012-11-07              5591   \n",
       "2  1352332852000000     16         00160001  2012-11-07              5591   \n",
       "3  1352332874000000     16         00160001  2012-11-07              5591   \n",
       "4  1352332892000000     16         00160001  2012-11-07              5591   \n",
       "\n",
       "  BusOperator  Congestion      Long        Lat  Delay  BlockId  VehicleId  \\\n",
       "0          SL           0 -6.267933  53.356716   -624    16013      24559   \n",
       "1          SL           0 -6.265700  53.356167   -624    16013      24559   \n",
       "2          SL           0 -6.265717  53.356152   -624    16013      24559   \n",
       "3          SL           0 -6.265666  53.356232   -624    16013      24559   \n",
       "4          SL           0 -6.265200  53.356033   -624    16013      24559   \n",
       "\n",
       "  StopId  AtStop  \n",
       "0   2975       1  \n",
       "1   2975       1  \n",
       "2   2975       1  \n",
       "3   2975       1  \n",
       "4   2975       1  "
      ]
     },
     "execution_count": 8,
     "metadata": {},
     "output_type": "execute_result"
    }
   ],
   "source": [
    "df.head()"
   ]
  },
  {
   "cell_type": "markdown",
   "metadata": {},
   "source": [
    "## Clean Up Some Aspects of the Dataframe"
   ]
  },
  {
   "cell_type": "code",
   "execution_count": 9,
   "metadata": {
    "collapsed": true
   },
   "outputs": [],
   "source": [
    "\"\"\" Data from the 7th is not reliable, since some journey's continued from the previous day, we must remove it. \"\"\"\n",
    "\n",
    "df = df[df.TimeFrame != '2012-11-07']"
   ]
  },
  {
   "cell_type": "code",
   "execution_count": 10,
   "metadata": {
    "collapsed": true
   },
   "outputs": [],
   "source": [
    "\"\"\" Before each bus begins its journey it may not have a JourneyPatternId and records literal 'null' values instead\n",
    "of actual data. These rows refer to instances where the bus is idle and hasn't moved anywhere, therefore they can \n",
    "confidently be deleted. \"\"\"\n",
    "\n",
    "# Filter out null values\n",
    "df = df[df.JourneyPatternId != 'null']"
   ]
  },
  {
   "cell_type": "code",
   "execution_count": 11,
   "metadata": {
    "collapsed": true
   },
   "outputs": [],
   "source": [
    "# Organise the Data\n",
    "df = df.sort_values(['TimeFrame', 'VehicleId', 'VehicleJourneyId', 'Timestamp'], ascending=True)\n",
    "\n",
    "# Clean up index\n",
    "df = df.reset_index()\n",
    "del df['index']"
   ]
  },
  {
   "cell_type": "code",
   "execution_count": 12,
   "metadata": {
    "collapsed": false
   },
   "outputs": [
    {
     "data": {
      "text/plain": [
       "(4052443, 14)"
      ]
     },
     "execution_count": 12,
     "metadata": {},
     "output_type": "execute_result"
    }
   ],
   "source": [
    "# Check deletion worked\n",
    "df.shape"
   ]
  },
  {
   "cell_type": "code",
   "execution_count": 13,
   "metadata": {
    "collapsed": true
   },
   "outputs": [],
   "source": [
    "# Drop any duplicated rows\n",
    "df = df.drop_duplicates()"
   ]
  },
  {
   "cell_type": "code",
   "execution_count": 33,
   "metadata": {
    "collapsed": false
   },
   "outputs": [],
   "source": [
    "# Organise the Data\n",
    "df = df.sort_values(['TimeFrame', 'VehicleId', 'VehicleJourneyId', 'Timestamp'], ascending=True)\n",
    "\n",
    "# Clean up index\n",
    "df = df.reset_index()\n",
    "del df['index']"
   ]
  },
  {
   "cell_type": "code",
   "execution_count": 15,
   "metadata": {
    "collapsed": false
   },
   "outputs": [
    {
     "data": {
      "text/plain": [
       "(4052443, 14)"
      ]
     },
     "execution_count": 15,
     "metadata": {},
     "output_type": "execute_result"
    }
   ],
   "source": [
    "df.shape"
   ]
  },
  {
   "cell_type": "code",
   "execution_count": 16,
   "metadata": {
    "collapsed": true
   },
   "outputs": [],
   "source": [
    "df.to_csv(\"first_stage.csv\", index=False)"
   ]
  },
  {
   "cell_type": "code",
   "execution_count": 17,
   "metadata": {
    "collapsed": false
   },
   "outputs": [
    {
     "data": {
      "text/html": [
       "<div>\n",
       "<table border=\"1\" class=\"dataframe\">\n",
       "  <thead>\n",
       "    <tr style=\"text-align: right;\">\n",
       "      <th></th>\n",
       "      <th>Timestamp</th>\n",
       "      <th>LineId</th>\n",
       "      <th>JourneyPatternId</th>\n",
       "      <th>TimeFrame</th>\n",
       "      <th>VehicleJourneyId</th>\n",
       "      <th>BusOperator</th>\n",
       "      <th>Congestion</th>\n",
       "      <th>Long</th>\n",
       "      <th>Lat</th>\n",
       "      <th>Delay</th>\n",
       "      <th>BlockId</th>\n",
       "      <th>VehicleId</th>\n",
       "      <th>StopId</th>\n",
       "      <th>AtStop</th>\n",
       "    </tr>\n",
       "  </thead>\n",
       "  <tbody>\n",
       "    <tr>\n",
       "      <th>0</th>\n",
       "      <td>1352356569000000</td>\n",
       "      <td>15</td>\n",
       "      <td>015B0002</td>\n",
       "      <td>2012-11-08</td>\n",
       "      <td>3276</td>\n",
       "      <td>RD</td>\n",
       "      <td>0</td>\n",
       "      <td>-6.233366</td>\n",
       "      <td>53.342232</td>\n",
       "      <td>0</td>\n",
       "      <td>15014</td>\n",
       "      <td>24549</td>\n",
       "      <td>395</td>\n",
       "      <td>1</td>\n",
       "    </tr>\n",
       "    <tr>\n",
       "      <th>1</th>\n",
       "      <td>1352356589000000</td>\n",
       "      <td>15</td>\n",
       "      <td>015B0002</td>\n",
       "      <td>2012-11-08</td>\n",
       "      <td>3276</td>\n",
       "      <td>RD</td>\n",
       "      <td>0</td>\n",
       "      <td>-6.233383</td>\n",
       "      <td>53.342251</td>\n",
       "      <td>0</td>\n",
       "      <td>15014</td>\n",
       "      <td>24549</td>\n",
       "      <td>395</td>\n",
       "      <td>1</td>\n",
       "    </tr>\n",
       "    <tr>\n",
       "      <th>2</th>\n",
       "      <td>1352356607000000</td>\n",
       "      <td>15</td>\n",
       "      <td>015B0002</td>\n",
       "      <td>2012-11-08</td>\n",
       "      <td>3276</td>\n",
       "      <td>RD</td>\n",
       "      <td>0</td>\n",
       "      <td>-6.233383</td>\n",
       "      <td>53.342251</td>\n",
       "      <td>0</td>\n",
       "      <td>15014</td>\n",
       "      <td>24549</td>\n",
       "      <td>395</td>\n",
       "      <td>1</td>\n",
       "    </tr>\n",
       "    <tr>\n",
       "      <th>3</th>\n",
       "      <td>1352356609000000</td>\n",
       "      <td>15</td>\n",
       "      <td>015B0002</td>\n",
       "      <td>2012-11-08</td>\n",
       "      <td>3276</td>\n",
       "      <td>RD</td>\n",
       "      <td>0</td>\n",
       "      <td>-6.233383</td>\n",
       "      <td>53.342216</td>\n",
       "      <td>0</td>\n",
       "      <td>15014</td>\n",
       "      <td>24549</td>\n",
       "      <td>395</td>\n",
       "      <td>1</td>\n",
       "    </tr>\n",
       "    <tr>\n",
       "      <th>4</th>\n",
       "      <td>1352356628000000</td>\n",
       "      <td>15</td>\n",
       "      <td>015B0002</td>\n",
       "      <td>2012-11-08</td>\n",
       "      <td>3276</td>\n",
       "      <td>RD</td>\n",
       "      <td>0</td>\n",
       "      <td>-6.233483</td>\n",
       "      <td>53.342033</td>\n",
       "      <td>0</td>\n",
       "      <td>15014</td>\n",
       "      <td>24549</td>\n",
       "      <td>395</td>\n",
       "      <td>1</td>\n",
       "    </tr>\n",
       "  </tbody>\n",
       "</table>\n",
       "</div>"
      ],
      "text/plain": [
       "          Timestamp LineId JourneyPatternId   TimeFrame  VehicleJourneyId  \\\n",
       "0  1352356569000000     15         015B0002  2012-11-08              3276   \n",
       "1  1352356589000000     15         015B0002  2012-11-08              3276   \n",
       "2  1352356607000000     15         015B0002  2012-11-08              3276   \n",
       "3  1352356609000000     15         015B0002  2012-11-08              3276   \n",
       "4  1352356628000000     15         015B0002  2012-11-08              3276   \n",
       "\n",
       "  BusOperator  Congestion      Long        Lat  Delay  BlockId  VehicleId  \\\n",
       "0          RD           0 -6.233366  53.342232      0    15014      24549   \n",
       "1          RD           0 -6.233383  53.342251      0    15014      24549   \n",
       "2          RD           0 -6.233383  53.342251      0    15014      24549   \n",
       "3          RD           0 -6.233383  53.342216      0    15014      24549   \n",
       "4          RD           0 -6.233483  53.342033      0    15014      24549   \n",
       "\n",
       "  StopId  AtStop  \n",
       "0    395       1  \n",
       "1    395       1  \n",
       "2    395       1  \n",
       "3    395       1  \n",
       "4    395       1  "
      ]
     },
     "execution_count": 17,
     "metadata": {},
     "output_type": "execute_result"
    }
   ],
   "source": [
    "df.head()"
   ]
  },
  {
   "cell_type": "code",
   "execution_count": 34,
   "metadata": {
    "collapsed": true
   },
   "outputs": [],
   "source": [
    "\"\"\" If the GPS coordinates remain the same for the first few rows of data, delete them. \"\"\"\n",
    "\n",
    "\n",
    "for item, row in df.iterrows():\n",
    "    \n",
    "    # For the first iteration\n",
    "    if item == 0:\n",
    "        last_bus_id = row[4]\n",
    "        last_lat = row[8]\n",
    "        last_long = row[7]\n",
    "        new_start = True\n",
    "    \n",
    "    # For every iteration\n",
    "    current_bus_id = row[4]\n",
    "    current_lat = row[8]\n",
    "    current_long = row[7]\n",
    "    \n",
    "    # If it's a different vehicle journey id\n",
    "    if last_bus_id != current_bus_id:\n",
    "        last_bus_id = row[4]\n",
    "        last_lat = row[8]\n",
    "        last_long = row[7]\n",
    "        new_start = True\n",
    "        continue\n",
    "  \n",
    "    # If it's the same journey\n",
    "    if new_start:\n",
    "        if current_lat == last_lat:\n",
    "            if current_long == last_long:\n",
    "                df.set_value(item - 1, \"VehicleJourneyId\", 0)\n",
    "                last_bus_id = row[4]\n",
    "                last_lat = row[8]\n",
    "                last_long = row[7]\n",
    "                \n",
    "    # If it's the same journey but it's moved\n",
    "    if last_bus_id == current_bus_id:\n",
    "        if current_lat != last_lat or current_long != last_long:\n",
    "            new_start = False"
   ]
  },
  {
   "cell_type": "code",
   "execution_count": 35,
   "metadata": {
    "collapsed": true
   },
   "outputs": [],
   "source": [
    "# Filter Out Rows Flagged\n",
    "df = df[df.VehicleJourneyId != 0]"
   ]
  },
  {
   "cell_type": "code",
   "execution_count": 36,
   "metadata": {
    "collapsed": true
   },
   "outputs": [],
   "source": [
    "# Organise the Data\n",
    "df = df.sort_values(['TimeFrame', 'VehicleId', 'VehicleJourneyId', 'Timestamp'], ascending=True)\n",
    "\n",
    "# Clean up index\n",
    "df = df.reset_index()\n",
    "del df['index']"
   ]
  },
  {
   "cell_type": "code",
   "execution_count": 37,
   "metadata": {
    "collapsed": true
   },
   "outputs": [],
   "source": [
    "df.to_csv(\"second_stage.csv\", index=False)"
   ]
  },
  {
   "cell_type": "code",
   "execution_count": 95,
   "metadata": {
    "collapsed": false,
    "scrolled": false
   },
   "outputs": [],
   "source": [
    "# df = pd.read_csv(\"second_stage.csv\", low_memory=False)\n",
    "\n",
    "# Test to see if it worked\n",
    "\n",
    "# test = df[df.VehicleJourneyId == 18]\n",
    "# test[test.TimeFrame=='2012-11-08']"
   ]
  },
  {
   "cell_type": "code",
   "execution_count": 41,
   "metadata": {
    "collapsed": false
   },
   "outputs": [],
   "source": [
    "\"\"\" Now is the important part, there is sometimes noise in the null values previoulsy deleted, in order to only keep \n",
    "the relevent information for each journey we will now filter by removing rows that are more than 90 seconds apart before\n",
    "the bus leaves the first terminal. Since the max space between two transmissions is 60sec, this should remove any outliers\n",
    "which would mess up the distance/time columns to be added later. \"\"\"\n",
    "\n",
    "\n",
    "for item, row in df.iterrows():\n",
    "    \n",
    "    # For the first iteration\n",
    "    if item == 0:\n",
    "        last_bus_id = row[4]\n",
    "        last_time = row[0]\n",
    "        continue\n",
    "    \n",
    "    # For every iteration\n",
    "    current_bus_id = row[4]\n",
    "    current_time = row[0]\n",
    "                \n",
    "    # If it's a different vehicle journey id\n",
    "    if last_bus_id != current_bus_id:\n",
    "        last_bus_id = row[4]\n",
    "        last_time = row[0]\n",
    "        continue\n",
    "        \n",
    "    # If it's the same bus/journey\n",
    "    if last_bus_id == current_bus_id:\n",
    "        if current_time - last_time <= 90000000:\n",
    "            last_bus_id = row[4]\n",
    "            last_time = row[0]\n",
    "            continue\n",
    "  \n",
    "    # If it's the same journey but an outlier has sneaked in...\n",
    "    if current_time - last_time > 90000000:\n",
    "        df.set_value(item - 1, \"Congestion\", 3)\n",
    "        last_bus_id = row[4]\n",
    "        last_time = row[0]"
   ]
  },
  {
   "cell_type": "code",
   "execution_count": 42,
   "metadata": {
    "collapsed": true
   },
   "outputs": [],
   "source": [
    "df = df[df.Congestion != 3]"
   ]
  },
  {
   "cell_type": "code",
   "execution_count": 44,
   "metadata": {
    "collapsed": true
   },
   "outputs": [],
   "source": [
    "# Organise the Data\n",
    "df = df.sort_values(['TimeFrame', 'VehicleId', 'VehicleJourneyId', 'Timestamp'], ascending=True)\n",
    "\n",
    "# Clean up index\n",
    "df = df.reset_index()\n",
    "del df['index']"
   ]
  },
  {
   "cell_type": "code",
   "execution_count": 45,
   "metadata": {
    "collapsed": false
   },
   "outputs": [
    {
     "data": {
      "text/html": [
       "<div>\n",
       "<table border=\"1\" class=\"dataframe\">\n",
       "  <thead>\n",
       "    <tr style=\"text-align: right;\">\n",
       "      <th></th>\n",
       "      <th>Timestamp</th>\n",
       "      <th>LineId</th>\n",
       "      <th>JourneyPatternId</th>\n",
       "      <th>TimeFrame</th>\n",
       "      <th>VehicleJourneyId</th>\n",
       "      <th>BusOperator</th>\n",
       "      <th>Congestion</th>\n",
       "      <th>Long</th>\n",
       "      <th>Lat</th>\n",
       "      <th>Delay</th>\n",
       "      <th>BlockId</th>\n",
       "      <th>VehicleId</th>\n",
       "      <th>StopId</th>\n",
       "      <th>AtStop</th>\n",
       "    </tr>\n",
       "  </thead>\n",
       "  <tbody>\n",
       "    <tr>\n",
       "      <th>0</th>\n",
       "      <td>1.352357e+15</td>\n",
       "      <td>15</td>\n",
       "      <td>015B0002</td>\n",
       "      <td>2012-11-08</td>\n",
       "      <td>3276.0</td>\n",
       "      <td>RD</td>\n",
       "      <td>0.0</td>\n",
       "      <td>-6.233366</td>\n",
       "      <td>53.342232</td>\n",
       "      <td>0.0</td>\n",
       "      <td>15014.0</td>\n",
       "      <td>24549.0</td>\n",
       "      <td>395</td>\n",
       "      <td>1.0</td>\n",
       "    </tr>\n",
       "    <tr>\n",
       "      <th>1</th>\n",
       "      <td>1.352357e+15</td>\n",
       "      <td>15</td>\n",
       "      <td>015B0002</td>\n",
       "      <td>2012-11-08</td>\n",
       "      <td>3276.0</td>\n",
       "      <td>RD</td>\n",
       "      <td>0.0</td>\n",
       "      <td>-6.233383</td>\n",
       "      <td>53.342251</td>\n",
       "      <td>0.0</td>\n",
       "      <td>15014.0</td>\n",
       "      <td>24549.0</td>\n",
       "      <td>395</td>\n",
       "      <td>1.0</td>\n",
       "    </tr>\n",
       "    <tr>\n",
       "      <th>2</th>\n",
       "      <td>1.352357e+15</td>\n",
       "      <td>15</td>\n",
       "      <td>015B0002</td>\n",
       "      <td>2012-11-08</td>\n",
       "      <td>3276.0</td>\n",
       "      <td>RD</td>\n",
       "      <td>0.0</td>\n",
       "      <td>-6.233383</td>\n",
       "      <td>53.342251</td>\n",
       "      <td>0.0</td>\n",
       "      <td>15014.0</td>\n",
       "      <td>24549.0</td>\n",
       "      <td>395</td>\n",
       "      <td>1.0</td>\n",
       "    </tr>\n",
       "    <tr>\n",
       "      <th>3</th>\n",
       "      <td>1.352357e+15</td>\n",
       "      <td>15</td>\n",
       "      <td>015B0002</td>\n",
       "      <td>2012-11-08</td>\n",
       "      <td>3276.0</td>\n",
       "      <td>RD</td>\n",
       "      <td>0.0</td>\n",
       "      <td>-6.233383</td>\n",
       "      <td>53.342216</td>\n",
       "      <td>0.0</td>\n",
       "      <td>15014.0</td>\n",
       "      <td>24549.0</td>\n",
       "      <td>395</td>\n",
       "      <td>1.0</td>\n",
       "    </tr>\n",
       "    <tr>\n",
       "      <th>4</th>\n",
       "      <td>1.352357e+15</td>\n",
       "      <td>15</td>\n",
       "      <td>015B0002</td>\n",
       "      <td>2012-11-08</td>\n",
       "      <td>3276.0</td>\n",
       "      <td>RD</td>\n",
       "      <td>0.0</td>\n",
       "      <td>-6.233483</td>\n",
       "      <td>53.342033</td>\n",
       "      <td>0.0</td>\n",
       "      <td>15014.0</td>\n",
       "      <td>24549.0</td>\n",
       "      <td>395</td>\n",
       "      <td>1.0</td>\n",
       "    </tr>\n",
       "  </tbody>\n",
       "</table>\n",
       "</div>"
      ],
      "text/plain": [
       "      Timestamp LineId JourneyPatternId   TimeFrame  VehicleJourneyId  \\\n",
       "0  1.352357e+15     15         015B0002  2012-11-08            3276.0   \n",
       "1  1.352357e+15     15         015B0002  2012-11-08            3276.0   \n",
       "2  1.352357e+15     15         015B0002  2012-11-08            3276.0   \n",
       "3  1.352357e+15     15         015B0002  2012-11-08            3276.0   \n",
       "4  1.352357e+15     15         015B0002  2012-11-08            3276.0   \n",
       "\n",
       "  BusOperator  Congestion      Long        Lat  Delay  BlockId  VehicleId  \\\n",
       "0          RD         0.0 -6.233366  53.342232    0.0  15014.0    24549.0   \n",
       "1          RD         0.0 -6.233383  53.342251    0.0  15014.0    24549.0   \n",
       "2          RD         0.0 -6.233383  53.342251    0.0  15014.0    24549.0   \n",
       "3          RD         0.0 -6.233383  53.342216    0.0  15014.0    24549.0   \n",
       "4          RD         0.0 -6.233483  53.342033    0.0  15014.0    24549.0   \n",
       "\n",
       "  StopId  AtStop  \n",
       "0    395     1.0  \n",
       "1    395     1.0  \n",
       "2    395     1.0  \n",
       "3    395     1.0  \n",
       "4    395     1.0  "
      ]
     },
     "execution_count": 45,
     "metadata": {},
     "output_type": "execute_result"
    }
   ],
   "source": [
    "df.head()"
   ]
  },
  {
   "cell_type": "code",
   "execution_count": 46,
   "metadata": {
    "collapsed": false
   },
   "outputs": [
    {
     "data": {
      "text/plain": [
       "(3951116, 14)"
      ]
     },
     "execution_count": 46,
     "metadata": {},
     "output_type": "execute_result"
    }
   ],
   "source": [
    "df.shape"
   ]
  },
  {
   "cell_type": "code",
   "execution_count": 47,
   "metadata": {
    "collapsed": true
   },
   "outputs": [],
   "source": [
    "df.to_csv(\"third_stage.csv\", index=False)"
   ]
  },
  {
   "cell_type": "code",
   "execution_count": 48,
   "metadata": {
    "collapsed": true
   },
   "outputs": [],
   "source": [
    "\"\"\" When there is a stream of AtStop == 1 at the start of a journey, these should all be deleted\n",
    "except for the last one. \"\"\"\n",
    "\n",
    "\n",
    "for item, row in df.iterrows():\n",
    "    \n",
    "    # For the first iteration\n",
    "    if item == 0:\n",
    "        last_bus_id = row[4]\n",
    "        last_at_stop = row[13]\n",
    "        new_start = True\n",
    "    \n",
    "    # For every iteration\n",
    "    current_bus_id = row[4]\n",
    "    current_at_stop = row[13]\n",
    "    \n",
    "    # If it's left the terminal or didn't start there\n",
    "    if current_at_stop == 0:\n",
    "        new_start = False\n",
    "    \n",
    "    # If it's staying in the terminal\n",
    "    if current_at_stop == 1 and last_at_stop == 1:\n",
    "        if new_start:\n",
    "            df.set_value(item - 1, \"VehicleJourneyId\", 0)\n",
    "            \n",
    "    # If it's a new bus\n",
    "    if current_bus_id != last_bus_id:\n",
    "        new_start = True\n",
    "        last_bus_id = row[4]\n",
    "        last_at_stop = row[13]"
   ]
  },
  {
   "cell_type": "code",
   "execution_count": 49,
   "metadata": {
    "collapsed": true
   },
   "outputs": [],
   "source": [
    "# Filter Out Rows\n",
    "df = df[df.VehicleJourneyId != 0]"
   ]
  },
  {
   "cell_type": "code",
   "execution_count": 50,
   "metadata": {
    "collapsed": false
   },
   "outputs": [
    {
     "data": {
      "text/plain": [
       "(3908850, 14)"
      ]
     },
     "execution_count": 50,
     "metadata": {},
     "output_type": "execute_result"
    }
   ],
   "source": [
    "# Check\n",
    "df.shape"
   ]
  },
  {
   "cell_type": "code",
   "execution_count": 51,
   "metadata": {
    "collapsed": true
   },
   "outputs": [],
   "source": [
    "# Organise the Data\n",
    "df = df.sort_values(['TimeFrame', 'VehicleId', 'VehicleJourneyId', 'Timestamp'], ascending=True)\n",
    "\n",
    "# Clean up index\n",
    "df = df.reset_index()\n",
    "del df['index']"
   ]
  },
  {
   "cell_type": "code",
   "execution_count": 52,
   "metadata": {
    "collapsed": true
   },
   "outputs": [],
   "source": [
    "df.to_csv(\"fourth_stage.csv\", index=False)"
   ]
  },
  {
   "cell_type": "code",
   "execution_count": 53,
   "metadata": {
    "collapsed": true
   },
   "outputs": [],
   "source": [
    "\"\"\" Some journeys do not register initial stop, we change atStop == 2 when this happens\n",
    "for the first TimeStamp in each VehicleJourneyId. We choose 2 instead of 1 to identify them later if necessary. \"\"\"\n",
    "\n",
    "for item, row in df.iterrows():\n",
    "    \n",
    "    if item == 0:\n",
    "        lastid = row[4]\n",
    "        if row[13] ==  0:\n",
    "            df.set_value(item, 'AtStop', 2)\n",
    "        continue\n",
    "        \n",
    "    currentid = row[4]\n",
    "    \n",
    "    if currentid != lastid:\n",
    "        lastid = currentid\n",
    "        if row[13] ==  0:\n",
    "            df.set_value(item, 'AtStop', 2)"
   ]
  },
  {
   "cell_type": "code",
   "execution_count": 54,
   "metadata": {
    "collapsed": true
   },
   "outputs": [],
   "source": [
    "df.to_csv(\"fifth_stage.csv\", index=False)"
   ]
  },
  {
   "cell_type": "markdown",
   "metadata": {},
   "source": [
    "## Everything Works Up To Here"
   ]
  },
  {
   "cell_type": "code",
   "execution_count": 55,
   "metadata": {
    "collapsed": true
   },
   "outputs": [],
   "source": [
    "\"\"\" Many VehicleJourneyId's have only one row, therefore they tell us nothing useful. These rows can confidently be deleted. \"\"\"\n",
    "\n",
    "\"\"\" Note: I'm not sure this works the way I'd hoped? \"\"\"\n",
    "\n",
    "count = 0\n",
    "\n",
    "for item, row in df.iterrows():\n",
    "    \n",
    "    if item == 0:\n",
    "        last = row[4]\n",
    "        count += 1\n",
    "        continue\n",
    "            \n",
    "    current = row[4]\n",
    "    \n",
    "    if current == last:\n",
    "        last = row[4]\n",
    "        count += 1\n",
    "        continue\n",
    "        \n",
    "    if current != last:\n",
    "        if count == 1:\n",
    "            # Placeholder\n",
    "            df.set_value(item - 1, \"VehicleJourneyId\", 0)\n",
    "        count = 1\n",
    "        last = row[4]"
   ]
  },
  {
   "cell_type": "code",
   "execution_count": 58,
   "metadata": {
    "collapsed": false
   },
   "outputs": [],
   "source": [
    "# Filter Out Rows\n",
    "df = df[df.VehicleJourneyId != 0]"
   ]
  },
  {
   "cell_type": "code",
   "execution_count": 59,
   "metadata": {
    "collapsed": false
   },
   "outputs": [],
   "source": [
    "# Organise the Data\n",
    "df = df.sort_values(['TimeFrame', 'VehicleId', 'VehicleJourneyId', 'Timestamp'], ascending=True)\n",
    "\n",
    "# Clean up index\n",
    "df = df.reset_index()\n",
    "del df['index']"
   ]
  },
  {
   "cell_type": "code",
   "execution_count": 60,
   "metadata": {
    "collapsed": false
   },
   "outputs": [
    {
     "data": {
      "text/plain": [
       "(3900231, 14)"
      ]
     },
     "execution_count": 60,
     "metadata": {},
     "output_type": "execute_result"
    }
   ],
   "source": [
    "df.shape"
   ]
  },
  {
   "cell_type": "code",
   "execution_count": 61,
   "metadata": {
    "collapsed": false
   },
   "outputs": [
    {
     "data": {
      "text/html": [
       "<div>\n",
       "<table border=\"1\" class=\"dataframe\">\n",
       "  <thead>\n",
       "    <tr style=\"text-align: right;\">\n",
       "      <th></th>\n",
       "      <th>Timestamp</th>\n",
       "      <th>LineId</th>\n",
       "      <th>JourneyPatternId</th>\n",
       "      <th>TimeFrame</th>\n",
       "      <th>VehicleJourneyId</th>\n",
       "      <th>BusOperator</th>\n",
       "      <th>Congestion</th>\n",
       "      <th>Long</th>\n",
       "      <th>Lat</th>\n",
       "      <th>Delay</th>\n",
       "      <th>BlockId</th>\n",
       "      <th>VehicleId</th>\n",
       "      <th>StopId</th>\n",
       "      <th>AtStop</th>\n",
       "    </tr>\n",
       "  </thead>\n",
       "  <tbody>\n",
       "    <tr>\n",
       "      <th>0</th>\n",
       "      <td>1.352357e+15</td>\n",
       "      <td>15</td>\n",
       "      <td>015B0002</td>\n",
       "      <td>2012-11-08</td>\n",
       "      <td>3276.0</td>\n",
       "      <td>RD</td>\n",
       "      <td>0.0</td>\n",
       "      <td>-6.233483</td>\n",
       "      <td>53.341969</td>\n",
       "      <td>0.0</td>\n",
       "      <td>15014.0</td>\n",
       "      <td>24549.0</td>\n",
       "      <td>395</td>\n",
       "      <td>1.0</td>\n",
       "    </tr>\n",
       "    <tr>\n",
       "      <th>1</th>\n",
       "      <td>1.352357e+15</td>\n",
       "      <td>15</td>\n",
       "      <td>015B0002</td>\n",
       "      <td>2012-11-08</td>\n",
       "      <td>3276.0</td>\n",
       "      <td>RD</td>\n",
       "      <td>0.0</td>\n",
       "      <td>-6.233750</td>\n",
       "      <td>53.341816</td>\n",
       "      <td>0.0</td>\n",
       "      <td>15014.0</td>\n",
       "      <td>24549.0</td>\n",
       "      <td>396</td>\n",
       "      <td>0.0</td>\n",
       "    </tr>\n",
       "    <tr>\n",
       "      <th>2</th>\n",
       "      <td>1.352357e+15</td>\n",
       "      <td>15</td>\n",
       "      <td>015B0002</td>\n",
       "      <td>2012-11-08</td>\n",
       "      <td>3276.0</td>\n",
       "      <td>RD</td>\n",
       "      <td>0.0</td>\n",
       "      <td>-6.233750</td>\n",
       "      <td>53.341816</td>\n",
       "      <td>0.0</td>\n",
       "      <td>15014.0</td>\n",
       "      <td>24549.0</td>\n",
       "      <td>396</td>\n",
       "      <td>0.0</td>\n",
       "    </tr>\n",
       "    <tr>\n",
       "      <th>3</th>\n",
       "      <td>1.352357e+15</td>\n",
       "      <td>15</td>\n",
       "      <td>015B0002</td>\n",
       "      <td>2012-11-08</td>\n",
       "      <td>3276.0</td>\n",
       "      <td>RD</td>\n",
       "      <td>0.0</td>\n",
       "      <td>-6.235717</td>\n",
       "      <td>53.342083</td>\n",
       "      <td>0.0</td>\n",
       "      <td>15014.0</td>\n",
       "      <td>24549.0</td>\n",
       "      <td>396</td>\n",
       "      <td>0.0</td>\n",
       "    </tr>\n",
       "    <tr>\n",
       "      <th>4</th>\n",
       "      <td>1.352357e+15</td>\n",
       "      <td>15</td>\n",
       "      <td>015B0002</td>\n",
       "      <td>2012-11-08</td>\n",
       "      <td>3276.0</td>\n",
       "      <td>RD</td>\n",
       "      <td>0.0</td>\n",
       "      <td>-6.235717</td>\n",
       "      <td>53.342083</td>\n",
       "      <td>0.0</td>\n",
       "      <td>15014.0</td>\n",
       "      <td>24549.0</td>\n",
       "      <td>396</td>\n",
       "      <td>0.0</td>\n",
       "    </tr>\n",
       "  </tbody>\n",
       "</table>\n",
       "</div>"
      ],
      "text/plain": [
       "      Timestamp LineId JourneyPatternId   TimeFrame  VehicleJourneyId  \\\n",
       "0  1.352357e+15     15         015B0002  2012-11-08            3276.0   \n",
       "1  1.352357e+15     15         015B0002  2012-11-08            3276.0   \n",
       "2  1.352357e+15     15         015B0002  2012-11-08            3276.0   \n",
       "3  1.352357e+15     15         015B0002  2012-11-08            3276.0   \n",
       "4  1.352357e+15     15         015B0002  2012-11-08            3276.0   \n",
       "\n",
       "  BusOperator  Congestion      Long        Lat  Delay  BlockId  VehicleId  \\\n",
       "0          RD         0.0 -6.233483  53.341969    0.0  15014.0    24549.0   \n",
       "1          RD         0.0 -6.233750  53.341816    0.0  15014.0    24549.0   \n",
       "2          RD         0.0 -6.233750  53.341816    0.0  15014.0    24549.0   \n",
       "3          RD         0.0 -6.235717  53.342083    0.0  15014.0    24549.0   \n",
       "4          RD         0.0 -6.235717  53.342083    0.0  15014.0    24549.0   \n",
       "\n",
       "  StopId  AtStop  \n",
       "0    395     1.0  \n",
       "1    396     0.0  \n",
       "2    396     0.0  \n",
       "3    396     0.0  \n",
       "4    396     0.0  "
      ]
     },
     "execution_count": 61,
     "metadata": {},
     "output_type": "execute_result"
    }
   ],
   "source": [
    "# Check that the last entry isn't a unique Vehicle Journey ID because the previous loop will have missed it\n",
    "df.head()"
   ]
  },
  {
   "cell_type": "code",
   "execution_count": 62,
   "metadata": {
    "collapsed": true
   },
   "outputs": [],
   "source": [
    "df.to_csv(\"sixth_stage.csv\", index=False)"
   ]
  },
  {
   "cell_type": "code",
   "execution_count": 91,
   "metadata": {
    "collapsed": false
   },
   "outputs": [],
   "source": [
    "\"\"\" Remove every vehicle journey id which is less than 4 rows long. This is likely just noise in the data. It will also\n",
    "help to get rid of vehicles which broadcasted the wrong vehicle journey id during their idle NULL patterns. \"\"\"\n",
    "\n",
    "x = df.groupby([\"TimeFrame\", \"VehicleId\", \"VehicleJourneyId\"])\n",
    "\n",
    "x = x.filter(lambda x: len(x) >= 4)\n",
    "\n",
    "df = pd.DataFrame(x)"
   ]
  },
  {
   "cell_type": "code",
   "execution_count": 92,
   "metadata": {
    "collapsed": false
   },
   "outputs": [
    {
     "data": {
      "text/html": [
       "<div>\n",
       "<table border=\"1\" class=\"dataframe\">\n",
       "  <thead>\n",
       "    <tr style=\"text-align: right;\">\n",
       "      <th></th>\n",
       "      <th>Timestamp</th>\n",
       "      <th>LineId</th>\n",
       "      <th>JourneyPatternId</th>\n",
       "      <th>TimeFrame</th>\n",
       "      <th>VehicleJourneyId</th>\n",
       "      <th>BusOperator</th>\n",
       "      <th>Congestion</th>\n",
       "      <th>Long</th>\n",
       "      <th>Lat</th>\n",
       "      <th>Delay</th>\n",
       "      <th>BlockId</th>\n",
       "      <th>VehicleId</th>\n",
       "      <th>StopId</th>\n",
       "      <th>AtStop</th>\n",
       "    </tr>\n",
       "  </thead>\n",
       "  <tbody>\n",
       "    <tr>\n",
       "      <th>0</th>\n",
       "      <td>1.352357e+15</td>\n",
       "      <td>15</td>\n",
       "      <td>015B0002</td>\n",
       "      <td>2012-11-08</td>\n",
       "      <td>3276.0</td>\n",
       "      <td>RD</td>\n",
       "      <td>0.0</td>\n",
       "      <td>-6.233483</td>\n",
       "      <td>53.341969</td>\n",
       "      <td>0.0</td>\n",
       "      <td>15014.0</td>\n",
       "      <td>24549.0</td>\n",
       "      <td>395</td>\n",
       "      <td>1.0</td>\n",
       "    </tr>\n",
       "    <tr>\n",
       "      <th>1</th>\n",
       "      <td>1.352357e+15</td>\n",
       "      <td>15</td>\n",
       "      <td>015B0002</td>\n",
       "      <td>2012-11-08</td>\n",
       "      <td>3276.0</td>\n",
       "      <td>RD</td>\n",
       "      <td>0.0</td>\n",
       "      <td>-6.233750</td>\n",
       "      <td>53.341816</td>\n",
       "      <td>0.0</td>\n",
       "      <td>15014.0</td>\n",
       "      <td>24549.0</td>\n",
       "      <td>396</td>\n",
       "      <td>0.0</td>\n",
       "    </tr>\n",
       "    <tr>\n",
       "      <th>2</th>\n",
       "      <td>1.352357e+15</td>\n",
       "      <td>15</td>\n",
       "      <td>015B0002</td>\n",
       "      <td>2012-11-08</td>\n",
       "      <td>3276.0</td>\n",
       "      <td>RD</td>\n",
       "      <td>0.0</td>\n",
       "      <td>-6.233750</td>\n",
       "      <td>53.341816</td>\n",
       "      <td>0.0</td>\n",
       "      <td>15014.0</td>\n",
       "      <td>24549.0</td>\n",
       "      <td>396</td>\n",
       "      <td>0.0</td>\n",
       "    </tr>\n",
       "    <tr>\n",
       "      <th>3</th>\n",
       "      <td>1.352357e+15</td>\n",
       "      <td>15</td>\n",
       "      <td>015B0002</td>\n",
       "      <td>2012-11-08</td>\n",
       "      <td>3276.0</td>\n",
       "      <td>RD</td>\n",
       "      <td>0.0</td>\n",
       "      <td>-6.235717</td>\n",
       "      <td>53.342083</td>\n",
       "      <td>0.0</td>\n",
       "      <td>15014.0</td>\n",
       "      <td>24549.0</td>\n",
       "      <td>396</td>\n",
       "      <td>0.0</td>\n",
       "    </tr>\n",
       "    <tr>\n",
       "      <th>4</th>\n",
       "      <td>1.352357e+15</td>\n",
       "      <td>15</td>\n",
       "      <td>015B0002</td>\n",
       "      <td>2012-11-08</td>\n",
       "      <td>3276.0</td>\n",
       "      <td>RD</td>\n",
       "      <td>0.0</td>\n",
       "      <td>-6.235717</td>\n",
       "      <td>53.342083</td>\n",
       "      <td>0.0</td>\n",
       "      <td>15014.0</td>\n",
       "      <td>24549.0</td>\n",
       "      <td>396</td>\n",
       "      <td>0.0</td>\n",
       "    </tr>\n",
       "  </tbody>\n",
       "</table>\n",
       "</div>"
      ],
      "text/plain": [
       "      Timestamp LineId JourneyPatternId   TimeFrame  VehicleJourneyId  \\\n",
       "0  1.352357e+15     15         015B0002  2012-11-08            3276.0   \n",
       "1  1.352357e+15     15         015B0002  2012-11-08            3276.0   \n",
       "2  1.352357e+15     15         015B0002  2012-11-08            3276.0   \n",
       "3  1.352357e+15     15         015B0002  2012-11-08            3276.0   \n",
       "4  1.352357e+15     15         015B0002  2012-11-08            3276.0   \n",
       "\n",
       "  BusOperator  Congestion      Long        Lat  Delay  BlockId  VehicleId  \\\n",
       "0          RD         0.0 -6.233483  53.341969    0.0  15014.0    24549.0   \n",
       "1          RD         0.0 -6.233750  53.341816    0.0  15014.0    24549.0   \n",
       "2          RD         0.0 -6.233750  53.341816    0.0  15014.0    24549.0   \n",
       "3          RD         0.0 -6.235717  53.342083    0.0  15014.0    24549.0   \n",
       "4          RD         0.0 -6.235717  53.342083    0.0  15014.0    24549.0   \n",
       "\n",
       "  StopId  AtStop  \n",
       "0    395     1.0  \n",
       "1    396     0.0  \n",
       "2    396     0.0  \n",
       "3    396     0.0  \n",
       "4    396     0.0  "
      ]
     },
     "execution_count": 92,
     "metadata": {},
     "output_type": "execute_result"
    }
   ],
   "source": [
    "df.head()"
   ]
  },
  {
   "cell_type": "code",
   "execution_count": 96,
   "metadata": {
    "collapsed": true
   },
   "outputs": [],
   "source": [
    "# Organise the Data\n",
    "df = df.sort_values(['TimeFrame', 'VehicleId', 'VehicleJourneyId', 'Timestamp'], ascending=True)\n",
    "\n",
    "# Clean up index\n",
    "df = df.reset_index()\n",
    "del df['index']"
   ]
  },
  {
   "cell_type": "code",
   "execution_count": 97,
   "metadata": {
    "collapsed": false
   },
   "outputs": [
    {
     "data": {
      "text/plain": [
       "(3898305, 14)"
      ]
     },
     "execution_count": 97,
     "metadata": {},
     "output_type": "execute_result"
    }
   ],
   "source": [
    "df.shape"
   ]
  },
  {
   "cell_type": "code",
   "execution_count": 93,
   "metadata": {
    "collapsed": true
   },
   "outputs": [],
   "source": [
    "df.to_csv(\"seventh_stage.csv\", index=False)"
   ]
  },
  {
   "cell_type": "markdown",
   "metadata": {},
   "source": [
    "## Add Distance Feature"
   ]
  },
  {
   "cell_type": "markdown",
   "metadata": {},
   "source": [
    "Before removing all information in the CSV where the feature AtStop == 0 we must first measure the distance on each route. This requires that we use all rows of data. \n",
    "\n",
    "In order to cut down the time of this loop (which will be costly) first delete all rows which have a literal 'null' value for JourneyPatternId, clean up the noise before each bus journey and finally remove all unique values for VehicleJourneyId. This will significantly reduce the size of the dataframe and the subsequent loop below."
   ]
  },
  {
   "cell_type": "code",
   "execution_count": 98,
   "metadata": {
    "collapsed": true
   },
   "outputs": [],
   "source": [
    "def get_distance(lat1, long1, lat2, long2):\n",
    "    \"\"\" Get distance between two geo coordinates \"\"\"\n",
    "    \n",
    "    stop1 = (lat1, long1)\n",
    "    stop2 = (lat2, long2)\n",
    "    \n",
    "    return vincenty(stop1, stop2).meters"
   ]
  },
  {
   "cell_type": "code",
   "execution_count": 99,
   "metadata": {
    "collapsed": false
   },
   "outputs": [],
   "source": [
    "# List to hold feature\n",
    "distance = list()\n",
    "\n",
    "for item, row in df.iterrows():\n",
    "    \n",
    "    # Set up values on first iteration\n",
    "    if item == 0:\n",
    "        last_lat = row[8]\n",
    "        last_long = row[7]\n",
    "        last_id = row[4]\n",
    "        last_distance = 0\n",
    "        \n",
    "        distance.append(0)\n",
    "        continue\n",
    "    \n",
    "    current_id = row[4]\n",
    "    current_lat = row[8]\n",
    "    current_long = row[7]\n",
    "    current_distance = get_distance(current_lat, current_long, last_lat, last_long)\n",
    "    \n",
    "    # If it's a new Journey ID\n",
    "    if current_id != last_id:\n",
    "        last_id = row[4]\n",
    "        last_lat = row[8]\n",
    "        last_long = row[7]\n",
    "        last_distance = 0\n",
    "        \n",
    "        distance.append(0)\n",
    "        continue\n",
    "     \n",
    "    # If it's not a new Journey ID\n",
    "    current_distance = get_distance(current_lat, current_long, last_lat, last_long)\n",
    "    distance.append(last_distance + current_distance)\n",
    "    \n",
    "    last_distance = distance[-1]\n",
    "    last_lat = row[8]\n",
    "    last_long = row[7]\n",
    "    last_id = row[4]"
   ]
  },
  {
   "cell_type": "code",
   "execution_count": 100,
   "metadata": {
    "collapsed": false
   },
   "outputs": [],
   "source": [
    "df[\"Distance\"] = distance"
   ]
  },
  {
   "cell_type": "code",
   "execution_count": 101,
   "metadata": {
    "collapsed": false
   },
   "outputs": [
    {
     "data": {
      "text/html": [
       "<div>\n",
       "<table border=\"1\" class=\"dataframe\">\n",
       "  <thead>\n",
       "    <tr style=\"text-align: right;\">\n",
       "      <th></th>\n",
       "      <th>Timestamp</th>\n",
       "      <th>LineId</th>\n",
       "      <th>JourneyPatternId</th>\n",
       "      <th>TimeFrame</th>\n",
       "      <th>VehicleJourneyId</th>\n",
       "      <th>BusOperator</th>\n",
       "      <th>Congestion</th>\n",
       "      <th>Long</th>\n",
       "      <th>Lat</th>\n",
       "      <th>Delay</th>\n",
       "      <th>BlockId</th>\n",
       "      <th>VehicleId</th>\n",
       "      <th>StopId</th>\n",
       "      <th>AtStop</th>\n",
       "      <th>Distance</th>\n",
       "    </tr>\n",
       "  </thead>\n",
       "  <tbody>\n",
       "    <tr>\n",
       "      <th>0</th>\n",
       "      <td>1.352357e+15</td>\n",
       "      <td>15</td>\n",
       "      <td>015B0002</td>\n",
       "      <td>2012-11-08</td>\n",
       "      <td>3276.0</td>\n",
       "      <td>RD</td>\n",
       "      <td>0.0</td>\n",
       "      <td>-6.233483</td>\n",
       "      <td>53.341969</td>\n",
       "      <td>0.0</td>\n",
       "      <td>15014.0</td>\n",
       "      <td>24549.0</td>\n",
       "      <td>395</td>\n",
       "      <td>1.0</td>\n",
       "      <td>0.000000</td>\n",
       "    </tr>\n",
       "    <tr>\n",
       "      <th>1</th>\n",
       "      <td>1.352357e+15</td>\n",
       "      <td>15</td>\n",
       "      <td>015B0002</td>\n",
       "      <td>2012-11-08</td>\n",
       "      <td>3276.0</td>\n",
       "      <td>RD</td>\n",
       "      <td>0.0</td>\n",
       "      <td>-6.233750</td>\n",
       "      <td>53.341816</td>\n",
       "      <td>0.0</td>\n",
       "      <td>15014.0</td>\n",
       "      <td>24549.0</td>\n",
       "      <td>396</td>\n",
       "      <td>0.0</td>\n",
       "      <td>24.621231</td>\n",
       "    </tr>\n",
       "    <tr>\n",
       "      <th>2</th>\n",
       "      <td>1.352357e+15</td>\n",
       "      <td>15</td>\n",
       "      <td>015B0002</td>\n",
       "      <td>2012-11-08</td>\n",
       "      <td>3276.0</td>\n",
       "      <td>RD</td>\n",
       "      <td>0.0</td>\n",
       "      <td>-6.233750</td>\n",
       "      <td>53.341816</td>\n",
       "      <td>0.0</td>\n",
       "      <td>15014.0</td>\n",
       "      <td>24549.0</td>\n",
       "      <td>396</td>\n",
       "      <td>0.0</td>\n",
       "      <td>24.621231</td>\n",
       "    </tr>\n",
       "    <tr>\n",
       "      <th>3</th>\n",
       "      <td>1.352357e+15</td>\n",
       "      <td>15</td>\n",
       "      <td>015B0002</td>\n",
       "      <td>2012-11-08</td>\n",
       "      <td>3276.0</td>\n",
       "      <td>RD</td>\n",
       "      <td>0.0</td>\n",
       "      <td>-6.235717</td>\n",
       "      <td>53.342083</td>\n",
       "      <td>0.0</td>\n",
       "      <td>15014.0</td>\n",
       "      <td>24549.0</td>\n",
       "      <td>396</td>\n",
       "      <td>0.0</td>\n",
       "      <td>158.962019</td>\n",
       "    </tr>\n",
       "    <tr>\n",
       "      <th>4</th>\n",
       "      <td>1.352357e+15</td>\n",
       "      <td>15</td>\n",
       "      <td>015B0002</td>\n",
       "      <td>2012-11-08</td>\n",
       "      <td>3276.0</td>\n",
       "      <td>RD</td>\n",
       "      <td>0.0</td>\n",
       "      <td>-6.235717</td>\n",
       "      <td>53.342083</td>\n",
       "      <td>0.0</td>\n",
       "      <td>15014.0</td>\n",
       "      <td>24549.0</td>\n",
       "      <td>396</td>\n",
       "      <td>0.0</td>\n",
       "      <td>158.962019</td>\n",
       "    </tr>\n",
       "  </tbody>\n",
       "</table>\n",
       "</div>"
      ],
      "text/plain": [
       "      Timestamp LineId JourneyPatternId   TimeFrame  VehicleJourneyId  \\\n",
       "0  1.352357e+15     15         015B0002  2012-11-08            3276.0   \n",
       "1  1.352357e+15     15         015B0002  2012-11-08            3276.0   \n",
       "2  1.352357e+15     15         015B0002  2012-11-08            3276.0   \n",
       "3  1.352357e+15     15         015B0002  2012-11-08            3276.0   \n",
       "4  1.352357e+15     15         015B0002  2012-11-08            3276.0   \n",
       "\n",
       "  BusOperator  Congestion      Long        Lat  Delay  BlockId  VehicleId  \\\n",
       "0          RD         0.0 -6.233483  53.341969    0.0  15014.0    24549.0   \n",
       "1          RD         0.0 -6.233750  53.341816    0.0  15014.0    24549.0   \n",
       "2          RD         0.0 -6.233750  53.341816    0.0  15014.0    24549.0   \n",
       "3          RD         0.0 -6.235717  53.342083    0.0  15014.0    24549.0   \n",
       "4          RD         0.0 -6.235717  53.342083    0.0  15014.0    24549.0   \n",
       "\n",
       "  StopId  AtStop    Distance  \n",
       "0    395     1.0    0.000000  \n",
       "1    396     0.0   24.621231  \n",
       "2    396     0.0   24.621231  \n",
       "3    396     0.0  158.962019  \n",
       "4    396     0.0  158.962019  "
      ]
     },
     "execution_count": 101,
     "metadata": {},
     "output_type": "execute_result"
    }
   ],
   "source": [
    "df.head()"
   ]
  },
  {
   "cell_type": "code",
   "execution_count": 103,
   "metadata": {
    "collapsed": true
   },
   "outputs": [],
   "source": [
    "df.to_csv(\"eight_stage.csv\", index=False)"
   ]
  },
  {
   "cell_type": "markdown",
   "metadata": {},
   "source": [
    "## Change Unix Timestamp to Human Readable Format"
   ]
  },
  {
   "cell_type": "code",
   "execution_count": 105,
   "metadata": {
    "collapsed": false
   },
   "outputs": [],
   "source": [
    "# Must be int for division next\n",
    "df['Timestamp'] = df['Timestamp'].apply(int)"
   ]
  },
  {
   "cell_type": "code",
   "execution_count": 107,
   "metadata": {
    "collapsed": false
   },
   "outputs": [],
   "source": [
    "# Change date in bus file to be in standard format instead of unix milliseconds (1:45 mins)\n",
    "for index, row in df.iterrows():\n",
    "\n",
    "    x = row[0]/1000000\n",
    "    df.set_value(index, 'Timestamp', x) "
   ]
  },
  {
   "cell_type": "code",
   "execution_count": 108,
   "metadata": {
    "collapsed": false
   },
   "outputs": [],
   "source": [
    "# For formatting later\n",
    "df['Timestamp'] = df['Timestamp'].apply(str)"
   ]
  },
  {
   "cell_type": "code",
   "execution_count": 109,
   "metadata": {
    "collapsed": false
   },
   "outputs": [],
   "source": [
    "# Change format of date \n",
    "for index, row in df.iterrows():\n",
    "\n",
    "    ts = int(row[0])\n",
    "    x = datetime.datetime.fromtimestamp(ts).strftime('%Y-%m-%d %H:%M:%S')\n",
    "    df.set_value(index, 'Timestamp', str(x))"
   ]
  },
  {
   "cell_type": "code",
   "execution_count": 110,
   "metadata": {
    "collapsed": false
   },
   "outputs": [],
   "source": [
    "# Change Features To Correct Types\n",
    "df['Timestamp'] =  pd.to_datetime(df['Timestamp'], format='%Y-%m-%d %H:%M:%S')\n",
    "df[\"LineId\"] = df[\"LineId\"].astype(\"category\")\n",
    "df[\"JourneyPatternId\"] = df[\"JourneyPatternId\"].astype(\"category\")\n",
    "df[\"TimeFrame\"] = df[\"TimeFrame\"].astype(\"category\")\n",
    "df[\"VehicleJourneyId\"] = df[\"VehicleJourneyId\"].astype(\"category\")\n",
    "df[\"Congestion\"] = df[\"Congestion\"].astype(\"category\")\n",
    "df[\"BlockId\"] = df[\"BlockId\"].astype(\"category\")\n",
    "df[\"StopId\"] = df[\"StopId\"].astype(\"category\")\n",
    "df[\"BusOperator\"] = df[\"BusOperator\"].astype(\"category\")\n",
    "df[\"VehicleId\"] = df[\"VehicleId\"].astype(\"category\")"
   ]
  },
  {
   "cell_type": "code",
   "execution_count": 111,
   "metadata": {
    "collapsed": false
   },
   "outputs": [
    {
     "data": {
      "text/plain": [
       "Timestamp           datetime64[ns]\n",
       "LineId                    category\n",
       "JourneyPatternId          category\n",
       "TimeFrame                 category\n",
       "VehicleJourneyId          category\n",
       "BusOperator               category\n",
       "Congestion                category\n",
       "Long                       float64\n",
       "Lat                        float64\n",
       "Delay                      float64\n",
       "BlockId                   category\n",
       "VehicleId                 category\n",
       "StopId                    category\n",
       "AtStop                     float64\n",
       "Distance                   float64\n",
       "dtype: object"
      ]
     },
     "execution_count": 111,
     "metadata": {},
     "output_type": "execute_result"
    }
   ],
   "source": [
    "df.dtypes"
   ]
  },
  {
   "cell_type": "code",
   "execution_count": 112,
   "metadata": {
    "collapsed": true
   },
   "outputs": [],
   "source": [
    "# Organise the Data\n",
    "df = df.sort_values(['TimeFrame', 'VehicleId', 'VehicleJourneyId', 'Timestamp'], ascending=True)\n",
    "\n",
    "# Clean up index\n",
    "df = df.reset_index()\n",
    "del df['index']"
   ]
  },
  {
   "cell_type": "code",
   "execution_count": 113,
   "metadata": {
    "collapsed": false
   },
   "outputs": [
    {
     "data": {
      "text/plain": [
       "(3898305, 15)"
      ]
     },
     "execution_count": 113,
     "metadata": {},
     "output_type": "execute_result"
    }
   ],
   "source": [
    "df.shape"
   ]
  },
  {
   "cell_type": "code",
   "execution_count": 114,
   "metadata": {
    "collapsed": true
   },
   "outputs": [],
   "source": [
    "df.to_csv(\"ninth_stage.csv\", index=False)"
   ]
  },
  {
   "cell_type": "code",
   "execution_count": 158,
   "metadata": {
    "collapsed": true
   },
   "outputs": [],
   "source": [
    "df = pd.read_csv(\"ninth_stage.csv\", low_memory=False)"
   ]
  },
  {
   "cell_type": "markdown",
   "metadata": {},
   "source": [
    "## Remove AtStop == 0 & Drop Duplicates"
   ]
  },
  {
   "cell_type": "code",
   "execution_count": 159,
   "metadata": {
    "collapsed": true
   },
   "outputs": [],
   "source": [
    "# Now it is safe to filter the dataframe down to when buses are at stops\n",
    "# So stop will be values of 1 and 2 (we added two as a fake stop for some routes)\n",
    "df = df[df.AtStop != 0]"
   ]
  },
  {
   "cell_type": "code",
   "execution_count": 160,
   "metadata": {
    "collapsed": true
   },
   "outputs": [],
   "source": [
    "# Organise the Data\n",
    "df = df.sort_values(['TimeFrame', 'VehicleId', 'VehicleJourneyId', 'Timestamp'], ascending=True)\n",
    "\n",
    "# Clean up index\n",
    "df = df.reset_index()\n",
    "del df['index']"
   ]
  },
  {
   "cell_type": "code",
   "execution_count": 162,
   "metadata": {
    "collapsed": false
   },
   "outputs": [
    {
     "data": {
      "text/plain": [
       "(870462, 15)"
      ]
     },
     "execution_count": 162,
     "metadata": {},
     "output_type": "execute_result"
    }
   ],
   "source": [
    "df.shape"
   ]
  },
  {
   "cell_type": "code",
   "execution_count": 163,
   "metadata": {
    "collapsed": true
   },
   "outputs": [],
   "source": [
    "\"\"\" If the notebook has been followed properly then this cell may be run without loss of valuable data \n",
    "\n",
    "It will delete all duplicates AFTER the first example of each is found. So when the bus arrives at the stop, all subsequent rows\n",
    "at that stop will be deleted. \"\"\"\n",
    "\n",
    "df = df.drop_duplicates([\"TimeFrame\", 'VehicleId', \"VehicleJourneyId\", \"StopId\"])"
   ]
  },
  {
   "cell_type": "code",
   "execution_count": 164,
   "metadata": {
    "collapsed": true
   },
   "outputs": [],
   "source": [
    "# Organise the Data\n",
    "df = df.sort_values(['TimeFrame', 'VehicleId', 'VehicleJourneyId', 'Timestamp'], ascending=True)\n",
    "\n",
    "# Clean up index\n",
    "df = df.reset_index()\n",
    "del df['index']"
   ]
  },
  {
   "cell_type": "code",
   "execution_count": 165,
   "metadata": {
    "collapsed": false
   },
   "outputs": [
    {
     "data": {
      "text/plain": [
       "(393268, 15)"
      ]
     },
     "execution_count": 165,
     "metadata": {},
     "output_type": "execute_result"
    }
   ],
   "source": [
    "# Check size of dataframe\n",
    "df.shape"
   ]
  },
  {
   "cell_type": "code",
   "execution_count": 166,
   "metadata": {
    "collapsed": false,
    "scrolled": true
   },
   "outputs": [
    {
     "data": {
      "text/html": [
       "<div>\n",
       "<table border=\"1\" class=\"dataframe\">\n",
       "  <thead>\n",
       "    <tr style=\"text-align: right;\">\n",
       "      <th></th>\n",
       "      <th>Timestamp</th>\n",
       "      <th>LineId</th>\n",
       "      <th>JourneyPatternId</th>\n",
       "      <th>TimeFrame</th>\n",
       "      <th>VehicleJourneyId</th>\n",
       "      <th>BusOperator</th>\n",
       "      <th>Congestion</th>\n",
       "      <th>Long</th>\n",
       "      <th>Lat</th>\n",
       "      <th>Delay</th>\n",
       "      <th>BlockId</th>\n",
       "      <th>VehicleId</th>\n",
       "      <th>StopId</th>\n",
       "      <th>AtStop</th>\n",
       "      <th>Distance</th>\n",
       "    </tr>\n",
       "  </thead>\n",
       "  <tbody>\n",
       "    <tr>\n",
       "      <th>0</th>\n",
       "      <td>2012-11-08 06:37:28</td>\n",
       "      <td>15</td>\n",
       "      <td>015B0002</td>\n",
       "      <td>2012-11-08</td>\n",
       "      <td>3276.0</td>\n",
       "      <td>RD</td>\n",
       "      <td>0.0</td>\n",
       "      <td>-6.233483</td>\n",
       "      <td>53.341969</td>\n",
       "      <td>0.0</td>\n",
       "      <td>15014.0</td>\n",
       "      <td>24549.0</td>\n",
       "      <td>395</td>\n",
       "      <td>1.0</td>\n",
       "      <td>0.000000</td>\n",
       "    </tr>\n",
       "    <tr>\n",
       "      <th>1</th>\n",
       "      <td>2012-11-08 06:48:23</td>\n",
       "      <td>15</td>\n",
       "      <td>015B0002</td>\n",
       "      <td>2012-11-08</td>\n",
       "      <td>3276.0</td>\n",
       "      <td>RD</td>\n",
       "      <td>0.0</td>\n",
       "      <td>-6.256696</td>\n",
       "      <td>53.342678</td>\n",
       "      <td>69.0</td>\n",
       "      <td>15014.0</td>\n",
       "      <td>24549.0</td>\n",
       "      <td>403</td>\n",
       "      <td>1.0</td>\n",
       "      <td>2706.310938</td>\n",
       "    </tr>\n",
       "    <tr>\n",
       "      <th>2</th>\n",
       "      <td>2012-11-08 06:57:04</td>\n",
       "      <td>15</td>\n",
       "      <td>015B0002</td>\n",
       "      <td>2012-11-08</td>\n",
       "      <td>3276.0</td>\n",
       "      <td>RD</td>\n",
       "      <td>0.0</td>\n",
       "      <td>-6.266577</td>\n",
       "      <td>53.321621</td>\n",
       "      <td>58.0</td>\n",
       "      <td>15014.0</td>\n",
       "      <td>24549.0</td>\n",
       "      <td>1077</td>\n",
       "      <td>1.0</td>\n",
       "      <td>5525.509641</td>\n",
       "    </tr>\n",
       "    <tr>\n",
       "      <th>3</th>\n",
       "      <td>2012-11-08 07:16:52</td>\n",
       "      <td>15</td>\n",
       "      <td>015B0002</td>\n",
       "      <td>2012-11-08</td>\n",
       "      <td>3276.0</td>\n",
       "      <td>RD</td>\n",
       "      <td>0.0</td>\n",
       "      <td>-6.327800</td>\n",
       "      <td>53.270649</td>\n",
       "      <td>-309.0</td>\n",
       "      <td>15014.0</td>\n",
       "      <td>24549.0</td>\n",
       "      <td>6280</td>\n",
       "      <td>1.0</td>\n",
       "      <td>15187.807339</td>\n",
       "    </tr>\n",
       "    <tr>\n",
       "      <th>4</th>\n",
       "      <td>2012-11-08 07:50:33</td>\n",
       "      <td>15</td>\n",
       "      <td>015B1001</td>\n",
       "      <td>2012-11-08</td>\n",
       "      <td>3277.0</td>\n",
       "      <td>RD</td>\n",
       "      <td>0.0</td>\n",
       "      <td>-6.326270</td>\n",
       "      <td>53.271095</td>\n",
       "      <td>28.0</td>\n",
       "      <td>15014.0</td>\n",
       "      <td>24549.0</td>\n",
       "      <td>6285</td>\n",
       "      <td>1.0</td>\n",
       "      <td>0.000000</td>\n",
       "    </tr>\n",
       "  </tbody>\n",
       "</table>\n",
       "</div>"
      ],
      "text/plain": [
       "             Timestamp LineId JourneyPatternId   TimeFrame  VehicleJourneyId  \\\n",
       "0  2012-11-08 06:37:28     15         015B0002  2012-11-08            3276.0   \n",
       "1  2012-11-08 06:48:23     15         015B0002  2012-11-08            3276.0   \n",
       "2  2012-11-08 06:57:04     15         015B0002  2012-11-08            3276.0   \n",
       "3  2012-11-08 07:16:52     15         015B0002  2012-11-08            3276.0   \n",
       "4  2012-11-08 07:50:33     15         015B1001  2012-11-08            3277.0   \n",
       "\n",
       "  BusOperator  Congestion      Long        Lat  Delay  BlockId  VehicleId  \\\n",
       "0          RD         0.0 -6.233483  53.341969    0.0  15014.0    24549.0   \n",
       "1          RD         0.0 -6.256696  53.342678   69.0  15014.0    24549.0   \n",
       "2          RD         0.0 -6.266577  53.321621   58.0  15014.0    24549.0   \n",
       "3          RD         0.0 -6.327800  53.270649 -309.0  15014.0    24549.0   \n",
       "4          RD         0.0 -6.326270  53.271095   28.0  15014.0    24549.0   \n",
       "\n",
       "  StopId  AtStop      Distance  \n",
       "0    395     1.0      0.000000  \n",
       "1    403     1.0   2706.310938  \n",
       "2   1077     1.0   5525.509641  \n",
       "3   6280     1.0  15187.807339  \n",
       "4   6285     1.0      0.000000  "
      ]
     },
     "execution_count": 166,
     "metadata": {},
     "output_type": "execute_result"
    }
   ],
   "source": [
    "df.head()"
   ]
  },
  {
   "cell_type": "code",
   "execution_count": 168,
   "metadata": {
    "collapsed": false
   },
   "outputs": [
    {
     "data": {
      "text/plain": [
       "Timestamp            object\n",
       "LineId               object\n",
       "JourneyPatternId     object\n",
       "TimeFrame            object\n",
       "VehicleJourneyId    float64\n",
       "BusOperator          object\n",
       "Congestion          float64\n",
       "Long                float64\n",
       "Lat                 float64\n",
       "Delay               float64\n",
       "BlockId             float64\n",
       "VehicleId           float64\n",
       "StopId               object\n",
       "AtStop              float64\n",
       "Distance            float64\n",
       "dtype: object"
      ]
     },
     "execution_count": 168,
     "metadata": {},
     "output_type": "execute_result"
    }
   ],
   "source": [
    "df.dtypes"
   ]
  },
  {
   "cell_type": "code",
   "execution_count": 169,
   "metadata": {
    "collapsed": true
   },
   "outputs": [],
   "source": [
    "df['Timestamp'] =  pd.to_datetime(df['Timestamp'], format='%Y-%m-%d %H:%M:%S')"
   ]
  },
  {
   "cell_type": "markdown",
   "metadata": {},
   "source": [
    "## Add Time Taken Feature"
   ]
  },
  {
   "cell_type": "code",
   "execution_count": 170,
   "metadata": {
    "collapsed": false
   },
   "outputs": [],
   "source": [
    "# List to hold features\n",
    "travel_time = list()\n",
    "\n",
    "for item, row in df.iterrows():\n",
    "    \n",
    "    # Set up values on first iteration\n",
    "    if item == 0:\n",
    "        last_id = row[4]\n",
    "        start_time = row[0]\n",
    "        travel_time.append(0.0)\n",
    "        continue\n",
    "    \n",
    "    current_time = row[0]\n",
    "    current_id = row[4]\n",
    "    \n",
    "    # If it's a new Journey ID\n",
    "    if current_id != last_id:\n",
    "        last_id = row[4]        \n",
    "        start_time = row[0]        \n",
    "        travel_time.append(0.0)\n",
    "        continue\n",
    "        \n",
    "    travel_time.append(abs((current_time - start_time).total_seconds()))    \n",
    "    last_time = row[0]\n",
    "    last_id = row[4]"
   ]
  },
  {
   "cell_type": "code",
   "execution_count": 171,
   "metadata": {
    "collapsed": true
   },
   "outputs": [],
   "source": [
    "df[\"TravelTime\"] = travel_time"
   ]
  },
  {
   "cell_type": "code",
   "execution_count": 172,
   "metadata": {
    "collapsed": false,
    "scrolled": true
   },
   "outputs": [
    {
     "data": {
      "text/html": [
       "<div>\n",
       "<table border=\"1\" class=\"dataframe\">\n",
       "  <thead>\n",
       "    <tr style=\"text-align: right;\">\n",
       "      <th></th>\n",
       "      <th>Timestamp</th>\n",
       "      <th>LineId</th>\n",
       "      <th>JourneyPatternId</th>\n",
       "      <th>TimeFrame</th>\n",
       "      <th>VehicleJourneyId</th>\n",
       "      <th>BusOperator</th>\n",
       "      <th>Congestion</th>\n",
       "      <th>Long</th>\n",
       "      <th>Lat</th>\n",
       "      <th>Delay</th>\n",
       "      <th>BlockId</th>\n",
       "      <th>VehicleId</th>\n",
       "      <th>StopId</th>\n",
       "      <th>AtStop</th>\n",
       "      <th>Distance</th>\n",
       "      <th>TravelTime</th>\n",
       "    </tr>\n",
       "  </thead>\n",
       "  <tbody>\n",
       "    <tr>\n",
       "      <th>0</th>\n",
       "      <td>2012-11-08 06:37:28</td>\n",
       "      <td>15</td>\n",
       "      <td>015B0002</td>\n",
       "      <td>2012-11-08</td>\n",
       "      <td>3276.0</td>\n",
       "      <td>RD</td>\n",
       "      <td>0.0</td>\n",
       "      <td>-6.233483</td>\n",
       "      <td>53.341969</td>\n",
       "      <td>0.0</td>\n",
       "      <td>15014.0</td>\n",
       "      <td>24549.0</td>\n",
       "      <td>395</td>\n",
       "      <td>1.0</td>\n",
       "      <td>0.000000</td>\n",
       "      <td>0.0</td>\n",
       "    </tr>\n",
       "    <tr>\n",
       "      <th>1</th>\n",
       "      <td>2012-11-08 06:48:23</td>\n",
       "      <td>15</td>\n",
       "      <td>015B0002</td>\n",
       "      <td>2012-11-08</td>\n",
       "      <td>3276.0</td>\n",
       "      <td>RD</td>\n",
       "      <td>0.0</td>\n",
       "      <td>-6.256696</td>\n",
       "      <td>53.342678</td>\n",
       "      <td>69.0</td>\n",
       "      <td>15014.0</td>\n",
       "      <td>24549.0</td>\n",
       "      <td>403</td>\n",
       "      <td>1.0</td>\n",
       "      <td>2706.310938</td>\n",
       "      <td>655.0</td>\n",
       "    </tr>\n",
       "    <tr>\n",
       "      <th>2</th>\n",
       "      <td>2012-11-08 06:57:04</td>\n",
       "      <td>15</td>\n",
       "      <td>015B0002</td>\n",
       "      <td>2012-11-08</td>\n",
       "      <td>3276.0</td>\n",
       "      <td>RD</td>\n",
       "      <td>0.0</td>\n",
       "      <td>-6.266577</td>\n",
       "      <td>53.321621</td>\n",
       "      <td>58.0</td>\n",
       "      <td>15014.0</td>\n",
       "      <td>24549.0</td>\n",
       "      <td>1077</td>\n",
       "      <td>1.0</td>\n",
       "      <td>5525.509641</td>\n",
       "      <td>1176.0</td>\n",
       "    </tr>\n",
       "    <tr>\n",
       "      <th>3</th>\n",
       "      <td>2012-11-08 07:16:52</td>\n",
       "      <td>15</td>\n",
       "      <td>015B0002</td>\n",
       "      <td>2012-11-08</td>\n",
       "      <td>3276.0</td>\n",
       "      <td>RD</td>\n",
       "      <td>0.0</td>\n",
       "      <td>-6.327800</td>\n",
       "      <td>53.270649</td>\n",
       "      <td>-309.0</td>\n",
       "      <td>15014.0</td>\n",
       "      <td>24549.0</td>\n",
       "      <td>6280</td>\n",
       "      <td>1.0</td>\n",
       "      <td>15187.807339</td>\n",
       "      <td>2364.0</td>\n",
       "    </tr>\n",
       "    <tr>\n",
       "      <th>4</th>\n",
       "      <td>2012-11-08 07:50:33</td>\n",
       "      <td>15</td>\n",
       "      <td>015B1001</td>\n",
       "      <td>2012-11-08</td>\n",
       "      <td>3277.0</td>\n",
       "      <td>RD</td>\n",
       "      <td>0.0</td>\n",
       "      <td>-6.326270</td>\n",
       "      <td>53.271095</td>\n",
       "      <td>28.0</td>\n",
       "      <td>15014.0</td>\n",
       "      <td>24549.0</td>\n",
       "      <td>6285</td>\n",
       "      <td>1.0</td>\n",
       "      <td>0.000000</td>\n",
       "      <td>0.0</td>\n",
       "    </tr>\n",
       "  </tbody>\n",
       "</table>\n",
       "</div>"
      ],
      "text/plain": [
       "            Timestamp LineId JourneyPatternId   TimeFrame  VehicleJourneyId  \\\n",
       "0 2012-11-08 06:37:28     15         015B0002  2012-11-08            3276.0   \n",
       "1 2012-11-08 06:48:23     15         015B0002  2012-11-08            3276.0   \n",
       "2 2012-11-08 06:57:04     15         015B0002  2012-11-08            3276.0   \n",
       "3 2012-11-08 07:16:52     15         015B0002  2012-11-08            3276.0   \n",
       "4 2012-11-08 07:50:33     15         015B1001  2012-11-08            3277.0   \n",
       "\n",
       "  BusOperator  Congestion      Long        Lat  Delay  BlockId  VehicleId  \\\n",
       "0          RD         0.0 -6.233483  53.341969    0.0  15014.0    24549.0   \n",
       "1          RD         0.0 -6.256696  53.342678   69.0  15014.0    24549.0   \n",
       "2          RD         0.0 -6.266577  53.321621   58.0  15014.0    24549.0   \n",
       "3          RD         0.0 -6.327800  53.270649 -309.0  15014.0    24549.0   \n",
       "4          RD         0.0 -6.326270  53.271095   28.0  15014.0    24549.0   \n",
       "\n",
       "  StopId  AtStop      Distance  TravelTime  \n",
       "0    395     1.0      0.000000         0.0  \n",
       "1    403     1.0   2706.310938       655.0  \n",
       "2   1077     1.0   5525.509641      1176.0  \n",
       "3   6280     1.0  15187.807339      2364.0  \n",
       "4   6285     1.0      0.000000         0.0  "
      ]
     },
     "execution_count": 172,
     "metadata": {},
     "output_type": "execute_result"
    }
   ],
   "source": [
    "df.head()"
   ]
  },
  {
   "cell_type": "code",
   "execution_count": 173,
   "metadata": {
    "collapsed": true
   },
   "outputs": [],
   "source": [
    "df.to_csv(\"tenth_stage.csv\", index=False)"
   ]
  },
  {
   "cell_type": "markdown",
   "metadata": {},
   "source": [
    "## Add Weekday Feature"
   ]
  },
  {
   "cell_type": "code",
   "execution_count": 174,
   "metadata": {
    "collapsed": false
   },
   "outputs": [],
   "source": [
    "df['Weekday'] = df['Timestamp'].dt.dayofweek"
   ]
  },
  {
   "cell_type": "code",
   "execution_count": 175,
   "metadata": {
    "collapsed": true
   },
   "outputs": [],
   "source": [
    "# Convert to correct datatype\n",
    "df[\"Weekday\"] = df[\"Weekday\"].astype(\"category\")"
   ]
  },
  {
   "cell_type": "markdown",
   "metadata": {},
   "source": [
    "## Add Time Category"
   ]
  },
  {
   "cell_type": "code",
   "execution_count": 176,
   "metadata": {
    "collapsed": true
   },
   "outputs": [],
   "source": [
    "# Convert to temp datatype\n",
    "df[\"Timestamp\"] = df[\"Timestamp\"].astype(str)"
   ]
  },
  {
   "cell_type": "code",
   "execution_count": 177,
   "metadata": {
    "collapsed": false
   },
   "outputs": [],
   "source": [
    "time_cat = list()\n",
    "\n",
    "for item, row in df.iterrows():\n",
    "    \n",
    "    s = row[0][-8:]\n",
    "    temp = s.split(\":\")\n",
    "\n",
    "    if int(temp[1]) < 30:\n",
    "        mins = \"00\"\n",
    "    else:\n",
    "        mins = \"30\"\n",
    "\n",
    "    ans = temp[0] + \":\" + mins\n",
    "    \n",
    "    time_cat.append(ans)"
   ]
  },
  {
   "cell_type": "code",
   "execution_count": 178,
   "metadata": {
    "collapsed": false
   },
   "outputs": [],
   "source": [
    "df[\"TimeCategory\"] = time_cat"
   ]
  },
  {
   "cell_type": "code",
   "execution_count": 179,
   "metadata": {
    "collapsed": false
   },
   "outputs": [
    {
     "data": {
      "text/html": [
       "<div>\n",
       "<table border=\"1\" class=\"dataframe\">\n",
       "  <thead>\n",
       "    <tr style=\"text-align: right;\">\n",
       "      <th></th>\n",
       "      <th>Timestamp</th>\n",
       "      <th>LineId</th>\n",
       "      <th>JourneyPatternId</th>\n",
       "      <th>TimeFrame</th>\n",
       "      <th>VehicleJourneyId</th>\n",
       "      <th>BusOperator</th>\n",
       "      <th>Congestion</th>\n",
       "      <th>Long</th>\n",
       "      <th>Lat</th>\n",
       "      <th>Delay</th>\n",
       "      <th>BlockId</th>\n",
       "      <th>VehicleId</th>\n",
       "      <th>StopId</th>\n",
       "      <th>AtStop</th>\n",
       "      <th>Distance</th>\n",
       "      <th>TravelTime</th>\n",
       "      <th>Weekday</th>\n",
       "      <th>TimeCategory</th>\n",
       "    </tr>\n",
       "  </thead>\n",
       "  <tbody>\n",
       "    <tr>\n",
       "      <th>0</th>\n",
       "      <td>2012-11-08 06:37:28</td>\n",
       "      <td>15</td>\n",
       "      <td>015B0002</td>\n",
       "      <td>2012-11-08</td>\n",
       "      <td>3276.0</td>\n",
       "      <td>RD</td>\n",
       "      <td>0.0</td>\n",
       "      <td>-6.233483</td>\n",
       "      <td>53.341969</td>\n",
       "      <td>0.0</td>\n",
       "      <td>15014.0</td>\n",
       "      <td>24549.0</td>\n",
       "      <td>395</td>\n",
       "      <td>1.0</td>\n",
       "      <td>0.000000</td>\n",
       "      <td>0.0</td>\n",
       "      <td>3</td>\n",
       "      <td>06:30</td>\n",
       "    </tr>\n",
       "    <tr>\n",
       "      <th>1</th>\n",
       "      <td>2012-11-08 06:48:23</td>\n",
       "      <td>15</td>\n",
       "      <td>015B0002</td>\n",
       "      <td>2012-11-08</td>\n",
       "      <td>3276.0</td>\n",
       "      <td>RD</td>\n",
       "      <td>0.0</td>\n",
       "      <td>-6.256696</td>\n",
       "      <td>53.342678</td>\n",
       "      <td>69.0</td>\n",
       "      <td>15014.0</td>\n",
       "      <td>24549.0</td>\n",
       "      <td>403</td>\n",
       "      <td>1.0</td>\n",
       "      <td>2706.310938</td>\n",
       "      <td>655.0</td>\n",
       "      <td>3</td>\n",
       "      <td>06:30</td>\n",
       "    </tr>\n",
       "    <tr>\n",
       "      <th>2</th>\n",
       "      <td>2012-11-08 06:57:04</td>\n",
       "      <td>15</td>\n",
       "      <td>015B0002</td>\n",
       "      <td>2012-11-08</td>\n",
       "      <td>3276.0</td>\n",
       "      <td>RD</td>\n",
       "      <td>0.0</td>\n",
       "      <td>-6.266577</td>\n",
       "      <td>53.321621</td>\n",
       "      <td>58.0</td>\n",
       "      <td>15014.0</td>\n",
       "      <td>24549.0</td>\n",
       "      <td>1077</td>\n",
       "      <td>1.0</td>\n",
       "      <td>5525.509641</td>\n",
       "      <td>1176.0</td>\n",
       "      <td>3</td>\n",
       "      <td>06:30</td>\n",
       "    </tr>\n",
       "    <tr>\n",
       "      <th>3</th>\n",
       "      <td>2012-11-08 07:16:52</td>\n",
       "      <td>15</td>\n",
       "      <td>015B0002</td>\n",
       "      <td>2012-11-08</td>\n",
       "      <td>3276.0</td>\n",
       "      <td>RD</td>\n",
       "      <td>0.0</td>\n",
       "      <td>-6.327800</td>\n",
       "      <td>53.270649</td>\n",
       "      <td>-309.0</td>\n",
       "      <td>15014.0</td>\n",
       "      <td>24549.0</td>\n",
       "      <td>6280</td>\n",
       "      <td>1.0</td>\n",
       "      <td>15187.807339</td>\n",
       "      <td>2364.0</td>\n",
       "      <td>3</td>\n",
       "      <td>07:00</td>\n",
       "    </tr>\n",
       "    <tr>\n",
       "      <th>4</th>\n",
       "      <td>2012-11-08 07:50:33</td>\n",
       "      <td>15</td>\n",
       "      <td>015B1001</td>\n",
       "      <td>2012-11-08</td>\n",
       "      <td>3277.0</td>\n",
       "      <td>RD</td>\n",
       "      <td>0.0</td>\n",
       "      <td>-6.326270</td>\n",
       "      <td>53.271095</td>\n",
       "      <td>28.0</td>\n",
       "      <td>15014.0</td>\n",
       "      <td>24549.0</td>\n",
       "      <td>6285</td>\n",
       "      <td>1.0</td>\n",
       "      <td>0.000000</td>\n",
       "      <td>0.0</td>\n",
       "      <td>3</td>\n",
       "      <td>07:30</td>\n",
       "    </tr>\n",
       "  </tbody>\n",
       "</table>\n",
       "</div>"
      ],
      "text/plain": [
       "             Timestamp LineId JourneyPatternId   TimeFrame  VehicleJourneyId  \\\n",
       "0  2012-11-08 06:37:28     15         015B0002  2012-11-08            3276.0   \n",
       "1  2012-11-08 06:48:23     15         015B0002  2012-11-08            3276.0   \n",
       "2  2012-11-08 06:57:04     15         015B0002  2012-11-08            3276.0   \n",
       "3  2012-11-08 07:16:52     15         015B0002  2012-11-08            3276.0   \n",
       "4  2012-11-08 07:50:33     15         015B1001  2012-11-08            3277.0   \n",
       "\n",
       "  BusOperator  Congestion      Long        Lat  Delay  BlockId  VehicleId  \\\n",
       "0          RD         0.0 -6.233483  53.341969    0.0  15014.0    24549.0   \n",
       "1          RD         0.0 -6.256696  53.342678   69.0  15014.0    24549.0   \n",
       "2          RD         0.0 -6.266577  53.321621   58.0  15014.0    24549.0   \n",
       "3          RD         0.0 -6.327800  53.270649 -309.0  15014.0    24549.0   \n",
       "4          RD         0.0 -6.326270  53.271095   28.0  15014.0    24549.0   \n",
       "\n",
       "  StopId  AtStop      Distance  TravelTime Weekday TimeCategory  \n",
       "0    395     1.0      0.000000         0.0       3        06:30  \n",
       "1    403     1.0   2706.310938       655.0       3        06:30  \n",
       "2   1077     1.0   5525.509641      1176.0       3        06:30  \n",
       "3   6280     1.0  15187.807339      2364.0       3        07:00  \n",
       "4   6285     1.0      0.000000         0.0       3        07:30  "
      ]
     },
     "execution_count": 179,
     "metadata": {},
     "output_type": "execute_result"
    }
   ],
   "source": [
    "df.head()"
   ]
  },
  {
   "cell_type": "markdown",
   "metadata": {},
   "source": [
    "## Make Final Changes To Datatypes"
   ]
  },
  {
   "cell_type": "code",
   "execution_count": 180,
   "metadata": {
    "collapsed": false
   },
   "outputs": [
    {
     "data": {
      "text/plain": [
       "Timestamp             object\n",
       "LineId                object\n",
       "JourneyPatternId      object\n",
       "TimeFrame             object\n",
       "VehicleJourneyId     float64\n",
       "BusOperator           object\n",
       "Congestion           float64\n",
       "Long                 float64\n",
       "Lat                  float64\n",
       "Delay                float64\n",
       "BlockId              float64\n",
       "VehicleId            float64\n",
       "StopId                object\n",
       "AtStop               float64\n",
       "Distance             float64\n",
       "TravelTime           float64\n",
       "Weekday             category\n",
       "TimeCategory          object\n",
       "dtype: object"
      ]
     },
     "execution_count": 180,
     "metadata": {},
     "output_type": "execute_result"
    }
   ],
   "source": [
    "df.dtypes"
   ]
  },
  {
   "cell_type": "code",
   "execution_count": 181,
   "metadata": {
    "collapsed": true
   },
   "outputs": [],
   "source": [
    "df[\"VehicleJourneyId\"] = df[\"VehicleJourneyId\"].astype(int)\n",
    "df[\"Congestion\"] = df[\"Congestion\"].astype(int)\n",
    "df[\"BlockId\"] = df[\"BlockId\"].astype(int)\n",
    "df[\"VehicleId\"] = df[\"VehicleId\"].astype(int)\n",
    "df[\"Delay\"] = df[\"Delay\"].astype(int)\n",
    "df[\"TravelTime\"] = df[\"TravelTime\"].astype(int)"
   ]
  },
  {
   "cell_type": "code",
   "execution_count": 182,
   "metadata": {
    "collapsed": true
   },
   "outputs": [],
   "source": [
    "df[\"VehicleJourneyId\"] = df[\"VehicleJourneyId\"].astype('category')\n",
    "df[\"Congestion\"] = df[\"Congestion\"].astype('category')\n",
    "df[\"BlockId\"] = df[\"BlockId\"].astype('category')\n",
    "df[\"VehicleId\"] = df[\"VehicleId\"].astype('category')\n",
    "df[\"TimeCategory\"] = df[\"TimeCategory\"].astype('category')\n",
    "df['Timestamp'] =  pd.to_datetime(df['Timestamp'], format='%Y-%m-%d %H:%M:%S')"
   ]
  },
  {
   "cell_type": "code",
   "execution_count": 183,
   "metadata": {
    "collapsed": false
   },
   "outputs": [
    {
     "data": {
      "text/plain": [
       "Timestamp           datetime64[ns]\n",
       "LineId                      object\n",
       "JourneyPatternId            object\n",
       "TimeFrame                   object\n",
       "VehicleJourneyId          category\n",
       "BusOperator                 object\n",
       "Congestion                category\n",
       "Long                       float64\n",
       "Lat                        float64\n",
       "Delay                        int32\n",
       "BlockId                   category\n",
       "VehicleId                 category\n",
       "StopId                      object\n",
       "AtStop                     float64\n",
       "Distance                   float64\n",
       "TravelTime                   int32\n",
       "Weekday                   category\n",
       "TimeCategory              category\n",
       "dtype: object"
      ]
     },
     "execution_count": 183,
     "metadata": {},
     "output_type": "execute_result"
    }
   ],
   "source": [
    "df.dtypes"
   ]
  },
  {
   "cell_type": "code",
   "execution_count": 184,
   "metadata": {
    "collapsed": false
   },
   "outputs": [
    {
     "data": {
      "text/html": [
       "<div>\n",
       "<table border=\"1\" class=\"dataframe\">\n",
       "  <thead>\n",
       "    <tr style=\"text-align: right;\">\n",
       "      <th></th>\n",
       "      <th>Timestamp</th>\n",
       "      <th>LineId</th>\n",
       "      <th>JourneyPatternId</th>\n",
       "      <th>TimeFrame</th>\n",
       "      <th>VehicleJourneyId</th>\n",
       "      <th>BusOperator</th>\n",
       "      <th>Congestion</th>\n",
       "      <th>Long</th>\n",
       "      <th>Lat</th>\n",
       "      <th>Delay</th>\n",
       "      <th>BlockId</th>\n",
       "      <th>VehicleId</th>\n",
       "      <th>StopId</th>\n",
       "      <th>AtStop</th>\n",
       "      <th>Distance</th>\n",
       "      <th>TravelTime</th>\n",
       "      <th>Weekday</th>\n",
       "      <th>TimeCategory</th>\n",
       "    </tr>\n",
       "  </thead>\n",
       "  <tbody>\n",
       "    <tr>\n",
       "      <th>0</th>\n",
       "      <td>2012-11-08 06:37:28</td>\n",
       "      <td>15</td>\n",
       "      <td>015B0002</td>\n",
       "      <td>2012-11-08</td>\n",
       "      <td>3276</td>\n",
       "      <td>RD</td>\n",
       "      <td>0</td>\n",
       "      <td>-6.233483</td>\n",
       "      <td>53.341969</td>\n",
       "      <td>0</td>\n",
       "      <td>15014</td>\n",
       "      <td>24549</td>\n",
       "      <td>395</td>\n",
       "      <td>1.0</td>\n",
       "      <td>0.000000</td>\n",
       "      <td>0</td>\n",
       "      <td>3</td>\n",
       "      <td>06:30</td>\n",
       "    </tr>\n",
       "    <tr>\n",
       "      <th>1</th>\n",
       "      <td>2012-11-08 06:48:23</td>\n",
       "      <td>15</td>\n",
       "      <td>015B0002</td>\n",
       "      <td>2012-11-08</td>\n",
       "      <td>3276</td>\n",
       "      <td>RD</td>\n",
       "      <td>0</td>\n",
       "      <td>-6.256696</td>\n",
       "      <td>53.342678</td>\n",
       "      <td>69</td>\n",
       "      <td>15014</td>\n",
       "      <td>24549</td>\n",
       "      <td>403</td>\n",
       "      <td>1.0</td>\n",
       "      <td>2706.310938</td>\n",
       "      <td>655</td>\n",
       "      <td>3</td>\n",
       "      <td>06:30</td>\n",
       "    </tr>\n",
       "    <tr>\n",
       "      <th>2</th>\n",
       "      <td>2012-11-08 06:57:04</td>\n",
       "      <td>15</td>\n",
       "      <td>015B0002</td>\n",
       "      <td>2012-11-08</td>\n",
       "      <td>3276</td>\n",
       "      <td>RD</td>\n",
       "      <td>0</td>\n",
       "      <td>-6.266577</td>\n",
       "      <td>53.321621</td>\n",
       "      <td>58</td>\n",
       "      <td>15014</td>\n",
       "      <td>24549</td>\n",
       "      <td>1077</td>\n",
       "      <td>1.0</td>\n",
       "      <td>5525.509641</td>\n",
       "      <td>1176</td>\n",
       "      <td>3</td>\n",
       "      <td>06:30</td>\n",
       "    </tr>\n",
       "    <tr>\n",
       "      <th>3</th>\n",
       "      <td>2012-11-08 07:16:52</td>\n",
       "      <td>15</td>\n",
       "      <td>015B0002</td>\n",
       "      <td>2012-11-08</td>\n",
       "      <td>3276</td>\n",
       "      <td>RD</td>\n",
       "      <td>0</td>\n",
       "      <td>-6.327800</td>\n",
       "      <td>53.270649</td>\n",
       "      <td>-309</td>\n",
       "      <td>15014</td>\n",
       "      <td>24549</td>\n",
       "      <td>6280</td>\n",
       "      <td>1.0</td>\n",
       "      <td>15187.807339</td>\n",
       "      <td>2364</td>\n",
       "      <td>3</td>\n",
       "      <td>07:00</td>\n",
       "    </tr>\n",
       "    <tr>\n",
       "      <th>4</th>\n",
       "      <td>2012-11-08 07:50:33</td>\n",
       "      <td>15</td>\n",
       "      <td>015B1001</td>\n",
       "      <td>2012-11-08</td>\n",
       "      <td>3277</td>\n",
       "      <td>RD</td>\n",
       "      <td>0</td>\n",
       "      <td>-6.326270</td>\n",
       "      <td>53.271095</td>\n",
       "      <td>28</td>\n",
       "      <td>15014</td>\n",
       "      <td>24549</td>\n",
       "      <td>6285</td>\n",
       "      <td>1.0</td>\n",
       "      <td>0.000000</td>\n",
       "      <td>0</td>\n",
       "      <td>3</td>\n",
       "      <td>07:30</td>\n",
       "    </tr>\n",
       "  </tbody>\n",
       "</table>\n",
       "</div>"
      ],
      "text/plain": [
       "            Timestamp LineId JourneyPatternId   TimeFrame VehicleJourneyId  \\\n",
       "0 2012-11-08 06:37:28     15         015B0002  2012-11-08             3276   \n",
       "1 2012-11-08 06:48:23     15         015B0002  2012-11-08             3276   \n",
       "2 2012-11-08 06:57:04     15         015B0002  2012-11-08             3276   \n",
       "3 2012-11-08 07:16:52     15         015B0002  2012-11-08             3276   \n",
       "4 2012-11-08 07:50:33     15         015B1001  2012-11-08             3277   \n",
       "\n",
       "  BusOperator Congestion      Long        Lat  Delay BlockId VehicleId StopId  \\\n",
       "0          RD          0 -6.233483  53.341969      0   15014     24549    395   \n",
       "1          RD          0 -6.256696  53.342678     69   15014     24549    403   \n",
       "2          RD          0 -6.266577  53.321621     58   15014     24549   1077   \n",
       "3          RD          0 -6.327800  53.270649   -309   15014     24549   6280   \n",
       "4          RD          0 -6.326270  53.271095     28   15014     24549   6285   \n",
       "\n",
       "   AtStop      Distance  TravelTime Weekday TimeCategory  \n",
       "0     1.0      0.000000           0       3        06:30  \n",
       "1     1.0   2706.310938         655       3        06:30  \n",
       "2     1.0   5525.509641        1176       3        06:30  \n",
       "3     1.0  15187.807339        2364       3        07:00  \n",
       "4     1.0      0.000000           0       3        07:30  "
      ]
     },
     "execution_count": 184,
     "metadata": {},
     "output_type": "execute_result"
    }
   ],
   "source": [
    "df.head()"
   ]
  },
  {
   "cell_type": "code",
   "execution_count": 185,
   "metadata": {
    "collapsed": true
   },
   "outputs": [],
   "source": [
    "df.to_csv(\"eleventh_stage.csv\", index=False)"
   ]
  },
  {
   "cell_type": "markdown",
   "metadata": {},
   "source": [
    "## Fix Last Two Issues"
   ]
  },
  {
   "cell_type": "markdown",
   "metadata": {},
   "source": [
    "### Summary Of Issues:\n",
    "* After having filtered the information to when buses are at stops only (or our 'made up' stop 2), there are again some journeys which are just a single row long, these are useless and should be removed.\n",
    "* 6.7% of the journeys also have an incorrect JourneyPatternId, these should ideally be changed to the correct label\n",
    "\n",
    "After this the data clean should be correct enough to start modelling"
   ]
  },
  {
   "cell_type": "markdown",
   "metadata": {},
   "source": [
    "### Remove journey's which are only 1 row of data in length (noise)"
   ]
  },
  {
   "cell_type": "code",
   "execution_count": 188,
   "metadata": {
    "collapsed": false
   },
   "outputs": [
    {
     "data": {
      "text/plain": [
       "(393268, 18)"
      ]
     },
     "execution_count": 188,
     "metadata": {},
     "output_type": "execute_result"
    }
   ],
   "source": [
    "# For reference\n",
    "df.shape"
   ]
  },
  {
   "cell_type": "code",
   "execution_count": null,
   "metadata": {
    "collapsed": true
   },
   "outputs": [],
   "source": [
    "392687"
   ]
  },
  {
   "cell_type": "code",
   "execution_count": 187,
   "metadata": {
    "collapsed": false,
    "scrolled": true
   },
   "outputs": [
    {
     "data": {
      "text/plain": [
       "VehicleId  VehicleJourneyId\n",
       "24549      3276                 4\n",
       "           3277                27\n",
       "           4935                 3\n",
       "           4936                21\n",
       "24559      154                 20\n",
       "           155                 23\n",
       "           156                  3\n",
       "           157                 15\n",
       "           158                 22\n",
       "           159                 18\n",
       "           160                  8\n",
       "           161                 12\n",
       "           162                  4\n",
       "           3938                 2\n",
       "           5625                26\n",
       "           5626                39\n",
       "24560      5646                35\n",
       "           5647                36\n",
       "           6167                28\n",
       "           6168                19\n",
       "24574      1853                 1\n",
       "           1854                 1\n",
       "           1855                 1\n",
       "           1856                 1\n",
       "           1859                 1\n",
       "           1860                 1\n",
       "           1861                 2\n",
       "           1865                 1\n",
       "           1866                 3\n",
       "           1867                 1\n",
       "                               ..\n",
       "43059      238                 15\n",
       "           239                 13\n",
       "           240                 15\n",
       "           241                 23\n",
       "43060      2614                26\n",
       "           2615                 7\n",
       "           2616                15\n",
       "           2617                10\n",
       "           2618                18\n",
       "           2619                13\n",
       "           2620                11\n",
       "           2621                16\n",
       "           2622                15\n",
       "           2623                22\n",
       "           2624                 9\n",
       "           2625                19\n",
       "           2626                11\n",
       "           2627                16\n",
       "           2628                 8\n",
       "           2629                15\n",
       "           2630                 8\n",
       "43061      2631                 5\n",
       "           2632                11\n",
       "           2633                 9\n",
       "           2634                12\n",
       "           2635                 8\n",
       "           2636                11\n",
       "           2637                 6\n",
       "           2638                 8\n",
       "           2639                 8\n",
       "dtype: int64"
      ]
     },
     "execution_count": 187,
     "metadata": {},
     "output_type": "execute_result"
    }
   ],
   "source": [
    "# Demonstrate Issue\n",
    "test = df[df.TimeFrame == \"2012-11-08\"]\n",
    "test.groupby([\"VehicleId\", \"VehicleJourneyId\"]).size()"
   ]
  },
  {
   "cell_type": "code",
   "execution_count": 189,
   "metadata": {
    "collapsed": true
   },
   "outputs": [],
   "source": [
    "\"\"\" Remove every VehicleJourneyId which is 1 row in length. We may want to widen this filter later, but for now these\n",
    "are definitely just noise in the data. \"\"\"\n",
    "\n",
    "x = df.groupby([\"TimeFrame\", \"VehicleId\", \"VehicleJourneyId\"])\n",
    "\n",
    "x = x.filter(lambda x: len(x) > 1)\n",
    "\n",
    "df = pd.DataFrame(x)"
   ]
  },
  {
   "cell_type": "code",
   "execution_count": 190,
   "metadata": {
    "collapsed": false
   },
   "outputs": [
    {
     "data": {
      "text/plain": [
       "(392687, 18)"
      ]
     },
     "execution_count": 190,
     "metadata": {},
     "output_type": "execute_result"
    }
   ],
   "source": [
    "# Check to see if it worked\n",
    "df.shape"
   ]
  },
  {
   "cell_type": "markdown",
   "metadata": {},
   "source": [
    "Deleted 581 Journeys/Rows (All just noise in the data)"
   ]
  },
  {
   "cell_type": "code",
   "execution_count": 206,
   "metadata": {
    "collapsed": true
   },
   "outputs": [],
   "source": [
    "df.to_csv(\"twelth_stage.csv\", index=False)"
   ]
  },
  {
   "cell_type": "markdown",
   "metadata": {},
   "source": [
    "### Change the JourneyPatternId's to the correct values"
   ]
  },
  {
   "cell_type": "code",
   "execution_count": 207,
   "metadata": {
    "collapsed": false,
    "scrolled": true
   },
   "outputs": [
    {
     "data": {
      "text/plain": [
       "TimeFrame   VehicleId  VehicleJourneyId\n",
       "2012-11-08  24549      3276                          [015B0002]\n",
       "                       3277                          [015B1001]\n",
       "                       4935                          [077A0001]\n",
       "                       4936                          [077A1001]\n",
       "            24559      154                           [041C1001]\n",
       "                       155                           [00410001]\n",
       "                       156                           [041C1001]\n",
       "                       157                           [041C0001]\n",
       "                       158                           [041C1001]\n",
       "                       159                           [041C0001]\n",
       "                       160                           [00411001]\n",
       "                       161                           [041C0001]\n",
       "                       162                           [00411001]\n",
       "                       3938                          [00411001]\n",
       "                       5625                          [00160003]\n",
       "                       5626                          [00161001]\n",
       "            24560      5646                          [00160001]\n",
       "                       5647                          [00161001]\n",
       "                       6167                          [00160002]\n",
       "                       6168                          [00161001]\n",
       "            24574      1861                          [02391001]\n",
       "                       1866                [02390001, 02391001]\n",
       "            24587      1861                          [02391001]\n",
       "                       1862                          [02390001]\n",
       "                       1863                          [02391001]\n",
       "                       1900                          [02701001]\n",
       "                       1901                          [02700001]\n",
       "                       1902                [02700001, 02701001]\n",
       "                       1903                          [02700001]\n",
       "                       1904                [02700001, 02701001]\n",
       "                                                   ...         \n",
       "2012-11-10  43058      7686                          [00330001]\n",
       "                       7687                          [00331001]\n",
       "                       7688                          [00330001]\n",
       "                       7689                          [00331005]\n",
       "                       7714                          [00330002]\n",
       "            43060      9928                          [029A0001]\n",
       "                       9929                          [029A1001]\n",
       "                       9930                          [029A0001]\n",
       "                       9931                          [029A1001]\n",
       "                       9932                          [029A0001]\n",
       "                       9933                          [029A1001]\n",
       "                       9934                          [029A0001]\n",
       "                       9935                          [029A1001]\n",
       "                       9936                          [029A0001]\n",
       "            43061      9881                          [029A1001]\n",
       "                       9882                          [029A0001]\n",
       "                       9883                          [029A1001]\n",
       "                       9890                          [029A0001]\n",
       "                       9891                          [029A1001]\n",
       "                       9892                          [029A0001]\n",
       "                       9893                          [029A1001]\n",
       "                       9894                          [029A0001]\n",
       "                       9895                          [029A1001]\n",
       "                       9896                          [029A0001]\n",
       "                       9897                          [029A1001]\n",
       "                       9898                          [029A0001]\n",
       "                       9899                          [029A1001]\n",
       "                       9925                          [029A0001]\n",
       "                       9926                          [029A1001]\n",
       "                       9927                          [029A0001]\n",
       "Name: JourneyPatternId, dtype: object"
      ]
     },
     "execution_count": 207,
     "metadata": {},
     "output_type": "execute_result"
    }
   ],
   "source": [
    "# Demonstrate Issue\n",
    "x = df.groupby([\"TimeFrame\", \"VehicleId\", \"VehicleJourneyId\"])[\"JourneyPatternId\"].unique()\n",
    "x"
   ]
  },
  {
   "cell_type": "code",
   "execution_count": 208,
   "metadata": {
    "collapsed": false
   },
   "outputs": [
    {
     "data": {
      "text/plain": [
       "1431"
      ]
     },
     "execution_count": 208,
     "metadata": {},
     "output_type": "execute_result"
    }
   ],
   "source": [
    "# Measure the issue\n",
    "count = 0\n",
    "for item in x:\n",
    "    if len(item) == 2:\n",
    "        count += 1    \n",
    "count"
   ]
  },
  {
   "cell_type": "markdown",
   "metadata": {},
   "source": [
    "So 1431 VehicleJourneyId's have a mixed JourneyPatternId. If possible we must change them to the correct ones."
   ]
  },
  {
   "cell_type": "code",
   "execution_count": null,
   "metadata": {
    "collapsed": true
   },
   "outputs": [],
   "source": []
  },
  {
   "cell_type": "markdown",
   "metadata": {},
   "source": [
    "## Daniele Add The Weather Information Here???"
   ]
  },
  {
   "cell_type": "code",
   "execution_count": null,
   "metadata": {
    "collapsed": true
   },
   "outputs": [],
   "source": []
  },
  {
   "cell_type": "code",
   "execution_count": null,
   "metadata": {
    "collapsed": true
   },
   "outputs": [],
   "source": []
  },
  {
   "cell_type": "markdown",
   "metadata": {},
   "source": [
    "## Make CSV"
   ]
  },
  {
   "cell_type": "code",
   "execution_count": 122,
   "metadata": {
    "collapsed": false
   },
   "outputs": [],
   "source": [
    "df.to_csv('November_8_to_10.csv', index=False)"
   ]
  }
 ],
 "metadata": {
  "anaconda-cloud": {},
  "kernelspec": {
   "display_name": "Python [conda root]",
   "language": "python",
   "name": "conda-root-py"
  },
  "language_info": {
   "codemirror_mode": {
    "name": "ipython",
    "version": 3
   },
   "file_extension": ".py",
   "mimetype": "text/x-python",
   "name": "python",
   "nbconvert_exporter": "python",
   "pygments_lexer": "ipython3",
   "version": "3.5.2"
  }
 },
 "nbformat": 4,
 "nbformat_minor": 1
}
