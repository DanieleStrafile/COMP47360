{
 "cells": [
  {
   "cell_type": "markdown",
   "metadata": {},
   "source": [
    "# Final Clean"
   ]
  },
  {
   "cell_type": "code",
   "execution_count": 56,
   "metadata": {},
   "outputs": [
    {
     "name": "stdout",
     "output_type": "stream",
     "text": [
      "The Cython extension is already loaded. To reload it, use:\n",
      "  %reload_ext Cython\n"
     ]
    }
   ],
   "source": [
    "import pandas as pd\n",
    "import datetime\n",
    "import numpy as np\n",
    "import itertools\n",
    "from geopy.distance import vincenty\n",
    "from ipykernel import kernelapp as app\n",
    "%load_ext Cython\n",
    "import numba\n",
    "import gc\n",
    "from haversine import haversine\n",
    "global df"
   ]
  },
  {
   "cell_type": "code",
   "execution_count": 57,
   "metadata": {
    "collapsed": true
   },
   "outputs": [],
   "source": [
    "df = pd.read_hdf(\"cleaning_store.h5\", key=\"table_name\", where='Week_Day == 6')"
   ]
  },
  {
   "cell_type": "code",
   "execution_count": 58,
   "metadata": {
    "collapsed": true
   },
   "outputs": [],
   "source": [
    "categorical_columns = df[['Journey_Pattern_ID','Vehicle_Journey_ID', 'Bus_Operator',\n",
    "                          'Block_ID', 'Vehicle_ID', 'Stop_ID']].columns"
   ]
  },
  {
   "cell_type": "code",
   "execution_count": 59,
   "metadata": {
    "collapsed": true
   },
   "outputs": [],
   "source": [
    "# Convert data type to category for these columns. categorical columns have better performance than object dtype\n",
    "for column in categorical_columns:\n",
    "    df[column] = df[column].astype('category')"
   ]
  },
  {
   "cell_type": "code",
   "execution_count": 60,
   "metadata": {
    "collapsed": true
   },
   "outputs": [],
   "source": [
    "false_categorical_columns = df[['Week_Day', 'At_Stop' ]].columns"
   ]
  },
  {
   "cell_type": "code",
   "execution_count": 61,
   "metadata": {
    "collapsed": true
   },
   "outputs": [],
   "source": [
    "# These columns are converted to int32 although they are categorical in order to have compatibility with hdf5\n",
    "for column in false_categorical_columns:\n",
    "    df[column] = df[column].astype('int32')"
   ]
  },
  {
   "cell_type": "code",
   "execution_count": 62,
   "metadata": {},
   "outputs": [
    {
     "data": {
      "text/plain": [
       "843"
      ]
     },
     "execution_count": 62,
     "metadata": {},
     "output_type": "execute_result"
    }
   ],
   "source": [
    "gc.collect()"
   ]
  },
  {
   "cell_type": "code",
   "execution_count": 63,
   "metadata": {
    "collapsed": true
   },
   "outputs": [],
   "source": [
    "df.reset_index(drop=True,inplace=True)"
   ]
  },
  {
   "cell_type": "code",
   "execution_count": 64,
   "metadata": {},
   "outputs": [
    {
     "data": {
      "text/html": [
       "<div>\n",
       "<style>\n",
       "    .dataframe thead tr:only-child th {\n",
       "        text-align: right;\n",
       "    }\n",
       "\n",
       "    .dataframe thead th {\n",
       "        text-align: left;\n",
       "    }\n",
       "\n",
       "    .dataframe tbody tr th {\n",
       "        vertical-align: top;\n",
       "    }\n",
       "</style>\n",
       "<table border=\"1\" class=\"dataframe\">\n",
       "  <thead>\n",
       "    <tr style=\"text-align: right;\">\n",
       "      <th></th>\n",
       "      <th>Timestamp</th>\n",
       "      <th>Journey_Pattern_ID</th>\n",
       "      <th>Time_Frame</th>\n",
       "      <th>Vehicle_Journey_ID</th>\n",
       "      <th>Bus_Operator</th>\n",
       "      <th>Longitude</th>\n",
       "      <th>Latitude</th>\n",
       "      <th>Delay_seconds</th>\n",
       "      <th>Block_ID</th>\n",
       "      <th>Vehicle_ID</th>\n",
       "      <th>Stop_ID</th>\n",
       "      <th>At_Stop</th>\n",
       "      <th>Week_Day</th>\n",
       "    </tr>\n",
       "  </thead>\n",
       "  <tbody>\n",
       "    <tr>\n",
       "      <th>0</th>\n",
       "      <td>2012-11-11 06:35:04</td>\n",
       "      <td>00410001</td>\n",
       "      <td>2012-11-11</td>\n",
       "      <td>13421</td>\n",
       "      <td>SL</td>\n",
       "      <td>-6.255460</td>\n",
       "      <td>53.349075</td>\n",
       "      <td>-2</td>\n",
       "      <td>41001</td>\n",
       "      <td>33425</td>\n",
       "      <td>288</td>\n",
       "      <td>0</td>\n",
       "      <td>6</td>\n",
       "    </tr>\n",
       "    <tr>\n",
       "      <th>1</th>\n",
       "      <td>2012-11-11 06:35:20</td>\n",
       "      <td>00410001</td>\n",
       "      <td>2012-11-11</td>\n",
       "      <td>13421</td>\n",
       "      <td>SL</td>\n",
       "      <td>-6.255160</td>\n",
       "      <td>53.349129</td>\n",
       "      <td>-2</td>\n",
       "      <td>41001</td>\n",
       "      <td>33425</td>\n",
       "      <td>288</td>\n",
       "      <td>0</td>\n",
       "      <td>6</td>\n",
       "    </tr>\n",
       "    <tr>\n",
       "      <th>2</th>\n",
       "      <td>2012-11-11 06:35:41</td>\n",
       "      <td>00410001</td>\n",
       "      <td>2012-11-11</td>\n",
       "      <td>13421</td>\n",
       "      <td>SL</td>\n",
       "      <td>-6.253968</td>\n",
       "      <td>53.350094</td>\n",
       "      <td>-19</td>\n",
       "      <td>41001</td>\n",
       "      <td>33425</td>\n",
       "      <td>288</td>\n",
       "      <td>0</td>\n",
       "      <td>6</td>\n",
       "    </tr>\n",
       "    <tr>\n",
       "      <th>3</th>\n",
       "      <td>2012-11-11 06:36:03</td>\n",
       "      <td>00410001</td>\n",
       "      <td>2012-11-11</td>\n",
       "      <td>13421</td>\n",
       "      <td>SL</td>\n",
       "      <td>-6.254150</td>\n",
       "      <td>53.350376</td>\n",
       "      <td>-19</td>\n",
       "      <td>41001</td>\n",
       "      <td>33425</td>\n",
       "      <td>1171</td>\n",
       "      <td>1</td>\n",
       "      <td>6</td>\n",
       "    </tr>\n",
       "    <tr>\n",
       "      <th>4</th>\n",
       "      <td>2012-11-11 06:36:23</td>\n",
       "      <td>00410001</td>\n",
       "      <td>2012-11-11</td>\n",
       "      <td>13421</td>\n",
       "      <td>SL</td>\n",
       "      <td>-6.254150</td>\n",
       "      <td>53.350376</td>\n",
       "      <td>10</td>\n",
       "      <td>41001</td>\n",
       "      <td>33425</td>\n",
       "      <td>1171</td>\n",
       "      <td>1</td>\n",
       "      <td>6</td>\n",
       "    </tr>\n",
       "  </tbody>\n",
       "</table>\n",
       "</div>"
      ],
      "text/plain": [
       "            Timestamp Journey_Pattern_ID Time_Frame Vehicle_Journey_ID  \\\n",
       "0 2012-11-11 06:35:04           00410001 2012-11-11              13421   \n",
       "1 2012-11-11 06:35:20           00410001 2012-11-11              13421   \n",
       "2 2012-11-11 06:35:41           00410001 2012-11-11              13421   \n",
       "3 2012-11-11 06:36:03           00410001 2012-11-11              13421   \n",
       "4 2012-11-11 06:36:23           00410001 2012-11-11              13421   \n",
       "\n",
       "  Bus_Operator  Longitude   Latitude  Delay_seconds Block_ID Vehicle_ID  \\\n",
       "0           SL  -6.255460  53.349075             -2    41001      33425   \n",
       "1           SL  -6.255160  53.349129             -2    41001      33425   \n",
       "2           SL  -6.253968  53.350094            -19    41001      33425   \n",
       "3           SL  -6.254150  53.350376            -19    41001      33425   \n",
       "4           SL  -6.254150  53.350376             10    41001      33425   \n",
       "\n",
       "  Stop_ID  At_Stop  Week_Day  \n",
       "0     288        0         6  \n",
       "1     288        0         6  \n",
       "2     288        0         6  \n",
       "3    1171        1         6  \n",
       "4    1171        1         6  "
      ]
     },
     "execution_count": 64,
     "metadata": {},
     "output_type": "execute_result"
    }
   ],
   "source": [
    "df.head()"
   ]
  },
  {
   "cell_type": "code",
   "execution_count": 65,
   "metadata": {},
   "outputs": [
    {
     "data": {
      "text/plain": [
       "Timestamp             datetime64[ns]\n",
       "Journey_Pattern_ID          category\n",
       "Time_Frame            datetime64[ns]\n",
       "Vehicle_Journey_ID          category\n",
       "Bus_Operator                category\n",
       "Longitude                    float64\n",
       "Latitude                     float64\n",
       "Delay_seconds                  int32\n",
       "Block_ID                    category\n",
       "Vehicle_ID                  category\n",
       "Stop_ID                     category\n",
       "At_Stop                        int32\n",
       "Week_Day                       int32\n",
       "dtype: object"
      ]
     },
     "execution_count": 65,
     "metadata": {},
     "output_type": "execute_result"
    }
   ],
   "source": [
    "df.dtypes"
   ]
  },
  {
   "cell_type": "markdown",
   "metadata": {},
   "source": [
    "#### Note About The Following Cell:\n",
    "This is the way we are sorting the data. First the Timeframe is the most important since it holds a unique Vehicle Journey ID (or it should) for every journey each day. \n",
    "Ideally we would then sort by VehicleJourneyId but the reality is that the data is messy. In order to avoid two buses at opposite sides of the city causing issues with the dataset we will now sort by the vehicle ID.\n",
    "Next the vehicle journey ID makes sense since we can then start to sort the entire dataset into individual journeys along a certain route.\n",
    "Lastly timestamp is obvious.\n",
    "\n",
    "We'll use this cell several times to keep the dataframe sorted and the index correct, as many of the loops in this notebook require this.\n",
    "\n",
    "You should deduce from this that there will be several cases of a VehicleJourneyId being repeated. cleaning up this is part of the challenge."
   ]
  },
  {
   "cell_type": "markdown",
   "metadata": {},
   "source": [
    "## Remove General Noise"
   ]
  },
  {
   "cell_type": "code",
   "execution_count": 66,
   "metadata": {
    "collapsed": true
   },
   "outputs": [],
   "source": [
    "\"\"\" Remove every VehicleJourneyId which is equal to or below 5 rows in length. Realistically any journey (even the short ones)\n",
    "should be at least 5 rows of data in length, anything else is just noise. \"\"\"\n",
    "\n",
    "\n",
    "df = df.groupby(['Time_Frame', 'Vehicle_ID', 'Vehicle_Journey_ID'], as_index=False, group_keys=False, sort=False).filter(lambda x: len(x) > 5)\n"
   ]
  },
  {
   "cell_type": "markdown",
   "metadata": {},
   "source": [
    "## Remove Extra JourneyPatternId's From VehicleJourneyId's"
   ]
  },
  {
   "cell_type": "code",
   "execution_count": 67,
   "metadata": {
    "collapsed": true
   },
   "outputs": [],
   "source": [
    "# Create group object to work with \n",
    "gb = df.groupby(['Time_Frame', 'Vehicle_ID', 'Vehicle_Journey_ID'], as_index=False, group_keys=False, sort=False)"
   ]
  },
  {
   "cell_type": "code",
   "execution_count": 68,
   "metadata": {
    "collapsed": true
   },
   "outputs": [],
   "source": [
    "@numba.jit(nogil=True)\n",
    "def delete_outlier_journeypatternid(group):\n",
    "    \"\"\" Takes a pandas group object and iterates removing the least occuring JourneyPatterId in each.\n",
    "    If there are more than two or the occurances of the two are equal, it ignores it. \"\"\"\n",
    "    \n",
    "    grouped_values = group[\"Journey_Pattern_ID\"].value_counts()\n",
    "        \n",
    "    # If there's two Journey Pattern ID's\n",
    "    if len(grouped_values) == 2:\n",
    "                \n",
    "        # If the two journey pattern ID's occupy the same space then do nothing (likely it's a 'noise' journey)\n",
    "        if grouped_values[0] != grouped_values[1]:\n",
    "            \n",
    "            real_id = grouped_values.index.tolist()[0] \n",
    "            group = group[group.Journey_Pattern_ID == real_id]\n",
    "            \n",
    "    return group"
   ]
  },
  {
   "cell_type": "code",
   "execution_count": 69,
   "metadata": {},
   "outputs": [
    {
     "name": "stdout",
     "output_type": "stream",
     "text": [
      "1 loop, best of 3: 39.8 s per loop\n"
     ]
    }
   ],
   "source": [
    "# Apply the mapping function to the dataset\n",
    "%timeit df = gb.apply(delete_outlier_journeypatternid)\n",
    "# 120 secs\n",
    "# to 79 seconds with jit numba\n"
   ]
  },
  {
   "cell_type": "code",
   "execution_count": 70,
   "metadata": {
    "collapsed": true
   },
   "outputs": [],
   "source": [
    "# Create group object to work with \n",
    "gb = df.groupby(['Time_Frame', 'Vehicle_ID', 'Vehicle_Journey_ID'], as_index=False, group_keys=False, sort=False)"
   ]
  },
  {
   "cell_type": "code",
   "execution_count": 71,
   "metadata": {
    "collapsed": true
   },
   "outputs": [],
   "source": [
    "# Delete outliers (journey's with 3 id's and other noise inc. nulls)\n",
    "df = gb.filter(lambda x: len(x[\"Journey_Pattern_ID\"].unique()) == 1)"
   ]
  },
  {
   "cell_type": "markdown",
   "metadata": {},
   "source": [
    "# Clean blockID"
   ]
  },
  {
   "cell_type": "code",
   "execution_count": 72,
   "metadata": {
    "collapsed": true
   },
   "outputs": [],
   "source": [
    "gb = df.groupby(['Time_Frame', 'Vehicle_ID', 'Vehicle_Journey_ID'], as_index=False, group_keys=False, sort=False)"
   ]
  },
  {
   "cell_type": "code",
   "execution_count": 73,
   "metadata": {
    "collapsed": true
   },
   "outputs": [],
   "source": [
    "@numba.jit(nogil=True)\n",
    "def delete_outlier_block_id(group):\n",
    "    \"\"\" Takes a pandas group object and iterates removing the least occuring Block ID in each.\n",
    "    If there are more than two or the occurances of the two are equal, it ignores it. \"\"\"\n",
    "    \n",
    "    # If there's two Journey Pattern ID's\n",
    "    if len(group[\"Block_ID\"].value_counts()) == 2:\n",
    "        real_id = group[\"Block_ID\"].value_counts().index.tolist()[0]\n",
    "        group = group[group.Block_ID == real_id]\n",
    "           \n",
    "    return group"
   ]
  },
  {
   "cell_type": "code",
   "execution_count": 74,
   "metadata": {},
   "outputs": [
    {
     "name": "stdout",
     "output_type": "stream",
     "text": [
      "1 loop, best of 3: 39.9 s per loop\n"
     ]
    },
    {
     "data": {
      "text/plain": [
       "(2587877, 13)"
      ]
     },
     "execution_count": 74,
     "metadata": {},
     "output_type": "execute_result"
    }
   ],
   "source": [
    "# Apply the mapping function to the dataset\n",
    "%timeit df = gb.apply(delete_outlier_block_id)\n",
    "\n",
    "# For debugging\n",
    "df.shape"
   ]
  },
  {
   "cell_type": "markdown",
   "metadata": {},
   "source": [
    "## Remove Vehicle Journey ID's With Two Occurances Each Day"
   ]
  },
  {
   "cell_type": "markdown",
   "metadata": {},
   "source": [
    "These can either be...\n",
    "* Two buses completing the same route together with a stopover.\n",
    "* Incomplete journey's.\n",
    "* General noise in the data.\n",
    "\n",
    "In any case they occupy less than 1% of the data and change week to week, so they can be dropped without overall loss of data integrity."
   ]
  },
  {
   "cell_type": "code",
   "execution_count": 75,
   "metadata": {
    "collapsed": true
   },
   "outputs": [],
   "source": [
    "# Filter out these outliers\n",
    "\n",
    "gb = df.groupby([\"Time_Frame\", \"Vehicle_Journey_ID\"], as_index=False, group_keys=False, sort=False)\n",
    "\n",
    "df = gb.filter(lambda x: len(x[\"Vehicle_ID\"].unique()) == 1)"
   ]
  },
  {
   "cell_type": "markdown",
   "metadata": {},
   "source": [
    "# Clean Up Start Of Journeys"
   ]
  },
  {
   "cell_type": "code",
   "execution_count": 76,
   "metadata": {},
   "outputs": [
    {
     "name": "stderr",
     "output_type": "stream",
     "text": [
      "C:\\Users\\Daniele\\Anaconda3\\lib\\site-packages\\ipykernel_launcher.py:2: SettingWithCopyWarning: \n",
      "A value is trying to be set on a copy of a slice from a DataFrame\n",
      "\n",
      "See the caveats in the documentation: http://pandas.pydata.org/pandas-docs/stable/indexing.html#indexing-view-versus-copy\n",
      "  \n"
     ]
    }
   ],
   "source": [
    "# Organise the Data\n",
    "df.sort_values(['Time_Frame', 'Vehicle_ID', 'Vehicle_Journey_ID', 'Timestamp'], ascending=True, inplace=True)\n",
    "\n",
    "# Clean up index\n",
    "df.reset_index(drop=True,inplace=True)"
   ]
  },
  {
   "cell_type": "code",
   "execution_count": 77,
   "metadata": {},
   "outputs": [
    {
     "data": {
      "text/plain": [
       "Timestamp             datetime64[ns]\n",
       "Journey_Pattern_ID          category\n",
       "Time_Frame            datetime64[ns]\n",
       "Vehicle_Journey_ID          category\n",
       "Bus_Operator                category\n",
       "Longitude                    float64\n",
       "Latitude                     float64\n",
       "Delay_seconds                  int32\n",
       "Block_ID                    category\n",
       "Vehicle_ID                  category\n",
       "Stop_ID                     category\n",
       "At_Stop                        int32\n",
       "Week_Day                       int32\n",
       "dtype: object"
      ]
     },
     "execution_count": 77,
     "metadata": {},
     "output_type": "execute_result"
    }
   ],
   "source": [
    "df.dtypes"
   ]
  },
  {
   "cell_type": "code",
   "execution_count": 78,
   "metadata": {},
   "outputs": [
    {
     "name": "stderr",
     "output_type": "stream",
     "text": [
      "C:\\Users\\Daniele\\Anaconda3\\lib\\site-packages\\ipykernel_launcher.py:1: SettingWithCopyWarning: \n",
      "A value is trying to be set on a copy of a slice from a DataFrame.\n",
      "Try using .loc[row_indexer,col_indexer] = value instead\n",
      "\n",
      "See the caveats in the documentation: http://pandas.pydata.org/pandas-docs/stable/indexing.html#indexing-view-versus-copy\n",
      "  \"\"\"Entry point for launching an IPython kernel.\n"
     ]
    }
   ],
   "source": [
    "df['Vehicle_Journey_ID'] = df['Vehicle_Journey_ID'].astype('object')"
   ]
  },
  {
   "cell_type": "code",
   "execution_count": 79,
   "metadata": {
    "collapsed": true
   },
   "outputs": [],
   "source": [
    "@numba.jit(nogil=True)\n",
    "def GPS_clean(df):\n",
    "    \n",
    "    \"\"\" If the GPS coordinates remain the same for the first few rows of data, delete them. \"\"\"\n",
    "    \n",
    "    last_bus_id = df.loc[0, \"Vehicle_Journey_ID\"]\n",
    "    last_lat = df.loc[0, \"Latitude\"]\n",
    "    last_long = df.loc[0, \"Longitude\"]\n",
    "    new_start = True\n",
    "    \n",
    "    for row in itertools.islice(df.itertuples(),1,None):\n",
    "\n",
    "        # For every iteration\n",
    "        current_bus_id = row[4]\n",
    "        current_lat = row[7]\n",
    "        current_long = row[6]\n",
    "\n",
    "        # If it's a different vehicle journey id\n",
    "        if last_bus_id != current_bus_id:\n",
    "            last_bus_id = row[4]\n",
    "            last_lat = row[7]\n",
    "            last_long = row[6]\n",
    "            new_start = True\n",
    "            continue\n",
    "\n",
    "        # If it's the same journey\n",
    "        if new_start:\n",
    "            if current_lat == last_lat:\n",
    "                if current_long == last_long:\n",
    "                    # Flag\n",
    "                    df.set_value(row[0] - 1, \"Vehicle_Journey_ID\", 0)\n",
    "                    last_bus_id = row[4]\n",
    "                    last_lat = row[7]\n",
    "                    last_long = row[6]\n",
    "                    continue\n",
    "\n",
    "        # If it's the same journey but it's moved\n",
    "        if last_bus_id == current_bus_id:\n",
    "            if current_lat != last_lat or current_long != last_long:\n",
    "                new_start = False"
   ]
  },
  {
   "cell_type": "code",
   "execution_count": 80,
   "metadata": {},
   "outputs": [
    {
     "name": "stdout",
     "output_type": "stream",
     "text": [
      "1 loop, best of 3: 32.2 s per loop\n"
     ]
    }
   ],
   "source": [
    "%timeit GPS_clean(df)"
   ]
  },
  {
   "cell_type": "code",
   "execution_count": 81,
   "metadata": {
    "collapsed": true
   },
   "outputs": [],
   "source": [
    "#iterrows, original loop: 400 seconds\n",
    "#numba just in time compiler +  itertuples + skipping first row: 25 seconds"
   ]
  },
  {
   "cell_type": "code",
   "execution_count": 82,
   "metadata": {
    "collapsed": true
   },
   "outputs": [],
   "source": [
    "# Filter Out Rows Flagged\n",
    "df = df[df.Vehicle_Journey_ID != 0]"
   ]
  },
  {
   "cell_type": "code",
   "execution_count": 83,
   "metadata": {
    "collapsed": true
   },
   "outputs": [],
   "source": [
    "df['Vehicle_Journey_ID'] = df['Vehicle_Journey_ID'].astype('object')"
   ]
  },
  {
   "cell_type": "code",
   "execution_count": 84,
   "metadata": {
    "collapsed": true
   },
   "outputs": [],
   "source": [
    "# Organise the Data\n",
    "df.sort_values(['Time_Frame', 'Vehicle_ID', 'Vehicle_Journey_ID', 'Timestamp'], ascending=True, inplace=True)\n",
    "# Clean up index\n",
    "df.reset_index(drop=True,inplace=True)"
   ]
  },
  {
   "cell_type": "code",
   "execution_count": 85,
   "metadata": {},
   "outputs": [
    {
     "data": {
      "text/plain": [
       "(2482231, 13)"
      ]
     },
     "execution_count": 85,
     "metadata": {},
     "output_type": "execute_result"
    }
   ],
   "source": [
    "df.shape"
   ]
  },
  {
   "cell_type": "markdown",
   "metadata": {},
   "source": [
    "## Add Distance Feature"
   ]
  },
  {
   "cell_type": "markdown",
   "metadata": {},
   "source": [
    "Before dropping duplicate StopId's we must first measure the distance on each route. This requires that we use all rows of data.\n",
    "\n",
    "This will also make any VehicleJourneyId's which miss a stop along their journey useful data in the model."
   ]
  },
  {
   "cell_type": "code",
   "execution_count": 86,
   "metadata": {
    "collapsed": true
   },
   "outputs": [],
   "source": [
    "@numba.jit(nogil=True)\n",
    "def get_distance(lat1, long1, lat2, long2):\n",
    "    \"\"\" Get distance between two geo coordinates in km \"\"\"\n",
    "    \n",
    "    stop1 = (lat1, long1)\n",
    "    stop2 = (lat2, long2)\n",
    "    \n",
    "    return haversine(stop1,stop2)"
   ]
  },
  {
   "cell_type": "code",
   "execution_count": 87,
   "metadata": {},
   "outputs": [
    {
     "data": {
      "text/plain": [
       "Timestamp             datetime64[ns]\n",
       "Journey_Pattern_ID          category\n",
       "Time_Frame            datetime64[ns]\n",
       "Vehicle_Journey_ID            object\n",
       "Bus_Operator                category\n",
       "Longitude                    float64\n",
       "Latitude                     float64\n",
       "Delay_seconds                  int32\n",
       "Block_ID                    category\n",
       "Vehicle_ID                  category\n",
       "Stop_ID                     category\n",
       "At_Stop                        int32\n",
       "Week_Day                       int32\n",
       "dtype: object"
      ]
     },
     "execution_count": 87,
     "metadata": {},
     "output_type": "execute_result"
    }
   ],
   "source": [
    "df.dtypes"
   ]
  },
  {
   "cell_type": "code",
   "execution_count": 88,
   "metadata": {
    "collapsed": true
   },
   "outputs": [],
   "source": [
    "@numba.jit(nogil=True)\n",
    "def add_distance_todf(df):\n",
    "\n",
    "    # List to hold feature\n",
    "    df[\"Distance\"] = np.nan\n",
    "    \n",
    "    # Set up values on first iteration\n",
    "    last_id = df.loc[0, \"Vehicle_Journey_ID\"]\n",
    "    last_lat = df.loc[0, \"Latitude\"]\n",
    "    last_long = df.loc[0, \"Longitude\"]\n",
    "    last_distance = 0\n",
    "    \n",
    "    #set very first distance\n",
    "    df.set_value(0, \"Distance\", 0)\n",
    "\n",
    "    for row in itertools.islice(df.itertuples(),1,None):\n",
    "        \n",
    "        current_id = row[4]\n",
    "        current_lat = row[7]\n",
    "        current_long = row[6]\n",
    "        current_distance = get_distance(current_lat, current_long, last_lat, last_long)\n",
    "\n",
    "        # If it's a new Journey ID\n",
    "        if current_id != last_id:\n",
    "            last_lat = row[7]\n",
    "            last_long = row[6]\n",
    "            last_id = row[4]\n",
    "            last_distance = 0\n",
    "\n",
    "            df.set_value(row[0], \"Distance\", 0)\n",
    "            continue\n",
    "\n",
    "        # If it's not a new Journey ID\n",
    "        current_distance = get_distance(current_lat, current_long, last_lat, last_long)\n",
    "        \n",
    "        last_distance += current_distance\n",
    "        \n",
    "        df.set_value(row[0], \"Distance\", last_distance)\n",
    "        last_lat = row[7]\n",
    "        last_long = row[6]\n",
    "        last_id = row[4]\n",
    "        "
   ]
  },
  {
   "cell_type": "code",
   "execution_count": 89,
   "metadata": {},
   "outputs": [
    {
     "name": "stdout",
     "output_type": "stream",
     "text": [
      "1 loop, best of 3: 1min 59s per loop\n"
     ]
    }
   ],
   "source": [
    "%timeit add_distance_todf(df)"
   ]
  },
  {
   "cell_type": "code",
   "execution_count": 90,
   "metadata": {
    "collapsed": true
   },
   "outputs": [],
   "source": [
    "#original code: > 5 minutes, I stopped the loop and proceeded optimizing\n",
    "# jit numba + itertuples + skip first row: 246 seconds"
   ]
  },
  {
   "cell_type": "code",
   "execution_count": 91,
   "metadata": {},
   "outputs": [
    {
     "data": {
      "text/html": [
       "<div>\n",
       "<style>\n",
       "    .dataframe thead tr:only-child th {\n",
       "        text-align: right;\n",
       "    }\n",
       "\n",
       "    .dataframe thead th {\n",
       "        text-align: left;\n",
       "    }\n",
       "\n",
       "    .dataframe tbody tr th {\n",
       "        vertical-align: top;\n",
       "    }\n",
       "</style>\n",
       "<table border=\"1\" class=\"dataframe\">\n",
       "  <thead>\n",
       "    <tr style=\"text-align: right;\">\n",
       "      <th></th>\n",
       "      <th>Timestamp</th>\n",
       "      <th>Journey_Pattern_ID</th>\n",
       "      <th>Time_Frame</th>\n",
       "      <th>Vehicle_Journey_ID</th>\n",
       "      <th>Bus_Operator</th>\n",
       "      <th>Longitude</th>\n",
       "      <th>Latitude</th>\n",
       "      <th>Delay_seconds</th>\n",
       "      <th>Block_ID</th>\n",
       "      <th>Vehicle_ID</th>\n",
       "      <th>Stop_ID</th>\n",
       "      <th>At_Stop</th>\n",
       "      <th>Week_Day</th>\n",
       "      <th>Distance</th>\n",
       "    </tr>\n",
       "  </thead>\n",
       "  <tbody>\n",
       "    <tr>\n",
       "      <th>0</th>\n",
       "      <td>2012-11-11 10:55:24</td>\n",
       "      <td>02380001</td>\n",
       "      <td>2012-11-11</td>\n",
       "      <td>14326</td>\n",
       "      <td>HN</td>\n",
       "      <td>-6.378200</td>\n",
       "      <td>53.419167</td>\n",
       "      <td>20</td>\n",
       "      <td>238002</td>\n",
       "      <td>24587</td>\n",
       "      <td>7073</td>\n",
       "      <td>1</td>\n",
       "      <td>6</td>\n",
       "      <td>0.000000</td>\n",
       "    </tr>\n",
       "    <tr>\n",
       "      <th>1</th>\n",
       "      <td>2012-11-11 10:55:44</td>\n",
       "      <td>02380001</td>\n",
       "      <td>2012-11-11</td>\n",
       "      <td>14326</td>\n",
       "      <td>HN</td>\n",
       "      <td>-6.378497</td>\n",
       "      <td>53.419022</td>\n",
       "      <td>39</td>\n",
       "      <td>238002</td>\n",
       "      <td>24587</td>\n",
       "      <td>7073</td>\n",
       "      <td>0</td>\n",
       "      <td>6</td>\n",
       "      <td>0.025442</td>\n",
       "    </tr>\n",
       "    <tr>\n",
       "      <th>2</th>\n",
       "      <td>2012-11-11 10:55:46</td>\n",
       "      <td>02380001</td>\n",
       "      <td>2012-11-11</td>\n",
       "      <td>14326</td>\n",
       "      <td>HN</td>\n",
       "      <td>-6.378459</td>\n",
       "      <td>53.419052</td>\n",
       "      <td>39</td>\n",
       "      <td>238002</td>\n",
       "      <td>24587</td>\n",
       "      <td>7073</td>\n",
       "      <td>0</td>\n",
       "      <td>6</td>\n",
       "      <td>0.029622</td>\n",
       "    </tr>\n",
       "    <tr>\n",
       "      <th>3</th>\n",
       "      <td>2012-11-11 10:56:23</td>\n",
       "      <td>02380001</td>\n",
       "      <td>2012-11-11</td>\n",
       "      <td>14326</td>\n",
       "      <td>HN</td>\n",
       "      <td>-6.381803</td>\n",
       "      <td>53.418823</td>\n",
       "      <td>64</td>\n",
       "      <td>238002</td>\n",
       "      <td>24587</td>\n",
       "      <td>7073</td>\n",
       "      <td>0</td>\n",
       "      <td>6</td>\n",
       "      <td>0.252679</td>\n",
       "    </tr>\n",
       "    <tr>\n",
       "      <th>4</th>\n",
       "      <td>2012-11-11 10:56:43</td>\n",
       "      <td>02380001</td>\n",
       "      <td>2012-11-11</td>\n",
       "      <td>14326</td>\n",
       "      <td>HN</td>\n",
       "      <td>-6.384019</td>\n",
       "      <td>53.419331</td>\n",
       "      <td>64</td>\n",
       "      <td>238002</td>\n",
       "      <td>24587</td>\n",
       "      <td>7073</td>\n",
       "      <td>0</td>\n",
       "      <td>6</td>\n",
       "      <td>0.410018</td>\n",
       "    </tr>\n",
       "  </tbody>\n",
       "</table>\n",
       "</div>"
      ],
      "text/plain": [
       "            Timestamp Journey_Pattern_ID Time_Frame Vehicle_Journey_ID  \\\n",
       "0 2012-11-11 10:55:24           02380001 2012-11-11              14326   \n",
       "1 2012-11-11 10:55:44           02380001 2012-11-11              14326   \n",
       "2 2012-11-11 10:55:46           02380001 2012-11-11              14326   \n",
       "3 2012-11-11 10:56:23           02380001 2012-11-11              14326   \n",
       "4 2012-11-11 10:56:43           02380001 2012-11-11              14326   \n",
       "\n",
       "  Bus_Operator  Longitude   Latitude  Delay_seconds Block_ID Vehicle_ID  \\\n",
       "0           HN  -6.378200  53.419167             20   238002      24587   \n",
       "1           HN  -6.378497  53.419022             39   238002      24587   \n",
       "2           HN  -6.378459  53.419052             39   238002      24587   \n",
       "3           HN  -6.381803  53.418823             64   238002      24587   \n",
       "4           HN  -6.384019  53.419331             64   238002      24587   \n",
       "\n",
       "  Stop_ID  At_Stop  Week_Day  Distance  \n",
       "0    7073        1         6  0.000000  \n",
       "1    7073        0         6  0.025442  \n",
       "2    7073        0         6  0.029622  \n",
       "3    7073        0         6  0.252679  \n",
       "4    7073        0         6  0.410018  "
      ]
     },
     "execution_count": 91,
     "metadata": {},
     "output_type": "execute_result"
    }
   ],
   "source": [
    "df.head()"
   ]
  },
  {
   "cell_type": "markdown",
   "metadata": {},
   "source": [
    "## Remove Stop ID Duplicates"
   ]
  },
  {
   "cell_type": "markdown",
   "metadata": {},
   "source": [
    "Now we can filter the dataframe a little by removing dupicate stopID's. Although it would be better to train on every row it might be too much to compute. \n",
    "\n",
    "This will also help us later in making the database stop distances. There is not enough information to map the exact distance to each stop, so we will have to take some kind of average of the AtStop == 0 columns and subtract a little to get a rough distance to each stop in a Journey Pattern ID.\n",
    "\n",
    "Because this section keeps the first occurance of each StopId, this should be a very accurate way to estimate the distance to each stop on each route."
   ]
  },
  {
   "cell_type": "code",
   "execution_count": 92,
   "metadata": {
    "collapsed": true
   },
   "outputs": [],
   "source": [
    "\"\"\" This will delete all duplicates AFTER the first example of each is found. So when the bus arrives at the stop, \n",
    "all subsequent rows at that stop will be deleted. \"\"\"\n",
    "\n",
    "df.drop_duplicates([\"Time_Frame\", 'Vehicle_ID', \"Vehicle_Journey_ID\", \"Stop_ID\"],inplace=True)"
   ]
  },
  {
   "cell_type": "code",
   "execution_count": 93,
   "metadata": {
    "collapsed": true
   },
   "outputs": [],
   "source": [
    "# Organise the Data\n",
    "df.sort_values([\"Time_Frame\", 'Vehicle_ID', \"Vehicle_Journey_ID\", 'Timestamp'], ascending=True, inplace=True)\n",
    "\n",
    "# Clean up index\n",
    "df.reset_index(drop=True,inplace=True)"
   ]
  },
  {
   "cell_type": "code",
   "execution_count": 94,
   "metadata": {},
   "outputs": [
    {
     "data": {
      "text/plain": [
       "(747672, 14)"
      ]
     },
     "execution_count": 94,
     "metadata": {},
     "output_type": "execute_result"
    }
   ],
   "source": [
    "# Check size of dataframe\n",
    "df.shape"
   ]
  },
  {
   "cell_type": "code",
   "execution_count": 95,
   "metadata": {},
   "outputs": [
    {
     "data": {
      "text/plain": [
       "Timestamp             datetime64[ns]\n",
       "Journey_Pattern_ID          category\n",
       "Time_Frame            datetime64[ns]\n",
       "Vehicle_Journey_ID            object\n",
       "Bus_Operator                category\n",
       "Longitude                    float64\n",
       "Latitude                     float64\n",
       "Delay_seconds                  int32\n",
       "Block_ID                    category\n",
       "Vehicle_ID                  category\n",
       "Stop_ID                     category\n",
       "At_Stop                        int32\n",
       "Week_Day                       int32\n",
       "Distance                     float64\n",
       "dtype: object"
      ]
     },
     "execution_count": 95,
     "metadata": {},
     "output_type": "execute_result"
    }
   ],
   "source": [
    "df.dtypes"
   ]
  },
  {
   "cell_type": "markdown",
   "metadata": {},
   "source": [
    "## Add Time Taken Feature"
   ]
  },
  {
   "cell_type": "code",
   "execution_count": 96,
   "metadata": {
    "collapsed": true
   },
   "outputs": [],
   "source": [
    "@numba.jit(nogil=True)\n",
    "def time_taken_feature(df):\n",
    "\n",
    "    # List to hold feature\n",
    "    df[\"TravelTime\"] = np.nan\n",
    "    \n",
    "    \n",
    "    # Set up values on first iteration\n",
    "    last_id = df.loc[0, \"Vehicle_Journey_ID\"]\n",
    "    start_time = df.loc[0, \"Timestamp\"]\n",
    "    \n",
    "    #set very first distance\n",
    "    df.set_value(0, \"TravelTime\", 0.0)\n",
    "\n",
    "    for row in itertools.islice(df.itertuples(),1,None):\n",
    "\n",
    "        current_time = row[1]\n",
    "        current_id = row[4]\n",
    "\n",
    "        # If it's a new Journey ID\n",
    "        if current_id != last_id:\n",
    "            last_id = row[4]        \n",
    "            start_time = row[1]        \n",
    "            df.set_value(row[0], \"TravelTime\", 0.0)\n",
    "            continue\n",
    "        \n",
    "        df.set_value(row[0], \"TravelTime\", abs((current_time - start_time).total_seconds()) )  \n",
    "        last_time = row[1]\n",
    "        last_id = row[4]"
   ]
  },
  {
   "cell_type": "code",
   "execution_count": 97,
   "metadata": {},
   "outputs": [
    {
     "name": "stdout",
     "output_type": "stream",
     "text": [
      "1 loop, best of 3: 26.7 s per loop\n"
     ]
    }
   ],
   "source": [
    "%timeit time_taken_feature(df)"
   ]
  },
  {
   "cell_type": "markdown",
   "metadata": {},
   "source": [
    "## Add Time Category Feature"
   ]
  },
  {
   "cell_type": "code",
   "execution_count": 98,
   "metadata": {
    "collapsed": true
   },
   "outputs": [],
   "source": [
    "df[\"TimeCategory\"] = pd.DatetimeIndex(df['Timestamp']).round('30min')  "
   ]
  },
  {
   "cell_type": "code",
   "execution_count": 99,
   "metadata": {
    "collapsed": true
   },
   "outputs": [],
   "source": [
    "df['Time_hour'] = df['Timestamp'].values.astype('<M8[h]')"
   ]
  },
  {
   "cell_type": "code",
   "execution_count": 100,
   "metadata": {
    "collapsed": true
   },
   "outputs": [],
   "source": [
    "COLTYPES = {\n",
    "    \n",
    "    \"Time_hour\" : 'str',\n",
    "    \"Rain\" : 'float32',\n",
    "    \"Temp\" : 'float32',\n",
    "    \"Windspeed\" : 'float32'\n",
    "           }"
   ]
  },
  {
   "cell_type": "code",
   "execution_count": 101,
   "metadata": {
    "collapsed": true
   },
   "outputs": [],
   "source": [
    "df2 = pd.read_csv('WeatherData_cleaned.csv', dtype=COLTYPES, parse_dates=[0])"
   ]
  },
  {
   "cell_type": "code",
   "execution_count": 102,
   "metadata": {
    "collapsed": true
   },
   "outputs": [],
   "source": [
    "df = pd.merge(df,df2, how='inner', on='Time_hour')"
   ]
  },
  {
   "cell_type": "code",
   "execution_count": 103,
   "metadata": {
    "collapsed": true
   },
   "outputs": [],
   "source": [
    "df.drop('Time_hour', axis=1, inplace=True)"
   ]
  },
  {
   "cell_type": "code",
   "execution_count": 104,
   "metadata": {
    "collapsed": true
   },
   "outputs": [],
   "source": [
    "hdf_path = 'cleaned_store.h5'"
   ]
  },
  {
   "cell_type": "code",
   "execution_count": 105,
   "metadata": {
    "collapsed": true
   },
   "outputs": [],
   "source": [
    "# Convert data type category to object before writing the hdf file, reason is to avoid conflicts\n",
    "for column in categorical_columns:\n",
    "    df[column] = df[column].astype('object')"
   ]
  },
  {
   "cell_type": "code",
   "execution_count": 106,
   "metadata": {
    "collapsed": true
   },
   "outputs": [],
   "source": [
    "df.to_hdf(hdf_path, 'table_name', mode='a', format='table', append=True, data_columns=True,complevel=9, complib='blosc')"
   ]
  },
  {
   "cell_type": "code",
   "execution_count": null,
   "metadata": {
    "collapsed": true
   },
   "outputs": [],
   "source": []
  },
  {
   "cell_type": "code",
   "execution_count": null,
   "metadata": {
    "collapsed": true
   },
   "outputs": [],
   "source": []
  },
  {
   "cell_type": "code",
   "execution_count": 107,
   "metadata": {
    "collapsed": true
   },
   "outputs": [],
   "source": [
    "df = pd.read_hdf(\"cleaned_store.h5\", key=\"table_name\", where='Week_Day == 6')"
   ]
  },
  {
   "cell_type": "code",
   "execution_count": 108,
   "metadata": {},
   "outputs": [
    {
     "data": {
      "text/html": [
       "<div>\n",
       "<style>\n",
       "    .dataframe thead tr:only-child th {\n",
       "        text-align: right;\n",
       "    }\n",
       "\n",
       "    .dataframe thead th {\n",
       "        text-align: left;\n",
       "    }\n",
       "\n",
       "    .dataframe tbody tr th {\n",
       "        vertical-align: top;\n",
       "    }\n",
       "</style>\n",
       "<table border=\"1\" class=\"dataframe\">\n",
       "  <thead>\n",
       "    <tr style=\"text-align: right;\">\n",
       "      <th></th>\n",
       "      <th>Timestamp</th>\n",
       "      <th>Journey_Pattern_ID</th>\n",
       "      <th>Time_Frame</th>\n",
       "      <th>Vehicle_Journey_ID</th>\n",
       "      <th>Bus_Operator</th>\n",
       "      <th>Longitude</th>\n",
       "      <th>Latitude</th>\n",
       "      <th>Delay_seconds</th>\n",
       "      <th>Block_ID</th>\n",
       "      <th>Vehicle_ID</th>\n",
       "      <th>Stop_ID</th>\n",
       "      <th>At_Stop</th>\n",
       "      <th>Week_Day</th>\n",
       "      <th>Distance</th>\n",
       "      <th>TravelTime</th>\n",
       "      <th>TimeCategory</th>\n",
       "      <th>Rain</th>\n",
       "      <th>Temp</th>\n",
       "      <th>windSpeed</th>\n",
       "    </tr>\n",
       "  </thead>\n",
       "  <tbody>\n",
       "    <tr>\n",
       "      <th>0</th>\n",
       "      <td>2012-11-11 10:55:24</td>\n",
       "      <td>02380001</td>\n",
       "      <td>2012-11-11</td>\n",
       "      <td>14326</td>\n",
       "      <td>HN</td>\n",
       "      <td>-6.378200</td>\n",
       "      <td>53.419167</td>\n",
       "      <td>20</td>\n",
       "      <td>238002</td>\n",
       "      <td>24587</td>\n",
       "      <td>7073</td>\n",
       "      <td>1</td>\n",
       "      <td>6</td>\n",
       "      <td>0.000000</td>\n",
       "      <td>0.0</td>\n",
       "      <td>2012-11-11 11:00:00</td>\n",
       "      <td>0.0</td>\n",
       "      <td>4.9</td>\n",
       "      <td>5.67</td>\n",
       "    </tr>\n",
       "    <tr>\n",
       "      <th>1</th>\n",
       "      <td>2012-11-11 10:57:22</td>\n",
       "      <td>02380001</td>\n",
       "      <td>2012-11-11</td>\n",
       "      <td>14326</td>\n",
       "      <td>HN</td>\n",
       "      <td>-6.384740</td>\n",
       "      <td>53.420254</td>\n",
       "      <td>106</td>\n",
       "      <td>238002</td>\n",
       "      <td>24587</td>\n",
       "      <td>7097</td>\n",
       "      <td>1</td>\n",
       "      <td>6</td>\n",
       "      <td>0.523641</td>\n",
       "      <td>118.0</td>\n",
       "      <td>2012-11-11 11:00:00</td>\n",
       "      <td>0.0</td>\n",
       "      <td>4.9</td>\n",
       "      <td>5.67</td>\n",
       "    </tr>\n",
       "    <tr>\n",
       "      <th>2</th>\n",
       "      <td>2012-11-11 10:59:42</td>\n",
       "      <td>02380001</td>\n",
       "      <td>2012-11-11</td>\n",
       "      <td>14326</td>\n",
       "      <td>HN</td>\n",
       "      <td>-6.393175</td>\n",
       "      <td>53.420818</td>\n",
       "      <td>201</td>\n",
       "      <td>238002</td>\n",
       "      <td>24587</td>\n",
       "      <td>7099</td>\n",
       "      <td>0</td>\n",
       "      <td>6</td>\n",
       "      <td>1.123999</td>\n",
       "      <td>258.0</td>\n",
       "      <td>2012-11-11 11:00:00</td>\n",
       "      <td>0.0</td>\n",
       "      <td>4.9</td>\n",
       "      <td>5.67</td>\n",
       "    </tr>\n",
       "    <tr>\n",
       "      <th>3</th>\n",
       "      <td>2012-11-11 10:00:45</td>\n",
       "      <td>01220001</td>\n",
       "      <td>2012-11-11</td>\n",
       "      <td>14241</td>\n",
       "      <td>PO</td>\n",
       "      <td>-6.265253</td>\n",
       "      <td>53.334057</td>\n",
       "      <td>44</td>\n",
       "      <td>12203</td>\n",
       "      <td>33096</td>\n",
       "      <td>1285</td>\n",
       "      <td>0</td>\n",
       "      <td>6</td>\n",
       "      <td>8.605123</td>\n",
       "      <td>1761.0</td>\n",
       "      <td>2012-11-11 10:00:00</td>\n",
       "      <td>0.0</td>\n",
       "      <td>4.9</td>\n",
       "      <td>5.67</td>\n",
       "    </tr>\n",
       "    <tr>\n",
       "      <th>4</th>\n",
       "      <td>2012-11-11 10:03:43</td>\n",
       "      <td>01220001</td>\n",
       "      <td>2012-11-11</td>\n",
       "      <td>14241</td>\n",
       "      <td>PO</td>\n",
       "      <td>-6.265603</td>\n",
       "      <td>53.332573</td>\n",
       "      <td>128</td>\n",
       "      <td>12203</td>\n",
       "      <td>33096</td>\n",
       "      <td>1286</td>\n",
       "      <td>1</td>\n",
       "      <td>6</td>\n",
       "      <td>9.069071</td>\n",
       "      <td>1939.0</td>\n",
       "      <td>2012-11-11 10:00:00</td>\n",
       "      <td>0.0</td>\n",
       "      <td>4.9</td>\n",
       "      <td>5.67</td>\n",
       "    </tr>\n",
       "  </tbody>\n",
       "</table>\n",
       "</div>"
      ],
      "text/plain": [
       "            Timestamp Journey_Pattern_ID Time_Frame Vehicle_Journey_ID  \\\n",
       "0 2012-11-11 10:55:24           02380001 2012-11-11              14326   \n",
       "1 2012-11-11 10:57:22           02380001 2012-11-11              14326   \n",
       "2 2012-11-11 10:59:42           02380001 2012-11-11              14326   \n",
       "3 2012-11-11 10:00:45           01220001 2012-11-11              14241   \n",
       "4 2012-11-11 10:03:43           01220001 2012-11-11              14241   \n",
       "\n",
       "  Bus_Operator  Longitude   Latitude  Delay_seconds Block_ID Vehicle_ID  \\\n",
       "0           HN  -6.378200  53.419167             20   238002      24587   \n",
       "1           HN  -6.384740  53.420254            106   238002      24587   \n",
       "2           HN  -6.393175  53.420818            201   238002      24587   \n",
       "3           PO  -6.265253  53.334057             44    12203      33096   \n",
       "4           PO  -6.265603  53.332573            128    12203      33096   \n",
       "\n",
       "  Stop_ID  At_Stop  Week_Day  Distance  TravelTime        TimeCategory  Rain  \\\n",
       "0    7073        1         6  0.000000         0.0 2012-11-11 11:00:00   0.0   \n",
       "1    7097        1         6  0.523641       118.0 2012-11-11 11:00:00   0.0   \n",
       "2    7099        0         6  1.123999       258.0 2012-11-11 11:00:00   0.0   \n",
       "3    1285        0         6  8.605123      1761.0 2012-11-11 10:00:00   0.0   \n",
       "4    1286        1         6  9.069071      1939.0 2012-11-11 10:00:00   0.0   \n",
       "\n",
       "   Temp  windSpeed  \n",
       "0   4.9       5.67  \n",
       "1   4.9       5.67  \n",
       "2   4.9       5.67  \n",
       "3   4.9       5.67  \n",
       "4   4.9       5.67  "
      ]
     },
     "execution_count": 108,
     "metadata": {},
     "output_type": "execute_result"
    }
   ],
   "source": [
    "df.head()"
   ]
  },
  {
   "cell_type": "code",
   "execution_count": 109,
   "metadata": {},
   "outputs": [
    {
     "data": {
      "text/plain": [
       "(747672, 19)"
      ]
     },
     "execution_count": 109,
     "metadata": {},
     "output_type": "execute_result"
    }
   ],
   "source": [
    "df.shape"
   ]
  },
  {
   "cell_type": "code",
   "execution_count": 110,
   "metadata": {},
   "outputs": [
    {
     "data": {
      "text/html": [
       "<div>\n",
       "<style>\n",
       "    .dataframe thead tr:only-child th {\n",
       "        text-align: right;\n",
       "    }\n",
       "\n",
       "    .dataframe thead th {\n",
       "        text-align: left;\n",
       "    }\n",
       "\n",
       "    .dataframe tbody tr th {\n",
       "        vertical-align: top;\n",
       "    }\n",
       "</style>\n",
       "<table border=\"1\" class=\"dataframe\">\n",
       "  <thead>\n",
       "    <tr style=\"text-align: right;\">\n",
       "      <th></th>\n",
       "      <th>Timestamp</th>\n",
       "      <th>Journey_Pattern_ID</th>\n",
       "      <th>Time_Frame</th>\n",
       "      <th>Vehicle_Journey_ID</th>\n",
       "      <th>Bus_Operator</th>\n",
       "      <th>Longitude</th>\n",
       "      <th>Latitude</th>\n",
       "      <th>Delay_seconds</th>\n",
       "      <th>Block_ID</th>\n",
       "      <th>Vehicle_ID</th>\n",
       "      <th>Stop_ID</th>\n",
       "      <th>At_Stop</th>\n",
       "      <th>Week_Day</th>\n",
       "      <th>Distance</th>\n",
       "      <th>TravelTime</th>\n",
       "      <th>TimeCategory</th>\n",
       "      <th>Rain</th>\n",
       "      <th>Temp</th>\n",
       "      <th>windSpeed</th>\n",
       "    </tr>\n",
       "  </thead>\n",
       "  <tbody>\n",
       "    <tr>\n",
       "      <th>747667</th>\n",
       "      <td>2013-01-28 00:01:46</td>\n",
       "      <td>00420001</td>\n",
       "      <td>2013-01-27</td>\n",
       "      <td>16787</td>\n",
       "      <td>CF</td>\n",
       "      <td>-6.131581</td>\n",
       "      <td>53.435257</td>\n",
       "      <td>-345</td>\n",
       "      <td>42008</td>\n",
       "      <td>43070</td>\n",
       "      <td>3615</td>\n",
       "      <td>1</td>\n",
       "      <td>6</td>\n",
       "      <td>19.711021</td>\n",
       "      <td>1898.0</td>\n",
       "      <td>2013-01-28 00:00:00</td>\n",
       "      <td>0.0</td>\n",
       "      <td>2.6</td>\n",
       "      <td>11.30</td>\n",
       "    </tr>\n",
       "    <tr>\n",
       "      <th>747668</th>\n",
       "      <td>2013-01-28 00:05:06</td>\n",
       "      <td>00420001</td>\n",
       "      <td>2013-01-27</td>\n",
       "      <td>16787</td>\n",
       "      <td>CF</td>\n",
       "      <td>-6.134617</td>\n",
       "      <td>53.422699</td>\n",
       "      <td>-174</td>\n",
       "      <td>42008</td>\n",
       "      <td>43070</td>\n",
       "      <td>3616</td>\n",
       "      <td>1</td>\n",
       "      <td>6</td>\n",
       "      <td>21.699932</td>\n",
       "      <td>2098.0</td>\n",
       "      <td>2013-01-28 00:00:00</td>\n",
       "      <td>0.0</td>\n",
       "      <td>2.6</td>\n",
       "      <td>11.30</td>\n",
       "    </tr>\n",
       "    <tr>\n",
       "      <th>747669</th>\n",
       "      <td>2013-01-28 01:00:10</td>\n",
       "      <td>00651003</td>\n",
       "      <td>2013-01-27</td>\n",
       "      <td>16846</td>\n",
       "      <td>RD</td>\n",
       "      <td>-6.263841</td>\n",
       "      <td>53.343029</td>\n",
       "      <td>-485</td>\n",
       "      <td>65006</td>\n",
       "      <td>38006</td>\n",
       "      <td>1357</td>\n",
       "      <td>0</td>\n",
       "      <td>6</td>\n",
       "      <td>30.195194</td>\n",
       "      <td>2506.0</td>\n",
       "      <td>2013-01-28 01:00:00</td>\n",
       "      <td>0.0</td>\n",
       "      <td>2.7</td>\n",
       "      <td>9.41</td>\n",
       "    </tr>\n",
       "    <tr>\n",
       "      <th>747670</th>\n",
       "      <td>2013-01-28 01:01:31</td>\n",
       "      <td>00651003</td>\n",
       "      <td>2013-01-27</td>\n",
       "      <td>16846</td>\n",
       "      <td>RD</td>\n",
       "      <td>-6.261706</td>\n",
       "      <td>53.344307</td>\n",
       "      <td>-424</td>\n",
       "      <td>65006</td>\n",
       "      <td>38006</td>\n",
       "      <td>1358</td>\n",
       "      <td>0</td>\n",
       "      <td>6</td>\n",
       "      <td>30.459973</td>\n",
       "      <td>2587.0</td>\n",
       "      <td>2013-01-28 01:00:00</td>\n",
       "      <td>0.0</td>\n",
       "      <td>2.7</td>\n",
       "      <td>9.41</td>\n",
       "    </tr>\n",
       "    <tr>\n",
       "      <th>747671</th>\n",
       "      <td>2013-01-28 01:19:06</td>\n",
       "      <td>00651003</td>\n",
       "      <td>2013-01-27</td>\n",
       "      <td>16846</td>\n",
       "      <td>RD</td>\n",
       "      <td>-6.246666</td>\n",
       "      <td>53.344067</td>\n",
       "      <td>448</td>\n",
       "      <td>65006</td>\n",
       "      <td>38006</td>\n",
       "      <td>5189</td>\n",
       "      <td>1</td>\n",
       "      <td>6</td>\n",
       "      <td>31.925939</td>\n",
       "      <td>3642.0</td>\n",
       "      <td>2013-01-28 01:30:00</td>\n",
       "      <td>0.0</td>\n",
       "      <td>2.7</td>\n",
       "      <td>9.41</td>\n",
       "    </tr>\n",
       "  </tbody>\n",
       "</table>\n",
       "</div>"
      ],
      "text/plain": [
       "                 Timestamp Journey_Pattern_ID Time_Frame Vehicle_Journey_ID  \\\n",
       "747667 2013-01-28 00:01:46           00420001 2013-01-27              16787   \n",
       "747668 2013-01-28 00:05:06           00420001 2013-01-27              16787   \n",
       "747669 2013-01-28 01:00:10           00651003 2013-01-27              16846   \n",
       "747670 2013-01-28 01:01:31           00651003 2013-01-27              16846   \n",
       "747671 2013-01-28 01:19:06           00651003 2013-01-27              16846   \n",
       "\n",
       "       Bus_Operator  Longitude   Latitude  Delay_seconds Block_ID Vehicle_ID  \\\n",
       "747667           CF  -6.131581  53.435257           -345    42008      43070   \n",
       "747668           CF  -6.134617  53.422699           -174    42008      43070   \n",
       "747669           RD  -6.263841  53.343029           -485    65006      38006   \n",
       "747670           RD  -6.261706  53.344307           -424    65006      38006   \n",
       "747671           RD  -6.246666  53.344067            448    65006      38006   \n",
       "\n",
       "       Stop_ID  At_Stop  Week_Day   Distance  TravelTime        TimeCategory  \\\n",
       "747667    3615        1         6  19.711021      1898.0 2013-01-28 00:00:00   \n",
       "747668    3616        1         6  21.699932      2098.0 2013-01-28 00:00:00   \n",
       "747669    1357        0         6  30.195194      2506.0 2013-01-28 01:00:00   \n",
       "747670    1358        0         6  30.459973      2587.0 2013-01-28 01:00:00   \n",
       "747671    5189        1         6  31.925939      3642.0 2013-01-28 01:30:00   \n",
       "\n",
       "        Rain  Temp  windSpeed  \n",
       "747667   0.0   2.6      11.30  \n",
       "747668   0.0   2.6      11.30  \n",
       "747669   0.0   2.7       9.41  \n",
       "747670   0.0   2.7       9.41  \n",
       "747671   0.0   2.7       9.41  "
      ]
     },
     "execution_count": 110,
     "metadata": {},
     "output_type": "execute_result"
    }
   ],
   "source": [
    "df.tail()"
   ]
  },
  {
   "cell_type": "code",
   "execution_count": null,
   "metadata": {
    "collapsed": true
   },
   "outputs": [],
   "source": []
  }
 ],
 "metadata": {
  "anaconda-cloud": {},
  "kernelspec": {
   "display_name": "Python 3",
   "language": "python",
   "name": "python3"
  },
  "language_info": {
   "codemirror_mode": {
    "name": "ipython",
    "version": 3
   },
   "file_extension": ".py",
   "mimetype": "text/x-python",
   "name": "python",
   "nbconvert_exporter": "python",
   "pygments_lexer": "ipython3",
   "version": "3.6.1"
  }
 },
 "nbformat": 4,
 "nbformat_minor": 1
}
