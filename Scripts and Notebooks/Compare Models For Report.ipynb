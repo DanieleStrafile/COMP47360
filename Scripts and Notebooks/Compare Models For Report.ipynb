{
 "cells": [
  {
   "cell_type": "code",
   "execution_count": 1,
   "metadata": {
    "collapsed": true
   },
   "outputs": [],
   "source": [
    "import pandas as pd\n",
    "import numpy as np\n",
    "import pandas as pd\n",
    "import matplotlib as mpl\n",
    "import matplotlib.pyplot as plt\n",
    "\n",
    "%matplotlib inline\n",
    "\n",
    "# import seaborn as sns\n",
    "# sns.set(style=\"whitegrid\", color_codes=True)\n",
    "\n",
    "import seaborn as sns\n",
    "\n",
    "# For plot sizes\n",
    "from pylab import rcParams\n",
    "rcParams['figure.figsize'] = 10, 5\n",
    "\n",
    "# this is the standard import if you're using \"formula notation\" (similar to R)\n",
    "import statsmodels.formula.api as smf"
   ]
  },
  {
   "cell_type": "code",
   "execution_count": 2,
   "metadata": {
    "collapsed": false
   },
   "outputs": [],
   "source": [
    "df = pd.read_hdf(\"cleaned_store.h5\", key=\"table_name\", where='Journey_Pattern_ID == \"00401001\"', columns=['Timestamp', \"Journey_Pattern_ID\", \"Time_Frame\", \"Vehicle_Journey_ID\", \"Week_Day\", \"Distance\", \"TravelTime\", \"TimeCategory\", \"Rain\"])\n",
    "df.columns = [\"Timestamp\", \"JourneyPatternId\", \"TimeFrame\", \"VehicleJourneyId\", \"Day\", \"Distance\", \"TravelTime\", \"TimeCategory\", \"Rain\"]"
   ]
  },
  {
   "cell_type": "code",
   "execution_count": 3,
   "metadata": {
    "collapsed": false
   },
   "outputs": [
    {
     "data": {
      "text/html": [
       "<div>\n",
       "<table border=\"1\" class=\"dataframe\">\n",
       "  <thead>\n",
       "    <tr style=\"text-align: right;\">\n",
       "      <th></th>\n",
       "      <th>Timestamp</th>\n",
       "      <th>JourneyPatternId</th>\n",
       "      <th>TimeFrame</th>\n",
       "      <th>VehicleJourneyId</th>\n",
       "      <th>Day</th>\n",
       "      <th>Distance</th>\n",
       "      <th>TravelTime</th>\n",
       "      <th>TimeCategory</th>\n",
       "      <th>Rain</th>\n",
       "    </tr>\n",
       "  </thead>\n",
       "  <tbody>\n",
       "    <tr>\n",
       "      <th>823</th>\n",
       "      <td>2012-11-12 13:01:23</td>\n",
       "      <td>00401001</td>\n",
       "      <td>2012-11-12</td>\n",
       "      <td>6462</td>\n",
       "      <td>0</td>\n",
       "      <td>10.693702</td>\n",
       "      <td>1953.0</td>\n",
       "      <td>12:30:00</td>\n",
       "      <td>0.0</td>\n",
       "    </tr>\n",
       "    <tr>\n",
       "      <th>824</th>\n",
       "      <td>2012-11-12 13:02:41</td>\n",
       "      <td>00401001</td>\n",
       "      <td>2012-11-12</td>\n",
       "      <td>6462</td>\n",
       "      <td>0</td>\n",
       "      <td>11.236275</td>\n",
       "      <td>2031.0</td>\n",
       "      <td>12:30:00</td>\n",
       "      <td>0.0</td>\n",
       "    </tr>\n",
       "    <tr>\n",
       "      <th>825</th>\n",
       "      <td>2012-11-12 13:03:01</td>\n",
       "      <td>00401001</td>\n",
       "      <td>2012-11-12</td>\n",
       "      <td>6462</td>\n",
       "      <td>0</td>\n",
       "      <td>11.359826</td>\n",
       "      <td>2051.0</td>\n",
       "      <td>12:30:00</td>\n",
       "      <td>0.0</td>\n",
       "    </tr>\n",
       "    <tr>\n",
       "      <th>826</th>\n",
       "      <td>2012-11-12 13:05:23</td>\n",
       "      <td>00401001</td>\n",
       "      <td>2012-11-12</td>\n",
       "      <td>6462</td>\n",
       "      <td>0</td>\n",
       "      <td>11.750859</td>\n",
       "      <td>2193.0</td>\n",
       "      <td>12:30:00</td>\n",
       "      <td>0.0</td>\n",
       "    </tr>\n",
       "    <tr>\n",
       "      <th>827</th>\n",
       "      <td>2012-11-12 13:06:02</td>\n",
       "      <td>00401001</td>\n",
       "      <td>2012-11-12</td>\n",
       "      <td>6462</td>\n",
       "      <td>0</td>\n",
       "      <td>12.158680</td>\n",
       "      <td>2232.0</td>\n",
       "      <td>12:30:00</td>\n",
       "      <td>0.0</td>\n",
       "    </tr>\n",
       "  </tbody>\n",
       "</table>\n",
       "</div>"
      ],
      "text/plain": [
       "              Timestamp JourneyPatternId  TimeFrame VehicleJourneyId  Day  \\\n",
       "823 2012-11-12 13:01:23         00401001 2012-11-12             6462    0   \n",
       "824 2012-11-12 13:02:41         00401001 2012-11-12             6462    0   \n",
       "825 2012-11-12 13:03:01         00401001 2012-11-12             6462    0   \n",
       "826 2012-11-12 13:05:23         00401001 2012-11-12             6462    0   \n",
       "827 2012-11-12 13:06:02         00401001 2012-11-12             6462    0   \n",
       "\n",
       "      Distance  TravelTime TimeCategory  Rain  \n",
       "823  10.693702      1953.0     12:30:00   0.0  \n",
       "824  11.236275      2031.0     12:30:00   0.0  \n",
       "825  11.359826      2051.0     12:30:00   0.0  \n",
       "826  11.750859      2193.0     12:30:00   0.0  \n",
       "827  12.158680      2232.0     12:30:00   0.0  "
      ]
     },
     "execution_count": 3,
     "metadata": {},
     "output_type": "execute_result"
    }
   ],
   "source": [
    "df.head()"
   ]
  },
  {
   "cell_type": "markdown",
   "metadata": {},
   "source": [
    "## Change Day Category"
   ]
  },
  {
   "cell_type": "code",
   "execution_count": 4,
   "metadata": {
    "collapsed": true
   },
   "outputs": [],
   "source": [
    "# Organise the Data\n",
    "df = df.sort_values(['TimeFrame', 'VehicleJourneyId', 'Timestamp'], ascending=True)\n",
    "\n",
    "# Clean up index\n",
    "df = df.reset_index()\n",
    "del df['index']"
   ]
  },
  {
   "cell_type": "code",
   "execution_count": 5,
   "metadata": {
    "collapsed": true
   },
   "outputs": [],
   "source": [
    "df.Day = df.Day.astype(\"str\")"
   ]
  },
  {
   "cell_type": "code",
   "execution_count": 6,
   "metadata": {
    "collapsed": true
   },
   "outputs": [],
   "source": [
    "# Create group object to work with \n",
    "gb = df.groupby([\"TimeFrame\"], as_index=False, group_keys=False)"
   ]
  },
  {
   "cell_type": "code",
   "execution_count": 7,
   "metadata": {
    "collapsed": false
   },
   "outputs": [],
   "source": [
    "def change_day(group):\n",
    "    \n",
    "    day_num = group.Day.value_counts().index.tolist()[0]\n",
    "    \n",
    "    if day_num == '0' or day_num == '1' or day_num == '2' or day_num == '3' or day_num == '4':\n",
    "        group.Day = 'Mon-Fri'\n",
    "        \n",
    "    if day_num == '5':\n",
    "        group.Day = 'Sat'\n",
    "        \n",
    "    if day_num == '6':\n",
    "        group.Day = 'Sun'\n",
    "    \n",
    "    return group"
   ]
  },
  {
   "cell_type": "code",
   "execution_count": 8,
   "metadata": {
    "collapsed": false,
    "scrolled": true
   },
   "outputs": [],
   "source": [
    "df = gb.apply(change_day)"
   ]
  },
  {
   "cell_type": "code",
   "execution_count": 9,
   "metadata": {
    "collapsed": true
   },
   "outputs": [],
   "source": [
    "df.Day = df.Day.astype(\"category\")"
   ]
  },
  {
   "cell_type": "code",
   "execution_count": 10,
   "metadata": {
    "collapsed": false
   },
   "outputs": [
    {
     "data": {
      "text/plain": [
       "Timestamp           datetime64[ns]\n",
       "JourneyPatternId            object\n",
       "TimeFrame           datetime64[ns]\n",
       "VehicleJourneyId            object\n",
       "Day                       category\n",
       "Distance                   float64\n",
       "TravelTime                 float64\n",
       "TimeCategory                object\n",
       "Rain                       float32\n",
       "dtype: object"
      ]
     },
     "execution_count": 10,
     "metadata": {},
     "output_type": "execute_result"
    }
   ],
   "source": [
    "df.dtypes"
   ]
  },
  {
   "cell_type": "markdown",
   "metadata": {
    "collapsed": false
   },
   "source": [
    "## Change TimeCategory To New Speed Category"
   ]
  },
  {
   "cell_type": "code",
   "execution_count": 11,
   "metadata": {
    "collapsed": false
   },
   "outputs": [
    {
     "data": {
      "text/html": [
       "<div>\n",
       "<table border=\"1\" class=\"dataframe\">\n",
       "  <thead>\n",
       "    <tr style=\"text-align: right;\">\n",
       "      <th></th>\n",
       "      <th>Timestamp</th>\n",
       "      <th>JourneyPatternId</th>\n",
       "      <th>TimeFrame</th>\n",
       "      <th>VehicleJourneyId</th>\n",
       "      <th>Day</th>\n",
       "      <th>Distance</th>\n",
       "      <th>TravelTime</th>\n",
       "      <th>TimeCategory</th>\n",
       "      <th>Rain</th>\n",
       "    </tr>\n",
       "  </thead>\n",
       "  <tbody>\n",
       "    <tr>\n",
       "      <th>0</th>\n",
       "      <td>2012-11-06 12:40:39</td>\n",
       "      <td>00401001</td>\n",
       "      <td>2012-11-06</td>\n",
       "      <td>6320</td>\n",
       "      <td>Mon-Fri</td>\n",
       "      <td>0.000000</td>\n",
       "      <td>0.0</td>\n",
       "      <td>12:30:00</td>\n",
       "      <td>0.0</td>\n",
       "    </tr>\n",
       "    <tr>\n",
       "      <th>1</th>\n",
       "      <td>2012-11-06 12:42:58</td>\n",
       "      <td>00401001</td>\n",
       "      <td>2012-11-06</td>\n",
       "      <td>6320</td>\n",
       "      <td>Mon-Fri</td>\n",
       "      <td>1.288087</td>\n",
       "      <td>139.0</td>\n",
       "      <td>12:30:00</td>\n",
       "      <td>0.0</td>\n",
       "    </tr>\n",
       "    <tr>\n",
       "      <th>2</th>\n",
       "      <td>2012-11-06 12:43:41</td>\n",
       "      <td>00401001</td>\n",
       "      <td>2012-11-06</td>\n",
       "      <td>6320</td>\n",
       "      <td>Mon-Fri</td>\n",
       "      <td>1.539224</td>\n",
       "      <td>182.0</td>\n",
       "      <td>12:30:00</td>\n",
       "      <td>0.0</td>\n",
       "    </tr>\n",
       "    <tr>\n",
       "      <th>3</th>\n",
       "      <td>2012-11-06 12:43:59</td>\n",
       "      <td>00401001</td>\n",
       "      <td>2012-11-06</td>\n",
       "      <td>6320</td>\n",
       "      <td>Mon-Fri</td>\n",
       "      <td>1.860739</td>\n",
       "      <td>200.0</td>\n",
       "      <td>12:30:00</td>\n",
       "      <td>0.0</td>\n",
       "    </tr>\n",
       "    <tr>\n",
       "      <th>4</th>\n",
       "      <td>2012-11-06 12:44:20</td>\n",
       "      <td>00401001</td>\n",
       "      <td>2012-11-06</td>\n",
       "      <td>6320</td>\n",
       "      <td>Mon-Fri</td>\n",
       "      <td>2.188079</td>\n",
       "      <td>221.0</td>\n",
       "      <td>12:30:00</td>\n",
       "      <td>0.0</td>\n",
       "    </tr>\n",
       "  </tbody>\n",
       "</table>\n",
       "</div>"
      ],
      "text/plain": [
       "            Timestamp JourneyPatternId  TimeFrame VehicleJourneyId      Day  \\\n",
       "0 2012-11-06 12:40:39         00401001 2012-11-06             6320  Mon-Fri   \n",
       "1 2012-11-06 12:42:58         00401001 2012-11-06             6320  Mon-Fri   \n",
       "2 2012-11-06 12:43:41         00401001 2012-11-06             6320  Mon-Fri   \n",
       "3 2012-11-06 12:43:59         00401001 2012-11-06             6320  Mon-Fri   \n",
       "4 2012-11-06 12:44:20         00401001 2012-11-06             6320  Mon-Fri   \n",
       "\n",
       "   Distance  TravelTime TimeCategory  Rain  \n",
       "0  0.000000         0.0     12:30:00   0.0  \n",
       "1  1.288087       139.0     12:30:00   0.0  \n",
       "2  1.539224       182.0     12:30:00   0.0  \n",
       "3  1.860739       200.0     12:30:00   0.0  \n",
       "4  2.188079       221.0     12:30:00   0.0  "
      ]
     },
     "execution_count": 11,
     "metadata": {},
     "output_type": "execute_result"
    }
   ],
   "source": [
    "df.head()"
   ]
  },
  {
   "cell_type": "code",
   "execution_count": 12,
   "metadata": {
    "collapsed": true
   },
   "outputs": [],
   "source": [
    "df.columns = [\"Timestamp\", \"JourneyPatternId\", \"TimeFrame\", \"VehicleJourneyId\", \"Day\", \"Distance\", \"TravelTime\", \"Speed\", \"Rain\"]"
   ]
  },
  {
   "cell_type": "code",
   "execution_count": 13,
   "metadata": {
    "collapsed": false
   },
   "outputs": [],
   "source": [
    "# Organise the Data\n",
    "df = df.sort_values(['TimeFrame', 'VehicleJourneyId', 'Timestamp'], ascending=True)\n",
    "\n",
    "# Clean up index\n",
    "df = df.reset_index()\n",
    "del df['index']"
   ]
  },
  {
   "cell_type": "code",
   "execution_count": 14,
   "metadata": {
    "collapsed": true
   },
   "outputs": [],
   "source": [
    "# Create group object to work with \n",
    "gb = df.groupby([\"TimeFrame\", \"VehicleJourneyId\"], as_index=False, group_keys=False)"
   ]
  },
  {
   "cell_type": "code",
   "execution_count": 15,
   "metadata": {
    "collapsed": false
   },
   "outputs": [],
   "source": [
    "def change_day(group):\n",
    "    \n",
    "    day = group.Day.value_counts().index.tolist()[0]\n",
    "    time_cat = group.Speed.value_counts().index.tolist()[0]\n",
    "    \n",
    "    # For Weekdays\n",
    "    if day == 'Mon-Fri':\n",
    "        if time_cat == \"06:00:00\":\n",
    "            group.Speed = 'Fast'\n",
    "        if time_cat == \"06:30:00\":\n",
    "            group.Speed = 'Fast'\n",
    "        if time_cat == \"07:00:00\":\n",
    "            group.Speed = 'Medium'\n",
    "        if time_cat == \"07:30:00\":\n",
    "            group.Speed = 'Medium'\n",
    "        if time_cat == \"08:00:00\":\n",
    "            group.Speed = 'Slow'\n",
    "        if time_cat == \"08:30:00\":\n",
    "            group.Speed = 'Slow'\n",
    "        if time_cat == \"09:00:00\":\n",
    "            group.Speed = 'Slow'\n",
    "        if time_cat == \"09:30:00\":\n",
    "            group.Speed = 'Medium'\n",
    "        if time_cat == \"10:00:00\":\n",
    "            group.Speed = 'Medium'\n",
    "        if time_cat == \"10:30:00\":\n",
    "            group.Speed = 'Medium'\n",
    "        if time_cat == \"11:00:00\":\n",
    "            group.Speed = 'Medium'\n",
    "        if time_cat == \"11:30:00\":\n",
    "            group.Speed = 'Medium'\n",
    "        if time_cat == \"12:00:00\":\n",
    "            group.Speed = 'Medium'\n",
    "        if time_cat == \"12:30:00\":\n",
    "            group.Speed = 'Medium'\n",
    "        if time_cat == \"13:00:00\":\n",
    "            group.Speed = 'Slow'\n",
    "        if time_cat == \"13:30:00\":\n",
    "            group.Speed = 'Slow'\n",
    "        if time_cat == \"14:00:00\":\n",
    "            group.Speed = 'Medium'\n",
    "        if time_cat == \"14:30:00\":\n",
    "            group.Speed = 'Medium'\n",
    "        if time_cat == \"15:00:00\":\n",
    "            group.Speed = 'Medium'\n",
    "        if time_cat == \"15:30:00\":\n",
    "            group.Speed = 'Medium'\n",
    "        if time_cat == \"16:00:00\":\n",
    "            group.Speed = 'Slow'\n",
    "        if time_cat == \"16:30:00\":\n",
    "            group.Speed = 'Slow'\n",
    "        if time_cat == \"17:00:00\":\n",
    "            group.Speed = 'Slow'\n",
    "        if time_cat == \"17:30:00\":\n",
    "            group.Speed = 'Slow'\n",
    "        if time_cat == \"18:00:00\":\n",
    "            group.Speed = 'Slow'\n",
    "        if time_cat == \"18:30:00\":\n",
    "            group.Speed = 'Medium'\n",
    "        if time_cat == \"19:00:00\":\n",
    "            group.Speed = 'Medium'\n",
    "        if time_cat == \"19:30:00\":\n",
    "            group.Speed = 'Medium'\n",
    "        if time_cat == \"20:00:00\":\n",
    "            group.Speed = 'Medium'\n",
    "        if time_cat == \"20:30:00\":\n",
    "            group.Speed = 'Medium'\n",
    "        if time_cat == \"21:00:00\":\n",
    "            group.Speed = 'Medium'\n",
    "        if time_cat == \"21:30:00\":\n",
    "            group.Speed = 'Fast'\n",
    "        if time_cat == \"22:00:00\":\n",
    "            group.Speed = 'Fast'\n",
    "        if time_cat == \"22:30:00\":\n",
    "            group.Speed = 'Fast'\n",
    "        if time_cat == \"23:00:00\":\n",
    "            group.Speed = 'Fast'\n",
    "        if time_cat == \"23:30:00\":\n",
    "            group.Speed = 'Fast'\n",
    "        if time_cat == \"00:00:00\":\n",
    "            group.Speed = 'Fast'\n",
    "        if time_cat == \"00:30:00\":\n",
    "            group.Speed = 'Fast'\n",
    "        if time_cat == \"01:00:00\":\n",
    "            group.Speed = 'Fast'\n",
    "        if time_cat == \"01:30:00\":\n",
    "            group.Speed = 'Fast'\n",
    "        if time_cat == \"02:00:00\":\n",
    "            group.Speed = 'Fast'\n",
    "        if time_cat == \"02:30:00\":\n",
    "            group.Speed = 'Fast'\n",
    "            \n",
    "    # For Saturday\n",
    "    if day == 'Sat':\n",
    "        if time_cat == \"06:00:00\":\n",
    "            group.Speed = 'Fast'\n",
    "        if time_cat == \"06:30:00\":\n",
    "            group.Speed = 'Fast'\n",
    "        if time_cat == \"07:00:00\":\n",
    "            group.Speed = 'Fast'\n",
    "        if time_cat == \"07:30:00\":\n",
    "            group.Speed = 'Fast'\n",
    "        if time_cat == \"08:00:00\":\n",
    "            group.Speed = 'Medium'\n",
    "        if time_cat == \"08:30:00\":\n",
    "            group.Speed = 'Medium'\n",
    "        if time_cat == \"09:00:00\":\n",
    "            group.Speed = 'Slow'\n",
    "        if time_cat == \"09:30:00\":\n",
    "            group.Speed = 'Medium'\n",
    "        if time_cat == \"10:00:00\":\n",
    "            group.Speed = 'Medium'\n",
    "        if time_cat == \"10:30:00\":\n",
    "            group.Speed = 'Medium'\n",
    "        if time_cat == \"11:00:00\":\n",
    "            group.Speed = 'Medium'\n",
    "        if time_cat == \"11:30:00\":\n",
    "            group.Speed = 'Medium'\n",
    "        if time_cat == \"12:00:00\":\n",
    "            group.Speed = 'Medium'\n",
    "        if time_cat == \"12:30:00\":\n",
    "            group.Speed = 'Medium'\n",
    "        if time_cat == \"13:00:00\":\n",
    "            group.Speed = 'Slow'\n",
    "        if time_cat == \"13:30:00\":\n",
    "            group.Speed = 'Medium'\n",
    "        if time_cat == \"14:00:00\":\n",
    "            group.Speed = 'Medium'\n",
    "        if time_cat == \"14:30:00\":\n",
    "            group.Speed = 'Medium'\n",
    "        if time_cat == \"15:00:00\":\n",
    "            group.Speed = 'Medium'\n",
    "        if time_cat == \"15:30:00\":\n",
    "            group.Speed = 'Medium'\n",
    "        if time_cat == \"16:00:00\":\n",
    "            group.Speed = 'Slow'\n",
    "        if time_cat == \"16:30:00\":\n",
    "            group.Speed = 'Medium'\n",
    "        if time_cat == \"17:00:00\":\n",
    "            group.Speed = 'Medium'\n",
    "        if time_cat == \"17:30:00\":\n",
    "            group.Speed = 'Medium'\n",
    "        if time_cat == \"18:00:00\":\n",
    "            group.Speed = 'Medium'\n",
    "        if time_cat == \"18:30:00\":\n",
    "            group.Speed = 'Medium'\n",
    "        if time_cat == \"19:00:00\":\n",
    "            group.Speed = 'Medium'\n",
    "        if time_cat == \"19:30:00\":\n",
    "            group.Speed = 'Medium'\n",
    "        if time_cat == \"20:00:00\":\n",
    "            group.Speed = 'Medium'\n",
    "        if time_cat == \"20:30:00\":\n",
    "            group.Speed = 'Medium'\n",
    "        if time_cat == \"21:00:00\":\n",
    "            group.Speed = 'Fast'\n",
    "        if time_cat == \"21:30:00\":\n",
    "            group.Speed = 'Fast'\n",
    "        if time_cat == \"22:00:00\":\n",
    "            group.Speed = 'Fast'\n",
    "        if time_cat == \"22:30:00\":\n",
    "            group.Speed = 'Fast'\n",
    "        if time_cat == \"23:00:00\":\n",
    "            group.Speed = 'Fast'\n",
    "        if time_cat == \"23:30:00\":\n",
    "            group.Speed = 'Fast'\n",
    "        if time_cat == \"00:00:00\":\n",
    "            group.Speed = 'Fast'\n",
    "        if time_cat == \"00:30:00\":\n",
    "            group.Speed = 'Fast'\n",
    "        if time_cat == \"01:00:00\":\n",
    "            group.Speed = 'Fast'\n",
    "        if time_cat == \"01:30:00\":\n",
    "            group.Speed = 'Fast'\n",
    "        if time_cat == \"02:00:00\":\n",
    "            group.Speed = 'Fast'\n",
    "        if time_cat == \"02:30:00\":\n",
    "            group.Speed = 'Fast'\n",
    "            \n",
    "    # For Sunday\n",
    "    if day == 'Sun':\n",
    "        if time_cat == \"06:00:00\":\n",
    "            group.Speed = 'Fast'\n",
    "        if time_cat == \"06:30:00\":\n",
    "            group.Speed = 'Fast'\n",
    "        if time_cat == \"07:00:00\":\n",
    "            group.Speed = 'Fast'\n",
    "        if time_cat == \"07:30:00\":\n",
    "            group.Speed = 'Fast'\n",
    "        if time_cat == \"08:00:00\":\n",
    "            group.Speed = 'Fast'\n",
    "        if time_cat == \"08:30:00\":\n",
    "            group.Speed = 'Fast'\n",
    "        if time_cat == \"09:00:00\":\n",
    "            group.Speed = 'Medium'\n",
    "        if time_cat == \"09:30:00\":\n",
    "            group.Speed = 'Fast'\n",
    "        if time_cat == \"10:00:00\":\n",
    "            group.Speed = 'Fast'\n",
    "        if time_cat == \"10:30:00\":\n",
    "            group.Speed = 'Fast'\n",
    "        if time_cat == \"11:00:00\":\n",
    "            group.Speed = 'Medium'\n",
    "        if time_cat == \"11:30:00\":\n",
    "            group.Speed = 'Medium'\n",
    "        if time_cat == \"12:00:00\":\n",
    "            group.Speed = 'Medium'\n",
    "        if time_cat == \"12:30:00\":\n",
    "            group.Speed = 'Medium'\n",
    "        if time_cat == \"13:00:00\":\n",
    "            group.Speed = 'Slow'\n",
    "        if time_cat == \"13:30:00\":\n",
    "            group.Speed = 'Medium'\n",
    "        if time_cat == \"14:00:00\":\n",
    "            group.Speed = 'Medium'\n",
    "        if time_cat == \"14:30:00\":\n",
    "            group.Speed = 'Medium'\n",
    "        if time_cat == \"15:00:00\":\n",
    "            group.Speed = 'Medium'\n",
    "        if time_cat == \"15:30:00\":\n",
    "            group.Speed = 'Medium'\n",
    "        if time_cat == \"16:00:00\":\n",
    "            group.Speed = 'Medium'\n",
    "        if time_cat == \"16:30:00\":\n",
    "            group.Speed = 'Medium'\n",
    "        if time_cat == \"17:00:00\":\n",
    "            group.Speed = 'Medium'\n",
    "        if time_cat == \"17:30:00\":\n",
    "            group.Speed = 'Medium'\n",
    "        if time_cat == \"18:00:00\":\n",
    "            group.Speed = 'Medium'\n",
    "        if time_cat == \"18:30:00\":\n",
    "            group.Speed = 'Medium'\n",
    "        if time_cat == \"19:00:00\":\n",
    "            group.Speed = 'Medium'\n",
    "        if time_cat == \"19:30:00\":\n",
    "            group.Speed = 'Medium'\n",
    "        if time_cat == \"20:00:00\":\n",
    "            group.Speed = 'Medium'\n",
    "        if time_cat == \"20:30:00\":\n",
    "            group.Speed = 'Medium'\n",
    "        if time_cat == \"21:00:00\":\n",
    "            group.Speed = 'Fast'\n",
    "        if time_cat == \"21:30:00\":\n",
    "            group.Speed = 'Fast'\n",
    "        if time_cat == \"22:00:00\":\n",
    "            group.Speed = 'Fast'\n",
    "        if time_cat == \"22:30:00\":\n",
    "            group.Speed = 'Fast'\n",
    "        if time_cat == \"23:00:00\":\n",
    "            group.Speed = 'Fast'\n",
    "        if time_cat == \"23:30:00\":\n",
    "            group.Speed = 'Fast'\n",
    "        if time_cat == \"00:00:00\":\n",
    "            group.Speed = 'Fast'\n",
    "        if time_cat == \"00:30:00\":\n",
    "            group.Speed = 'Fast'\n",
    "        if time_cat == \"01:00:00\":\n",
    "            group.Speed = 'Fast'\n",
    "        if time_cat == \"01:30:00\":\n",
    "            group.Speed = 'Fast'\n",
    "        if time_cat == \"02:00:00\":\n",
    "            group.Speed = 'Fast'\n",
    "        if time_cat == \"02:30:00\":\n",
    "            group.Speed = 'Fast'\n",
    "    \n",
    "    \n",
    "    return group"
   ]
  },
  {
   "cell_type": "code",
   "execution_count": 16,
   "metadata": {
    "collapsed": false
   },
   "outputs": [],
   "source": [
    "df = gb.apply(change_day)"
   ]
  },
  {
   "cell_type": "code",
   "execution_count": 27,
   "metadata": {
    "collapsed": false
   },
   "outputs": [
    {
     "data": {
      "text/html": [
       "<div>\n",
       "<table border=\"1\" class=\"dataframe\">\n",
       "  <thead>\n",
       "    <tr style=\"text-align: right;\">\n",
       "      <th></th>\n",
       "      <th>Timestamp</th>\n",
       "      <th>JourneyPatternId</th>\n",
       "      <th>TimeFrame</th>\n",
       "      <th>VehicleJourneyId</th>\n",
       "      <th>Day</th>\n",
       "      <th>Distance</th>\n",
       "      <th>TravelTime</th>\n",
       "      <th>Speed</th>\n",
       "      <th>Rain</th>\n",
       "    </tr>\n",
       "  </thead>\n",
       "  <tbody>\n",
       "    <tr>\n",
       "      <th>0</th>\n",
       "      <td>2012-11-06 12:40:39</td>\n",
       "      <td>00401001</td>\n",
       "      <td>2012-11-06</td>\n",
       "      <td>6320</td>\n",
       "      <td>Mon-Fri</td>\n",
       "      <td>0.000000</td>\n",
       "      <td>0.0</td>\n",
       "      <td>Medium</td>\n",
       "      <td>0.0</td>\n",
       "    </tr>\n",
       "    <tr>\n",
       "      <th>1</th>\n",
       "      <td>2012-11-06 12:42:58</td>\n",
       "      <td>00401001</td>\n",
       "      <td>2012-11-06</td>\n",
       "      <td>6320</td>\n",
       "      <td>Mon-Fri</td>\n",
       "      <td>1.288087</td>\n",
       "      <td>139.0</td>\n",
       "      <td>Medium</td>\n",
       "      <td>0.0</td>\n",
       "    </tr>\n",
       "    <tr>\n",
       "      <th>2</th>\n",
       "      <td>2012-11-06 12:43:41</td>\n",
       "      <td>00401001</td>\n",
       "      <td>2012-11-06</td>\n",
       "      <td>6320</td>\n",
       "      <td>Mon-Fri</td>\n",
       "      <td>1.539224</td>\n",
       "      <td>182.0</td>\n",
       "      <td>Medium</td>\n",
       "      <td>0.0</td>\n",
       "    </tr>\n",
       "    <tr>\n",
       "      <th>3</th>\n",
       "      <td>2012-11-06 12:43:59</td>\n",
       "      <td>00401001</td>\n",
       "      <td>2012-11-06</td>\n",
       "      <td>6320</td>\n",
       "      <td>Mon-Fri</td>\n",
       "      <td>1.860739</td>\n",
       "      <td>200.0</td>\n",
       "      <td>Medium</td>\n",
       "      <td>0.0</td>\n",
       "    </tr>\n",
       "    <tr>\n",
       "      <th>4</th>\n",
       "      <td>2012-11-06 12:44:20</td>\n",
       "      <td>00401001</td>\n",
       "      <td>2012-11-06</td>\n",
       "      <td>6320</td>\n",
       "      <td>Mon-Fri</td>\n",
       "      <td>2.188079</td>\n",
       "      <td>221.0</td>\n",
       "      <td>Medium</td>\n",
       "      <td>0.0</td>\n",
       "    </tr>\n",
       "  </tbody>\n",
       "</table>\n",
       "</div>"
      ],
      "text/plain": [
       "            Timestamp JourneyPatternId   TimeFrame VehicleJourneyId      Day  \\\n",
       "0 2012-11-06 12:40:39         00401001  2012-11-06             6320  Mon-Fri   \n",
       "1 2012-11-06 12:42:58         00401001  2012-11-06             6320  Mon-Fri   \n",
       "2 2012-11-06 12:43:41         00401001  2012-11-06             6320  Mon-Fri   \n",
       "3 2012-11-06 12:43:59         00401001  2012-11-06             6320  Mon-Fri   \n",
       "4 2012-11-06 12:44:20         00401001  2012-11-06             6320  Mon-Fri   \n",
       "\n",
       "   Distance  TravelTime   Speed  Rain  \n",
       "0  0.000000         0.0  Medium   0.0  \n",
       "1  1.288087       139.0  Medium   0.0  \n",
       "2  1.539224       182.0  Medium   0.0  \n",
       "3  1.860739       200.0  Medium   0.0  \n",
       "4  2.188079       221.0  Medium   0.0  "
      ]
     },
     "execution_count": 27,
     "metadata": {},
     "output_type": "execute_result"
    }
   ],
   "source": [
    "df.head()"
   ]
  },
  {
   "cell_type": "markdown",
   "metadata": {},
   "source": [
    "# Check Rain's Effect"
   ]
  },
  {
   "cell_type": "code",
   "execution_count": 22,
   "metadata": {
    "collapsed": false
   },
   "outputs": [],
   "source": [
    "# Filter to one Journey Pattern ID\n",
    "test = df"
   ]
  },
  {
   "cell_type": "code",
   "execution_count": 21,
   "metadata": {
    "collapsed": false
   },
   "outputs": [],
   "source": [
    "sun = test[test.TimeFrame == '2012-11-11']\n",
    "mon = test[test.TimeFrame == '2012-11-12']\n",
    "tue = test[test.TimeFrame == '2012-11-06']\n",
    "wed = test[test.TimeFrame == '2012-11-07']\n",
    "thu = test[test.TimeFrame == '2012-11-08']\n",
    "fri = test[test.TimeFrame == '2012-11-09']\n",
    "sat = test[test.TimeFrame == '2012-11-10']"
   ]
  },
  {
   "cell_type": "code",
   "execution_count": 25,
   "metadata": {
    "collapsed": true
   },
   "outputs": [],
   "source": [
    "df.TimeFrame = df.TimeFrame.astype(\"str\")"
   ]
  },
  {
   "cell_type": "code",
   "execution_count": 26,
   "metadata": {
    "collapsed": false
   },
   "outputs": [
    {
     "data": {
      "text/plain": [
       "Timestamp           datetime64[ns]\n",
       "JourneyPatternId            object\n",
       "TimeFrame                   object\n",
       "VehicleJourneyId            object\n",
       "Day                       category\n",
       "Distance                   float64\n",
       "TravelTime                 float64\n",
       "Speed                       object\n",
       "Rain                       float32\n",
       "dtype: object"
      ]
     },
     "execution_count": 26,
     "metadata": {},
     "output_type": "execute_result"
    }
   ],
   "source": [
    "df.dtypes"
   ]
  },
  {
   "cell_type": "code",
   "execution_count": 78,
   "metadata": {
    "collapsed": false
   },
   "outputs": [
    {
     "data": {
      "text/plain": [
       "0.0"
      ]
     },
     "execution_count": 78,
     "metadata": {},
     "output_type": "execute_result"
    }
   ],
   "source": [
    "thu.Rain.mean()"
   ]
  },
  {
   "cell_type": "code",
   "execution_count": 79,
   "metadata": {
    "collapsed": false
   },
   "outputs": [
    {
     "data": {
      "text/plain": [
       "0.2842070460319519"
      ]
     },
     "execution_count": 79,
     "metadata": {},
     "output_type": "execute_result"
    }
   ],
   "source": [
    "fri.Rain.mean()"
   ]
  },
  {
   "cell_type": "code",
   "execution_count": 86,
   "metadata": {
    "collapsed": false
   },
   "outputs": [
    {
     "data": {
      "image/png": "[encoded data removed]",
      "text/plain": [
       "<matplotlib.figure.Figure at 0x1faf5208>"
      ]
     },
     "metadata": {},
     "output_type": "display_data"
    }
   ],
   "source": [
    "plt.scatter(\"TravelTime\", \"Distance\", data=thu)\n",
    "plt.suptitle('No Rain Route 40', fontsize=18)\n",
    "plt.xlabel('Travel Time Seconds', fontsize=12)\n",
    "plt.ylabel('Distance Meters', fontsize=12)\n",
    "\n",
    "plt.savefig(\"No Rain Route 40\")"
   ]
  },
  {
   "cell_type": "code",
   "execution_count": 87,
   "metadata": {
    "collapsed": false
   },
   "outputs": [
    {
     "data": {
      "image/png": "[encoded data removed]",
      "text/plain": [
       "<matplotlib.figure.Figure at 0x1fbad0b8>"
      ]
     },
     "metadata": {},
     "output_type": "display_data"
    }
   ],
   "source": [
    "plt.scatter(\"TravelTime\", \"Distance\", data=fri)\n",
    "plt.suptitle('With Rain Route 40', fontsize=18)\n",
    "plt.xlabel('Travel Time Seconds', fontsize=12)\n",
    "plt.ylabel('Distance Meters', fontsize=12)\n",
    "\n",
    "plt.savefig(\"With Rain Route 40\")"
   ]
  },
  {
   "cell_type": "code",
   "execution_count": 433,
   "metadata": {
    "collapsed": false
   },
   "outputs": [
    {
     "data": {
      "text/plain": [
       "<matplotlib.text.Text at 0x393cf080>"
      ]
     },
     "execution_count": 433,
     "metadata": {},
     "output_type": "execute_result"
    },
    {
     "data": {
      "image/png": "[encoded data removed]",
      "text/plain": [
       "<matplotlib.figure.Figure at 0x392f5710>"
      ]
     },
     "metadata": {},
     "output_type": "display_data"
    }
   ],
   "source": [
    "plt.scatter(\"TravelTime\", \"Distance\", data=tue)\n",
    "plt.suptitle('00401001', fontsize=18)\n",
    "plt.xlabel('Travel Time Seconds', fontsize=12)\n",
    "plt.ylabel('Distance Meters', fontsize=12)"
   ]
  },
  {
   "cell_type": "code",
   "execution_count": 434,
   "metadata": {
    "collapsed": false
   },
   "outputs": [
    {
     "data": {
      "text/plain": [
       "<matplotlib.text.Text at 0x392e6b38>"
      ]
     },
     "execution_count": 434,
     "metadata": {},
     "output_type": "execute_result"
    },
    {
     "data": {
      "image/png": "[encoded data removed]",
      "text/plain": [
       "<matplotlib.figure.Figure at 0x3942c6d8>"
      ]
     },
     "metadata": {},
     "output_type": "display_data"
    }
   ],
   "source": [
    "plt.scatter(\"TravelTime\", \"Distance\", data=wed)\n",
    "plt.suptitle('00401001', fontsize=18)\n",
    "plt.xlabel('Travel Time Seconds', fontsize=12)\n",
    "plt.ylabel('Distance Meters', fontsize=12)"
   ]
  },
  {
   "cell_type": "code",
   "execution_count": 435,
   "metadata": {
    "collapsed": false
   },
   "outputs": [
    {
     "data": {
      "text/plain": [
       "<matplotlib.text.Text at 0x393d5e10>"
      ]
     },
     "execution_count": 435,
     "metadata": {},
     "output_type": "execute_result"
    },
    {
     "data": {
      "image/png": "[encoded data removed]",
      "text/plain": [
       "<matplotlib.figure.Figure at 0x394919e8>"
      ]
     },
     "metadata": {},
     "output_type": "display_data"
    }
   ],
   "source": [
    "plt.scatter(\"TravelTime\", \"Distance\", data=thu)\n",
    "plt.suptitle('00401001', fontsize=18)\n",
    "plt.xlabel('Travel Time Seconds', fontsize=12)\n",
    "plt.ylabel('Distance Meters', fontsize=12)"
   ]
  },
  {
   "cell_type": "code",
   "execution_count": 436,
   "metadata": {
    "collapsed": false
   },
   "outputs": [
    {
     "data": {
      "text/plain": [
       "<matplotlib.text.Text at 0x394b10b8>"
      ]
     },
     "execution_count": 436,
     "metadata": {},
     "output_type": "execute_result"
    },
    {
     "data": {
      "image/png": "[encoded data removed]",
      "text/plain": [
       "<matplotlib.figure.Figure at 0x394eca58>"
      ]
     },
     "metadata": {},
     "output_type": "display_data"
    }
   ],
   "source": [
    "plt.scatter(\"TravelTime\", \"Distance\", data=fri)\n",
    "plt.suptitle('00401001', fontsize=18)\n",
    "plt.xlabel('Travel Time Seconds', fontsize=12)\n",
    "plt.ylabel('Distance Meters', fontsize=12)"
   ]
  },
  {
   "cell_type": "markdown",
   "metadata": {
    "collapsed": true
   },
   "source": [
    "# Make Linear Regression Model"
   ]
  },
  {
   "cell_type": "code",
   "execution_count": 89,
   "metadata": {
    "collapsed": true
   },
   "outputs": [],
   "source": [
    "# df.JourneyPatternId = df.JourneyPatternId.astype(\"object\")\n",
    "# df.Day = df.Day.astype(\"object\")\n",
    "# df.Speed = df.Speed.astype(\"object\")\n",
    "\n",
    "df.Speed = df.Speed.astype(\"category\")\n",
    "df.TimeFrame = df.TimeFrame.astype(\"str\")"
   ]
  },
  {
   "cell_type": "code",
   "execution_count": 91,
   "metadata": {
    "collapsed": false,
    "scrolled": true
   },
   "outputs": [
    {
     "data": {
      "text/plain": [
       "Timestamp           datetime64[ns]\n",
       "JourneyPatternId            object\n",
       "TimeFrame                   object\n",
       "VehicleJourneyId            object\n",
       "Day                       category\n",
       "Distance                   float64\n",
       "TravelTime                 float64\n",
       "Speed                     category\n",
       "Rain                       float32\n",
       "dtype: object"
      ]
     },
     "execution_count": 91,
     "metadata": {},
     "output_type": "execute_result"
    }
   ],
   "source": [
    "df.dtypes"
   ]
  },
  {
   "cell_type": "code",
   "execution_count": 92,
   "metadata": {
    "collapsed": false
   },
   "outputs": [
    {
     "data": {
      "text/html": [
       "<div>\n",
       "<table border=\"1\" class=\"dataframe\">\n",
       "  <thead>\n",
       "    <tr style=\"text-align: right;\">\n",
       "      <th></th>\n",
       "      <th>Timestamp</th>\n",
       "      <th>JourneyPatternId</th>\n",
       "      <th>TimeFrame</th>\n",
       "      <th>VehicleJourneyId</th>\n",
       "      <th>Day</th>\n",
       "      <th>Distance</th>\n",
       "      <th>TravelTime</th>\n",
       "      <th>Speed</th>\n",
       "      <th>Rain</th>\n",
       "    </tr>\n",
       "  </thead>\n",
       "  <tbody>\n",
       "    <tr>\n",
       "      <th>0</th>\n",
       "      <td>2012-11-06 12:40:39</td>\n",
       "      <td>00401001</td>\n",
       "      <td>2012-11-06</td>\n",
       "      <td>6320</td>\n",
       "      <td>Mon-Fri</td>\n",
       "      <td>0.000000</td>\n",
       "      <td>0.0</td>\n",
       "      <td>Medium</td>\n",
       "      <td>0.0</td>\n",
       "    </tr>\n",
       "    <tr>\n",
       "      <th>1</th>\n",
       "      <td>2012-11-06 12:42:58</td>\n",
       "      <td>00401001</td>\n",
       "      <td>2012-11-06</td>\n",
       "      <td>6320</td>\n",
       "      <td>Mon-Fri</td>\n",
       "      <td>1.288087</td>\n",
       "      <td>139.0</td>\n",
       "      <td>Medium</td>\n",
       "      <td>0.0</td>\n",
       "    </tr>\n",
       "    <tr>\n",
       "      <th>2</th>\n",
       "      <td>2012-11-06 12:43:41</td>\n",
       "      <td>00401001</td>\n",
       "      <td>2012-11-06</td>\n",
       "      <td>6320</td>\n",
       "      <td>Mon-Fri</td>\n",
       "      <td>1.539224</td>\n",
       "      <td>182.0</td>\n",
       "      <td>Medium</td>\n",
       "      <td>0.0</td>\n",
       "    </tr>\n",
       "    <tr>\n",
       "      <th>3</th>\n",
       "      <td>2012-11-06 12:43:59</td>\n",
       "      <td>00401001</td>\n",
       "      <td>2012-11-06</td>\n",
       "      <td>6320</td>\n",
       "      <td>Mon-Fri</td>\n",
       "      <td>1.860739</td>\n",
       "      <td>200.0</td>\n",
       "      <td>Medium</td>\n",
       "      <td>0.0</td>\n",
       "    </tr>\n",
       "    <tr>\n",
       "      <th>4</th>\n",
       "      <td>2012-11-06 12:44:20</td>\n",
       "      <td>00401001</td>\n",
       "      <td>2012-11-06</td>\n",
       "      <td>6320</td>\n",
       "      <td>Mon-Fri</td>\n",
       "      <td>2.188079</td>\n",
       "      <td>221.0</td>\n",
       "      <td>Medium</td>\n",
       "      <td>0.0</td>\n",
       "    </tr>\n",
       "  </tbody>\n",
       "</table>\n",
       "</div>"
      ],
      "text/plain": [
       "            Timestamp JourneyPatternId   TimeFrame VehicleJourneyId      Day  \\\n",
       "0 2012-11-06 12:40:39         00401001  2012-11-06             6320  Mon-Fri   \n",
       "1 2012-11-06 12:42:58         00401001  2012-11-06             6320  Mon-Fri   \n",
       "2 2012-11-06 12:43:41         00401001  2012-11-06             6320  Mon-Fri   \n",
       "3 2012-11-06 12:43:59         00401001  2012-11-06             6320  Mon-Fri   \n",
       "4 2012-11-06 12:44:20         00401001  2012-11-06             6320  Mon-Fri   \n",
       "\n",
       "   Distance  TravelTime   Speed  Rain  \n",
       "0  0.000000         0.0  Medium   0.0  \n",
       "1  1.288087       139.0  Medium   0.0  \n",
       "2  1.539224       182.0  Medium   0.0  \n",
       "3  1.860739       200.0  Medium   0.0  \n",
       "4  2.188079       221.0  Medium   0.0  "
      ]
     },
     "execution_count": 92,
     "metadata": {},
     "output_type": "execute_result"
    }
   ],
   "source": [
    "df.head()"
   ]
  },
  {
   "cell_type": "code",
   "execution_count": 93,
   "metadata": {
    "collapsed": false
   },
   "outputs": [
    {
     "data": {
      "text/plain": [
       "Medium    150579\n",
       "Slow       70594\n",
       "Fast       35421\n",
       "Name: Speed, dtype: int64"
      ]
     },
     "execution_count": 93,
     "metadata": {},
     "output_type": "execute_result"
    }
   ],
   "source": [
    "df.Speed.value_counts()"
   ]
  },
  {
   "cell_type": "code",
   "execution_count": 94,
   "metadata": {
    "collapsed": true
   },
   "outputs": [],
   "source": [
    "train = df[df['TimeFrame'] < '2012-11-16']\n",
    "test = df[df['TimeFrame'] >= '2012-11-16']"
   ]
  },
  {
   "cell_type": "code",
   "execution_count": 361,
   "metadata": {
    "collapsed": false
   },
   "outputs": [],
   "source": [
    "# train = train[train.Day == 0]\n",
    "# test = test[test.Day == 0]"
   ]
  },
  {
   "cell_type": "code",
   "execution_count": 362,
   "metadata": {
    "collapsed": true
   },
   "outputs": [],
   "source": [
    "# train = train[train.JourneyPatternId == '00401001']\n",
    "# test = test[test.JourneyPatternId == '00401001']"
   ]
  },
  {
   "cell_type": "code",
   "execution_count": 95,
   "metadata": {
    "collapsed": false
   },
   "outputs": [
    {
     "data": {
      "text/plain": [
       "Medium    32740\n",
       "Slow      14753\n",
       "Fast       7613\n",
       "Name: Speed, dtype: int64"
      ]
     },
     "execution_count": 95,
     "metadata": {},
     "output_type": "execute_result"
    }
   ],
   "source": [
    "train.Speed.value_counts()"
   ]
  },
  {
   "cell_type": "code",
   "execution_count": 96,
   "metadata": {
    "collapsed": false
   },
   "outputs": [],
   "source": [
    "# create a fitted test model\n",
    "lm = smf.ols(formula='TravelTime ~ Speed + Distance + Day', data=train).fit()"
   ]
  },
  {
   "cell_type": "code",
   "execution_count": 97,
   "metadata": {
    "collapsed": false,
    "scrolled": false
   },
   "outputs": [
    {
     "name": "stdout",
     "output_type": "stream",
     "text": [
      "                            OLS Regression Results                            \n",
      "==============================================================================\n",
      "Dep. Variable:             TravelTime   R-squared:                       0.935\n",
      "Model:                            OLS   Adj. R-squared:                  0.935\n",
      "Method:                 Least Squares   F-statistic:                 1.589e+05\n",
      "Date:                Thu, 20 Jul 2017   Prob (F-statistic):               0.00\n",
      "Time:                        15:28:11   Log-Likelihood:            -4.1129e+05\n",
      "No. Observations:               55106   AIC:                         8.226e+05\n",
      "Df Residuals:                   55100   BIC:                         8.226e+05\n",
      "Df Model:                           5                                         \n",
      "Covariance Type:            nonrobust                                         \n",
      "===================================================================================\n",
      "                      coef    std err          t      P>|t|      [95.0% Conf. Int.]\n",
      "-----------------------------------------------------------------------------------\n",
      "Intercept        -857.1531      5.996   -142.951      0.000      -868.906  -845.401\n",
      "Speed[T.Medium]   575.6695      5.384    106.927      0.000       565.117   586.222\n",
      "Speed[T.Slow]     878.1098      6.054    145.050      0.000       866.244   889.975\n",
      "Day[T.Sat]        -17.4500      6.070     -2.875      0.004       -29.348    -5.552\n",
      "Day[T.Sun]       -164.3959      7.354    -22.356      0.000      -178.809  -149.983\n",
      "Distance          211.3609      0.241    877.083      0.000       210.889   211.833\n",
      "==============================================================================\n",
      "Omnibus:                     1499.839   Durbin-Watson:                   0.059\n",
      "Prob(Omnibus):                  0.000   Jarque-Bera (JB):             3493.153\n",
      "Skew:                           0.113   Prob(JB):                         0.00\n",
      "Kurtosis:                       4.213   Cond. No.                         81.9\n",
      "==============================================================================\n",
      "\n",
      "Warnings:\n",
      "[1] Standard Errors assume that the covariance matrix of the errors is correctly specified.\n"
     ]
    }
   ],
   "source": [
    "print(lm.summary())"
   ]
  },
  {
   "cell_type": "code",
   "execution_count": 98,
   "metadata": {
    "collapsed": true
   },
   "outputs": [],
   "source": [
    "test_y = test[\"TravelTime\"]\n",
    "test_X = test[[\"Distance\", \"Speed\", \"Day\"]]"
   ]
  },
  {
   "cell_type": "code",
   "execution_count": 99,
   "metadata": {
    "collapsed": false
   },
   "outputs": [],
   "source": [
    "# test_X = test_X[test_X.TimeCategory != '00:00']\n",
    "predictions = lm.predict(test_X)"
   ]
  },
  {
   "cell_type": "code",
   "execution_count": 100,
   "metadata": {
    "collapsed": false,
    "scrolled": true
   },
   "outputs": [
    {
     "data": {
      "text/html": [
       "<div>\n",
       "<table border=\"1\" class=\"dataframe\">\n",
       "  <thead>\n",
       "    <tr style=\"text-align: right;\">\n",
       "      <th></th>\n",
       "      <th>Predicted</th>\n",
       "      <th>Real</th>\n",
       "    </tr>\n",
       "  </thead>\n",
       "  <tbody>\n",
       "    <tr>\n",
       "      <th>55106</th>\n",
       "      <td>-281.483624</td>\n",
       "      <td>0.0</td>\n",
       "    </tr>\n",
       "    <tr>\n",
       "      <th>55107</th>\n",
       "      <td>117.077666</td>\n",
       "      <td>119.0</td>\n",
       "    </tr>\n",
       "    <tr>\n",
       "      <th>55108</th>\n",
       "      <td>157.624280</td>\n",
       "      <td>159.0</td>\n",
       "    </tr>\n",
       "    <tr>\n",
       "      <th>55109</th>\n",
       "      <td>205.658749</td>\n",
       "      <td>200.0</td>\n",
       "    </tr>\n",
       "    <tr>\n",
       "      <th>55110</th>\n",
       "      <td>248.620194</td>\n",
       "      <td>239.0</td>\n",
       "    </tr>\n",
       "    <tr>\n",
       "      <th>55111</th>\n",
       "      <td>341.120394</td>\n",
       "      <td>298.0</td>\n",
       "    </tr>\n",
       "    <tr>\n",
       "      <th>55112</th>\n",
       "      <td>361.473347</td>\n",
       "      <td>319.0</td>\n",
       "    </tr>\n",
       "    <tr>\n",
       "      <th>55113</th>\n",
       "      <td>483.082467</td>\n",
       "      <td>378.0</td>\n",
       "    </tr>\n",
       "    <tr>\n",
       "      <th>55114</th>\n",
       "      <td>515.684996</td>\n",
       "      <td>419.0</td>\n",
       "    </tr>\n",
       "    <tr>\n",
       "      <th>55115</th>\n",
       "      <td>550.089785</td>\n",
       "      <td>479.0</td>\n",
       "    </tr>\n",
       "    <tr>\n",
       "      <th>55116</th>\n",
       "      <td>670.173609</td>\n",
       "      <td>560.0</td>\n",
       "    </tr>\n",
       "    <tr>\n",
       "      <th>55117</th>\n",
       "      <td>710.506233</td>\n",
       "      <td>578.0</td>\n",
       "    </tr>\n",
       "    <tr>\n",
       "      <th>55118</th>\n",
       "      <td>800.795389</td>\n",
       "      <td>658.0</td>\n",
       "    </tr>\n",
       "    <tr>\n",
       "      <th>55119</th>\n",
       "      <td>850.986512</td>\n",
       "      <td>699.0</td>\n",
       "    </tr>\n",
       "    <tr>\n",
       "      <th>55120</th>\n",
       "      <td>950.896300</td>\n",
       "      <td>801.0</td>\n",
       "    </tr>\n",
       "    <tr>\n",
       "      <th>55121</th>\n",
       "      <td>1010.449793</td>\n",
       "      <td>858.0</td>\n",
       "    </tr>\n",
       "    <tr>\n",
       "      <th>55122</th>\n",
       "      <td>1113.356635</td>\n",
       "      <td>959.0</td>\n",
       "    </tr>\n",
       "    <tr>\n",
       "      <th>55123</th>\n",
       "      <td>1132.092086</td>\n",
       "      <td>979.0</td>\n",
       "    </tr>\n",
       "    <tr>\n",
       "      <th>55124</th>\n",
       "      <td>1201.181850</td>\n",
       "      <td>1020.0</td>\n",
       "    </tr>\n",
       "    <tr>\n",
       "      <th>55125</th>\n",
       "      <td>1285.857006</td>\n",
       "      <td>1080.0</td>\n",
       "    </tr>\n",
       "    <tr>\n",
       "      <th>55126</th>\n",
       "      <td>1322.958198</td>\n",
       "      <td>1119.0</td>\n",
       "    </tr>\n",
       "    <tr>\n",
       "      <th>55127</th>\n",
       "      <td>1393.084679</td>\n",
       "      <td>1219.0</td>\n",
       "    </tr>\n",
       "    <tr>\n",
       "      <th>55128</th>\n",
       "      <td>1472.166165</td>\n",
       "      <td>1320.0</td>\n",
       "    </tr>\n",
       "    <tr>\n",
       "      <th>55129</th>\n",
       "      <td>1561.624171</td>\n",
       "      <td>1459.0</td>\n",
       "    </tr>\n",
       "    <tr>\n",
       "      <th>55130</th>\n",
       "      <td>1636.034345</td>\n",
       "      <td>1498.0</td>\n",
       "    </tr>\n",
       "    <tr>\n",
       "      <th>55131</th>\n",
       "      <td>1685.056919</td>\n",
       "      <td>1539.0</td>\n",
       "    </tr>\n",
       "    <tr>\n",
       "      <th>55132</th>\n",
       "      <td>1821.162357</td>\n",
       "      <td>1619.0</td>\n",
       "    </tr>\n",
       "    <tr>\n",
       "      <th>55133</th>\n",
       "      <td>1845.170093</td>\n",
       "      <td>1637.0</td>\n",
       "    </tr>\n",
       "    <tr>\n",
       "      <th>55134</th>\n",
       "      <td>1958.199270</td>\n",
       "      <td>1779.0</td>\n",
       "    </tr>\n",
       "    <tr>\n",
       "      <th>55135</th>\n",
       "      <td>2041.440312</td>\n",
       "      <td>1900.0</td>\n",
       "    </tr>\n",
       "    <tr>\n",
       "      <th>...</th>\n",
       "      <td>...</td>\n",
       "      <td>...</td>\n",
       "    </tr>\n",
       "    <tr>\n",
       "      <th>256564</th>\n",
       "      <td>2799.290866</td>\n",
       "      <td>2995.0</td>\n",
       "    </tr>\n",
       "    <tr>\n",
       "      <th>256565</th>\n",
       "      <td>2869.151367</td>\n",
       "      <td>3036.0</td>\n",
       "    </tr>\n",
       "    <tr>\n",
       "      <th>256566</th>\n",
       "      <td>2873.160984</td>\n",
       "      <td>3057.0</td>\n",
       "    </tr>\n",
       "    <tr>\n",
       "      <th>256567</th>\n",
       "      <td>2975.599865</td>\n",
       "      <td>3159.0</td>\n",
       "    </tr>\n",
       "    <tr>\n",
       "      <th>256568</th>\n",
       "      <td>3048.972502</td>\n",
       "      <td>3197.0</td>\n",
       "    </tr>\n",
       "    <tr>\n",
       "      <th>256569</th>\n",
       "      <td>3089.342861</td>\n",
       "      <td>3216.0</td>\n",
       "    </tr>\n",
       "    <tr>\n",
       "      <th>256570</th>\n",
       "      <td>3210.412702</td>\n",
       "      <td>3295.0</td>\n",
       "    </tr>\n",
       "    <tr>\n",
       "      <th>256571</th>\n",
       "      <td>3308.327818</td>\n",
       "      <td>3336.0</td>\n",
       "    </tr>\n",
       "    <tr>\n",
       "      <th>256572</th>\n",
       "      <td>3356.046244</td>\n",
       "      <td>3357.0</td>\n",
       "    </tr>\n",
       "    <tr>\n",
       "      <th>256573</th>\n",
       "      <td>3377.741064</td>\n",
       "      <td>3375.0</td>\n",
       "    </tr>\n",
       "    <tr>\n",
       "      <th>256574</th>\n",
       "      <td>3468.289695</td>\n",
       "      <td>3436.0</td>\n",
       "    </tr>\n",
       "    <tr>\n",
       "      <th>256575</th>\n",
       "      <td>3537.191921</td>\n",
       "      <td>3475.0</td>\n",
       "    </tr>\n",
       "    <tr>\n",
       "      <th>256576</th>\n",
       "      <td>3609.141752</td>\n",
       "      <td>3516.0</td>\n",
       "    </tr>\n",
       "    <tr>\n",
       "      <th>256577</th>\n",
       "      <td>3663.982814</td>\n",
       "      <td>3557.0</td>\n",
       "    </tr>\n",
       "    <tr>\n",
       "      <th>256578</th>\n",
       "      <td>3711.625744</td>\n",
       "      <td>3596.0</td>\n",
       "    </tr>\n",
       "    <tr>\n",
       "      <th>256579</th>\n",
       "      <td>3766.201830</td>\n",
       "      <td>3659.0</td>\n",
       "    </tr>\n",
       "    <tr>\n",
       "      <th>256580</th>\n",
       "      <td>3793.663725</td>\n",
       "      <td>3698.0</td>\n",
       "    </tr>\n",
       "    <tr>\n",
       "      <th>256581</th>\n",
       "      <td>3873.133787</td>\n",
       "      <td>3755.0</td>\n",
       "    </tr>\n",
       "    <tr>\n",
       "      <th>256582</th>\n",
       "      <td>3959.295297</td>\n",
       "      <td>3796.0</td>\n",
       "    </tr>\n",
       "    <tr>\n",
       "      <th>256583</th>\n",
       "      <td>4002.309627</td>\n",
       "      <td>3817.0</td>\n",
       "    </tr>\n",
       "    <tr>\n",
       "      <th>256584</th>\n",
       "      <td>4070.608367</td>\n",
       "      <td>3856.0</td>\n",
       "    </tr>\n",
       "    <tr>\n",
       "      <th>256585</th>\n",
       "      <td>4101.009004</td>\n",
       "      <td>3878.0</td>\n",
       "    </tr>\n",
       "    <tr>\n",
       "      <th>256586</th>\n",
       "      <td>4109.095336</td>\n",
       "      <td>3897.0</td>\n",
       "    </tr>\n",
       "    <tr>\n",
       "      <th>256587</th>\n",
       "      <td>4199.922565</td>\n",
       "      <td>3976.0</td>\n",
       "    </tr>\n",
       "    <tr>\n",
       "      <th>256588</th>\n",
       "      <td>4251.979299</td>\n",
       "      <td>4017.0</td>\n",
       "    </tr>\n",
       "    <tr>\n",
       "      <th>256589</th>\n",
       "      <td>4276.780811</td>\n",
       "      <td>4037.0</td>\n",
       "    </tr>\n",
       "    <tr>\n",
       "      <th>256590</th>\n",
       "      <td>4326.252902</td>\n",
       "      <td>4095.0</td>\n",
       "    </tr>\n",
       "    <tr>\n",
       "      <th>256591</th>\n",
       "      <td>4379.278199</td>\n",
       "      <td>4137.0</td>\n",
       "    </tr>\n",
       "    <tr>\n",
       "      <th>256592</th>\n",
       "      <td>4467.010808</td>\n",
       "      <td>4176.0</td>\n",
       "    </tr>\n",
       "    <tr>\n",
       "      <th>256593</th>\n",
       "      <td>4530.675010</td>\n",
       "      <td>4277.0</td>\n",
       "    </tr>\n",
       "  </tbody>\n",
       "</table>\n",
       "<p>201488 rows × 2 columns</p>\n",
       "</div>"
      ],
      "text/plain": [
       "          Predicted    Real\n",
       "55106   -281.483624     0.0\n",
       "55107    117.077666   119.0\n",
       "55108    157.624280   159.0\n",
       "55109    205.658749   200.0\n",
       "55110    248.620194   239.0\n",
       "55111    341.120394   298.0\n",
       "55112    361.473347   319.0\n",
       "55113    483.082467   378.0\n",
       "55114    515.684996   419.0\n",
       "55115    550.089785   479.0\n",
       "55116    670.173609   560.0\n",
       "55117    710.506233   578.0\n",
       "55118    800.795389   658.0\n",
       "55119    850.986512   699.0\n",
       "55120    950.896300   801.0\n",
       "55121   1010.449793   858.0\n",
       "55122   1113.356635   959.0\n",
       "55123   1132.092086   979.0\n",
       "55124   1201.181850  1020.0\n",
       "55125   1285.857006  1080.0\n",
       "55126   1322.958198  1119.0\n",
       "55127   1393.084679  1219.0\n",
       "55128   1472.166165  1320.0\n",
       "55129   1561.624171  1459.0\n",
       "55130   1636.034345  1498.0\n",
       "55131   1685.056919  1539.0\n",
       "55132   1821.162357  1619.0\n",
       "55133   1845.170093  1637.0\n",
       "55134   1958.199270  1779.0\n",
       "55135   2041.440312  1900.0\n",
       "...             ...     ...\n",
       "256564  2799.290866  2995.0\n",
       "256565  2869.151367  3036.0\n",
       "256566  2873.160984  3057.0\n",
       "256567  2975.599865  3159.0\n",
       "256568  3048.972502  3197.0\n",
       "256569  3089.342861  3216.0\n",
       "256570  3210.412702  3295.0\n",
       "256571  3308.327818  3336.0\n",
       "256572  3356.046244  3357.0\n",
       "256573  3377.741064  3375.0\n",
       "256574  3468.289695  3436.0\n",
       "256575  3537.191921  3475.0\n",
       "256576  3609.141752  3516.0\n",
       "256577  3663.982814  3557.0\n",
       "256578  3711.625744  3596.0\n",
       "256579  3766.201830  3659.0\n",
       "256580  3793.663725  3698.0\n",
       "256581  3873.133787  3755.0\n",
       "256582  3959.295297  3796.0\n",
       "256583  4002.309627  3817.0\n",
       "256584  4070.608367  3856.0\n",
       "256585  4101.009004  3878.0\n",
       "256586  4109.095336  3897.0\n",
       "256587  4199.922565  3976.0\n",
       "256588  4251.979299  4017.0\n",
       "256589  4276.780811  4037.0\n",
       "256590  4326.252902  4095.0\n",
       "256591  4379.278199  4137.0\n",
       "256592  4467.010808  4176.0\n",
       "256593  4530.675010  4277.0\n",
       "\n",
       "[201488 rows x 2 columns]"
      ]
     },
     "execution_count": 100,
     "metadata": {},
     "output_type": "execute_result"
    }
   ],
   "source": [
    "pd.DataFrame({\"Real\": test_y, \"Predicted\":predictions})"
   ]
  },
  {
   "cell_type": "code",
   "execution_count": 101,
   "metadata": {
    "collapsed": false
   },
   "outputs": [
    {
     "data": {
      "text/plain": [
       "341.781357878684"
      ]
     },
     "execution_count": 101,
     "metadata": {},
     "output_type": "execute_result"
    }
   ],
   "source": [
    "# Custom Metric\n",
    "abs(abs(test_y) - abs(predictions)).mean()  "
   ]
  },
  {
   "cell_type": "code",
   "execution_count": 102,
   "metadata": {
    "collapsed": false
   },
   "outputs": [
    {
     "name": "stdout",
     "output_type": "stream",
     "text": [
      "\n",
      "Mean Squared Error:\n",
      " 243588.1487831879\n"
     ]
    }
   ],
   "source": [
    "# Print the Mean Squared Error of the model on the training set\n",
    "mse = ((test_y - predictions)** 2).mean()\n",
    "print(\"\\nMean Squared Error:\\n\", mse)"
   ]
  },
  {
   "cell_type": "code",
   "execution_count": 103,
   "metadata": {
    "collapsed": false
   },
   "outputs": [
    {
     "data": {
      "text/plain": [
       "493.546501135595"
      ]
     },
     "execution_count": 103,
     "metadata": {},
     "output_type": "execute_result"
    }
   ],
   "source": [
    "from math import sqrt\n",
    "\n",
    "sqrt(mse)"
   ]
  },
  {
   "cell_type": "markdown",
   "metadata": {
    "collapsed": true
   },
   "source": [
    "# Sklearn Linear Regression"
   ]
  },
  {
   "cell_type": "code",
   "execution_count": 104,
   "metadata": {
    "collapsed": true
   },
   "outputs": [],
   "source": [
    "lin_df = df"
   ]
  },
  {
   "cell_type": "code",
   "execution_count": 106,
   "metadata": {
    "collapsed": false
   },
   "outputs": [],
   "source": [
    "# Get dummies\n",
    "day_dummies = pd.get_dummies(lin_df.Day)\n",
    "# day_dummies.columns = [\"Mon-Fri\", \"Sat\", \"Sun\"]\n",
    "\n",
    "speed_dummies = pd.get_dummies(lin_df.Speed)"
   ]
  },
  {
   "cell_type": "code",
   "execution_count": 107,
   "metadata": {
    "collapsed": false
   },
   "outputs": [
    {
     "data": {
      "text/plain": [
       "' NB Do not run '"
      ]
     },
     "execution_count": 107,
     "metadata": {},
     "output_type": "execute_result"
    }
   ],
   "source": [
    "\"\"\" NB Do not run \"\"\"\n",
    "# journey_pattern_id_dummies = pd.get_dummies(lin_df.JourneyPatternId)"
   ]
  },
  {
   "cell_type": "code",
   "execution_count": 108,
   "metadata": {
    "collapsed": false
   },
   "outputs": [],
   "source": [
    "# Assign to df\n",
    "lin_df = pd.concat([lin_df, day_dummies], axis=1)\n",
    "lin_df = pd.concat([lin_df, speed_dummies], axis=1)"
   ]
  },
  {
   "cell_type": "code",
   "execution_count": 109,
   "metadata": {
    "collapsed": false
   },
   "outputs": [
    {
     "data": {
      "text/html": [
       "<div>\n",
       "<table border=\"1\" class=\"dataframe\">\n",
       "  <thead>\n",
       "    <tr style=\"text-align: right;\">\n",
       "      <th></th>\n",
       "      <th>Timestamp</th>\n",
       "      <th>JourneyPatternId</th>\n",
       "      <th>TimeFrame</th>\n",
       "      <th>VehicleJourneyId</th>\n",
       "      <th>Day</th>\n",
       "      <th>Distance</th>\n",
       "      <th>TravelTime</th>\n",
       "      <th>Speed</th>\n",
       "      <th>Rain</th>\n",
       "      <th>Mon-Fri</th>\n",
       "      <th>Sat</th>\n",
       "      <th>Sun</th>\n",
       "      <th>Fast</th>\n",
       "      <th>Medium</th>\n",
       "      <th>Slow</th>\n",
       "    </tr>\n",
       "  </thead>\n",
       "  <tbody>\n",
       "    <tr>\n",
       "      <th>0</th>\n",
       "      <td>2012-11-06 12:40:39</td>\n",
       "      <td>00401001</td>\n",
       "      <td>2012-11-06</td>\n",
       "      <td>6320</td>\n",
       "      <td>Mon-Fri</td>\n",
       "      <td>0.000000</td>\n",
       "      <td>0.0</td>\n",
       "      <td>Medium</td>\n",
       "      <td>0.0</td>\n",
       "      <td>1.0</td>\n",
       "      <td>0.0</td>\n",
       "      <td>0.0</td>\n",
       "      <td>0.0</td>\n",
       "      <td>1.0</td>\n",
       "      <td>0.0</td>\n",
       "    </tr>\n",
       "    <tr>\n",
       "      <th>1</th>\n",
       "      <td>2012-11-06 12:42:58</td>\n",
       "      <td>00401001</td>\n",
       "      <td>2012-11-06</td>\n",
       "      <td>6320</td>\n",
       "      <td>Mon-Fri</td>\n",
       "      <td>1.288087</td>\n",
       "      <td>139.0</td>\n",
       "      <td>Medium</td>\n",
       "      <td>0.0</td>\n",
       "      <td>1.0</td>\n",
       "      <td>0.0</td>\n",
       "      <td>0.0</td>\n",
       "      <td>0.0</td>\n",
       "      <td>1.0</td>\n",
       "      <td>0.0</td>\n",
       "    </tr>\n",
       "    <tr>\n",
       "      <th>2</th>\n",
       "      <td>2012-11-06 12:43:41</td>\n",
       "      <td>00401001</td>\n",
       "      <td>2012-11-06</td>\n",
       "      <td>6320</td>\n",
       "      <td>Mon-Fri</td>\n",
       "      <td>1.539224</td>\n",
       "      <td>182.0</td>\n",
       "      <td>Medium</td>\n",
       "      <td>0.0</td>\n",
       "      <td>1.0</td>\n",
       "      <td>0.0</td>\n",
       "      <td>0.0</td>\n",
       "      <td>0.0</td>\n",
       "      <td>1.0</td>\n",
       "      <td>0.0</td>\n",
       "    </tr>\n",
       "    <tr>\n",
       "      <th>3</th>\n",
       "      <td>2012-11-06 12:43:59</td>\n",
       "      <td>00401001</td>\n",
       "      <td>2012-11-06</td>\n",
       "      <td>6320</td>\n",
       "      <td>Mon-Fri</td>\n",
       "      <td>1.860739</td>\n",
       "      <td>200.0</td>\n",
       "      <td>Medium</td>\n",
       "      <td>0.0</td>\n",
       "      <td>1.0</td>\n",
       "      <td>0.0</td>\n",
       "      <td>0.0</td>\n",
       "      <td>0.0</td>\n",
       "      <td>1.0</td>\n",
       "      <td>0.0</td>\n",
       "    </tr>\n",
       "    <tr>\n",
       "      <th>4</th>\n",
       "      <td>2012-11-06 12:44:20</td>\n",
       "      <td>00401001</td>\n",
       "      <td>2012-11-06</td>\n",
       "      <td>6320</td>\n",
       "      <td>Mon-Fri</td>\n",
       "      <td>2.188079</td>\n",
       "      <td>221.0</td>\n",
       "      <td>Medium</td>\n",
       "      <td>0.0</td>\n",
       "      <td>1.0</td>\n",
       "      <td>0.0</td>\n",
       "      <td>0.0</td>\n",
       "      <td>0.0</td>\n",
       "      <td>1.0</td>\n",
       "      <td>0.0</td>\n",
       "    </tr>\n",
       "  </tbody>\n",
       "</table>\n",
       "</div>"
      ],
      "text/plain": [
       "            Timestamp JourneyPatternId   TimeFrame VehicleJourneyId      Day  \\\n",
       "0 2012-11-06 12:40:39         00401001  2012-11-06             6320  Mon-Fri   \n",
       "1 2012-11-06 12:42:58         00401001  2012-11-06             6320  Mon-Fri   \n",
       "2 2012-11-06 12:43:41         00401001  2012-11-06             6320  Mon-Fri   \n",
       "3 2012-11-06 12:43:59         00401001  2012-11-06             6320  Mon-Fri   \n",
       "4 2012-11-06 12:44:20         00401001  2012-11-06             6320  Mon-Fri   \n",
       "\n",
       "   Distance  TravelTime   Speed  Rain  Mon-Fri  Sat  Sun  Fast  Medium  Slow  \n",
       "0  0.000000         0.0  Medium   0.0      1.0  0.0  0.0   0.0     1.0   0.0  \n",
       "1  1.288087       139.0  Medium   0.0      1.0  0.0  0.0   0.0     1.0   0.0  \n",
       "2  1.539224       182.0  Medium   0.0      1.0  0.0  0.0   0.0     1.0   0.0  \n",
       "3  1.860739       200.0  Medium   0.0      1.0  0.0  0.0   0.0     1.0   0.0  \n",
       "4  2.188079       221.0  Medium   0.0      1.0  0.0  0.0   0.0     1.0   0.0  "
      ]
     },
     "execution_count": 109,
     "metadata": {},
     "output_type": "execute_result"
    }
   ],
   "source": [
    "lin_df.head()"
   ]
  },
  {
   "cell_type": "code",
   "execution_count": 113,
   "metadata": {
    "collapsed": false
   },
   "outputs": [],
   "source": [
    "lin_df.Sat = lin_df.Sat.astype(\"int\")\n",
    "lin_df.Sun = lin_df.Sun.astype(\"int\")\n",
    "lin_df[\"Mon-Fri\"] = lin_df[\"Mon-Fri\"].astype(\"int\")\n",
    "lin_df.Fast = lin_df.Fast.astype(\"int\")\n",
    "lin_df.Medium = lin_df.Medium.astype(\"int\")\n",
    "lin_df.Slow = lin_df.Slow.astype(\"int\")\n",
    "\n",
    "lin_df.TravelTime = lin_df.TravelTime.astype(\"float\")\n",
    "lin_df.Distance = lin_df.Distance.astype(\"float\")"
   ]
  },
  {
   "cell_type": "code",
   "execution_count": 114,
   "metadata": {
    "collapsed": false
   },
   "outputs": [
    {
     "data": {
      "text/plain": [
       "Timestamp           datetime64[ns]\n",
       "JourneyPatternId            object\n",
       "TimeFrame                   object\n",
       "VehicleJourneyId            object\n",
       "Day                       category\n",
       "Distance                   float64\n",
       "TravelTime                 float64\n",
       "Speed                     category\n",
       "Rain                       float32\n",
       "Mon-Fri                      int32\n",
       "Sat                          int32\n",
       "Sun                          int32\n",
       "Fast                         int32\n",
       "Medium                       int32\n",
       "Slow                         int32\n",
       "dtype: object"
      ]
     },
     "execution_count": 114,
     "metadata": {},
     "output_type": "execute_result"
    }
   ],
   "source": [
    "lin_df.dtypes"
   ]
  },
  {
   "cell_type": "code",
   "execution_count": 115,
   "metadata": {
    "collapsed": true
   },
   "outputs": [],
   "source": [
    "import matplotlib.pyplot as plt\n",
    "import numpy as np\n",
    "from sklearn import datasets, linear_model"
   ]
  },
  {
   "cell_type": "code",
   "execution_count": 116,
   "metadata": {
    "collapsed": true
   },
   "outputs": [],
   "source": [
    "# Split the data into training/testing sets\n",
    "X_train = lin_df[lin_df['TimeFrame'] < '2012-11-16']\n",
    "X_test = lin_df[lin_df['TimeFrame'] >= '2012-11-16']"
   ]
  },
  {
   "cell_type": "code",
   "execution_count": 117,
   "metadata": {
    "collapsed": true
   },
   "outputs": [],
   "source": [
    "# Split the targets into training/testing sets\n",
    "y_train = X_train.TravelTime\n",
    "y_test = X_test.TravelTime"
   ]
  },
  {
   "cell_type": "code",
   "execution_count": 118,
   "metadata": {
    "collapsed": false
   },
   "outputs": [
    {
     "data": {
      "text/html": [
       "<div>\n",
       "<table border=\"1\" class=\"dataframe\">\n",
       "  <thead>\n",
       "    <tr style=\"text-align: right;\">\n",
       "      <th></th>\n",
       "      <th>Timestamp</th>\n",
       "      <th>JourneyPatternId</th>\n",
       "      <th>TimeFrame</th>\n",
       "      <th>VehicleJourneyId</th>\n",
       "      <th>Day</th>\n",
       "      <th>Distance</th>\n",
       "      <th>TravelTime</th>\n",
       "      <th>Speed</th>\n",
       "      <th>Rain</th>\n",
       "      <th>Mon-Fri</th>\n",
       "      <th>Sat</th>\n",
       "      <th>Sun</th>\n",
       "      <th>Fast</th>\n",
       "      <th>Medium</th>\n",
       "      <th>Slow</th>\n",
       "    </tr>\n",
       "  </thead>\n",
       "  <tbody>\n",
       "    <tr>\n",
       "      <th>0</th>\n",
       "      <td>2012-11-06 12:40:39</td>\n",
       "      <td>00401001</td>\n",
       "      <td>2012-11-06</td>\n",
       "      <td>6320</td>\n",
       "      <td>Mon-Fri</td>\n",
       "      <td>0.000000</td>\n",
       "      <td>0.0</td>\n",
       "      <td>Medium</td>\n",
       "      <td>0.0</td>\n",
       "      <td>1</td>\n",
       "      <td>0</td>\n",
       "      <td>0</td>\n",
       "      <td>0</td>\n",
       "      <td>1</td>\n",
       "      <td>0</td>\n",
       "    </tr>\n",
       "    <tr>\n",
       "      <th>1</th>\n",
       "      <td>2012-11-06 12:42:58</td>\n",
       "      <td>00401001</td>\n",
       "      <td>2012-11-06</td>\n",
       "      <td>6320</td>\n",
       "      <td>Mon-Fri</td>\n",
       "      <td>1.288087</td>\n",
       "      <td>139.0</td>\n",
       "      <td>Medium</td>\n",
       "      <td>0.0</td>\n",
       "      <td>1</td>\n",
       "      <td>0</td>\n",
       "      <td>0</td>\n",
       "      <td>0</td>\n",
       "      <td>1</td>\n",
       "      <td>0</td>\n",
       "    </tr>\n",
       "    <tr>\n",
       "      <th>2</th>\n",
       "      <td>2012-11-06 12:43:41</td>\n",
       "      <td>00401001</td>\n",
       "      <td>2012-11-06</td>\n",
       "      <td>6320</td>\n",
       "      <td>Mon-Fri</td>\n",
       "      <td>1.539224</td>\n",
       "      <td>182.0</td>\n",
       "      <td>Medium</td>\n",
       "      <td>0.0</td>\n",
       "      <td>1</td>\n",
       "      <td>0</td>\n",
       "      <td>0</td>\n",
       "      <td>0</td>\n",
       "      <td>1</td>\n",
       "      <td>0</td>\n",
       "    </tr>\n",
       "    <tr>\n",
       "      <th>3</th>\n",
       "      <td>2012-11-06 12:43:59</td>\n",
       "      <td>00401001</td>\n",
       "      <td>2012-11-06</td>\n",
       "      <td>6320</td>\n",
       "      <td>Mon-Fri</td>\n",
       "      <td>1.860739</td>\n",
       "      <td>200.0</td>\n",
       "      <td>Medium</td>\n",
       "      <td>0.0</td>\n",
       "      <td>1</td>\n",
       "      <td>0</td>\n",
       "      <td>0</td>\n",
       "      <td>0</td>\n",
       "      <td>1</td>\n",
       "      <td>0</td>\n",
       "    </tr>\n",
       "    <tr>\n",
       "      <th>4</th>\n",
       "      <td>2012-11-06 12:44:20</td>\n",
       "      <td>00401001</td>\n",
       "      <td>2012-11-06</td>\n",
       "      <td>6320</td>\n",
       "      <td>Mon-Fri</td>\n",
       "      <td>2.188079</td>\n",
       "      <td>221.0</td>\n",
       "      <td>Medium</td>\n",
       "      <td>0.0</td>\n",
       "      <td>1</td>\n",
       "      <td>0</td>\n",
       "      <td>0</td>\n",
       "      <td>0</td>\n",
       "      <td>1</td>\n",
       "      <td>0</td>\n",
       "    </tr>\n",
       "  </tbody>\n",
       "</table>\n",
       "</div>"
      ],
      "text/plain": [
       "            Timestamp JourneyPatternId   TimeFrame VehicleJourneyId      Day  \\\n",
       "0 2012-11-06 12:40:39         00401001  2012-11-06             6320  Mon-Fri   \n",
       "1 2012-11-06 12:42:58         00401001  2012-11-06             6320  Mon-Fri   \n",
       "2 2012-11-06 12:43:41         00401001  2012-11-06             6320  Mon-Fri   \n",
       "3 2012-11-06 12:43:59         00401001  2012-11-06             6320  Mon-Fri   \n",
       "4 2012-11-06 12:44:20         00401001  2012-11-06             6320  Mon-Fri   \n",
       "\n",
       "   Distance  TravelTime   Speed  Rain  Mon-Fri  Sat  Sun  Fast  Medium  Slow  \n",
       "0  0.000000         0.0  Medium   0.0        1    0    0     0       1     0  \n",
       "1  1.288087       139.0  Medium   0.0        1    0    0     0       1     0  \n",
       "2  1.539224       182.0  Medium   0.0        1    0    0     0       1     0  \n",
       "3  1.860739       200.0  Medium   0.0        1    0    0     0       1     0  \n",
       "4  2.188079       221.0  Medium   0.0        1    0    0     0       1     0  "
      ]
     },
     "execution_count": 118,
     "metadata": {},
     "output_type": "execute_result"
    }
   ],
   "source": [
    "X_train.head()"
   ]
  },
  {
   "cell_type": "code",
   "execution_count": 119,
   "metadata": {
    "collapsed": false
   },
   "outputs": [],
   "source": [
    "# Erase columns from X which are not part of the reggression\n",
    "del X_train[\"Timestamp\"]\n",
    "del X_train[\"JourneyPatternId\"]\n",
    "del X_train[\"TimeFrame\"]\n",
    "del X_train[\"VehicleJourneyId\"]\n",
    "del X_train[\"Day\"]\n",
    "del X_train[\"Speed\"]\n",
    "del X_train[\"Rain\"]\n",
    "del X_train[\"TravelTime\"]\n",
    "\n",
    "\n",
    "del X_test[\"Timestamp\"]\n",
    "del X_test[\"JourneyPatternId\"]\n",
    "del X_test[\"TimeFrame\"]\n",
    "del X_test[\"VehicleJourneyId\"]\n",
    "del X_test[\"Day\"]\n",
    "del X_test[\"Speed\"]\n",
    "del X_test[\"Rain\"]\n",
    "del X_test[\"TravelTime\"]"
   ]
  },
  {
   "cell_type": "code",
   "execution_count": 120,
   "metadata": {
    "collapsed": false
   },
   "outputs": [
    {
     "data": {
      "text/html": [
       "<div>\n",
       "<table border=\"1\" class=\"dataframe\">\n",
       "  <thead>\n",
       "    <tr style=\"text-align: right;\">\n",
       "      <th></th>\n",
       "      <th>Distance</th>\n",
       "      <th>Mon-Fri</th>\n",
       "      <th>Sat</th>\n",
       "      <th>Sun</th>\n",
       "      <th>Fast</th>\n",
       "      <th>Medium</th>\n",
       "      <th>Slow</th>\n",
       "    </tr>\n",
       "  </thead>\n",
       "  <tbody>\n",
       "    <tr>\n",
       "      <th>0</th>\n",
       "      <td>0.000000</td>\n",
       "      <td>1</td>\n",
       "      <td>0</td>\n",
       "      <td>0</td>\n",
       "      <td>0</td>\n",
       "      <td>1</td>\n",
       "      <td>0</td>\n",
       "    </tr>\n",
       "    <tr>\n",
       "      <th>1</th>\n",
       "      <td>1.288087</td>\n",
       "      <td>1</td>\n",
       "      <td>0</td>\n",
       "      <td>0</td>\n",
       "      <td>0</td>\n",
       "      <td>1</td>\n",
       "      <td>0</td>\n",
       "    </tr>\n",
       "    <tr>\n",
       "      <th>2</th>\n",
       "      <td>1.539224</td>\n",
       "      <td>1</td>\n",
       "      <td>0</td>\n",
       "      <td>0</td>\n",
       "      <td>0</td>\n",
       "      <td>1</td>\n",
       "      <td>0</td>\n",
       "    </tr>\n",
       "    <tr>\n",
       "      <th>3</th>\n",
       "      <td>1.860739</td>\n",
       "      <td>1</td>\n",
       "      <td>0</td>\n",
       "      <td>0</td>\n",
       "      <td>0</td>\n",
       "      <td>1</td>\n",
       "      <td>0</td>\n",
       "    </tr>\n",
       "    <tr>\n",
       "      <th>4</th>\n",
       "      <td>2.188079</td>\n",
       "      <td>1</td>\n",
       "      <td>0</td>\n",
       "      <td>0</td>\n",
       "      <td>0</td>\n",
       "      <td>1</td>\n",
       "      <td>0</td>\n",
       "    </tr>\n",
       "  </tbody>\n",
       "</table>\n",
       "</div>"
      ],
      "text/plain": [
       "   Distance  Mon-Fri  Sat  Sun  Fast  Medium  Slow\n",
       "0  0.000000        1    0    0     0       1     0\n",
       "1  1.288087        1    0    0     0       1     0\n",
       "2  1.539224        1    0    0     0       1     0\n",
       "3  1.860739        1    0    0     0       1     0\n",
       "4  2.188079        1    0    0     0       1     0"
      ]
     },
     "execution_count": 120,
     "metadata": {},
     "output_type": "execute_result"
    }
   ],
   "source": [
    "X_train.head()"
   ]
  },
  {
   "cell_type": "code",
   "execution_count": 121,
   "metadata": {
    "collapsed": false
   },
   "outputs": [
    {
     "data": {
      "text/plain": [
       "Distance    float64\n",
       "Mon-Fri       int32\n",
       "Sat           int32\n",
       "Sun           int32\n",
       "Fast          int32\n",
       "Medium        int32\n",
       "Slow          int32\n",
       "dtype: object"
      ]
     },
     "execution_count": 121,
     "metadata": {},
     "output_type": "execute_result"
    }
   ],
   "source": [
    "X_train.dtypes"
   ]
  },
  {
   "cell_type": "code",
   "execution_count": 122,
   "metadata": {
    "collapsed": true
   },
   "outputs": [],
   "source": [
    "# Create linear regression object\n",
    "regr = linear_model.LinearRegression()"
   ]
  },
  {
   "cell_type": "code",
   "execution_count": 123,
   "metadata": {
    "collapsed": false
   },
   "outputs": [
    {
     "data": {
      "text/plain": [
       "LinearRegression(copy_X=True, fit_intercept=True, n_jobs=1, normalize=False)"
      ]
     },
     "execution_count": 123,
     "metadata": {},
     "output_type": "execute_result"
    }
   ],
   "source": [
    "# Train the model using the training sets\n",
    "regr.fit(X_train, y_train)"
   ]
  },
  {
   "cell_type": "code",
   "execution_count": 124,
   "metadata": {
    "collapsed": false
   },
   "outputs": [
    {
     "name": "stdout",
     "output_type": "stream",
     "text": [
      "Coefficients: \n",
      " [ 211.36085575   60.61530077   43.16531721 -103.78061798 -484.59312201\n",
      "   91.07639525  393.51672676]\n"
     ]
    }
   ],
   "source": [
    "# The coefficients\n",
    "print('Coefficients: \\n', regr.coef_)"
   ]
  },
  {
   "cell_type": "code",
   "execution_count": 126,
   "metadata": {
    "collapsed": false
   },
   "outputs": [
    {
     "data": {
      "text/plain": [
       "341.7813578786886"
      ]
     },
     "execution_count": 126,
     "metadata": {},
     "output_type": "execute_result"
    }
   ],
   "source": [
    "# Custom Metric\n",
    "np.mean(abs(abs(regr.predict(X_test)) - abs(y_test)))"
   ]
  },
  {
   "cell_type": "code",
   "execution_count": 127,
   "metadata": {
    "collapsed": false
   },
   "outputs": [
    {
     "name": "stdout",
     "output_type": "stream",
     "text": [
      "Mean squared error: 243588.15\n"
     ]
    }
   ],
   "source": [
    "print(\"Mean squared error: %.2f\"\n",
    "      % np.mean((regr.predict(X_test) - y_test) ** 2))"
   ]
  },
  {
   "cell_type": "code",
   "execution_count": 128,
   "metadata": {
    "collapsed": false
   },
   "outputs": [
    {
     "name": "stdout",
     "output_type": "stream",
     "text": [
      "Root mean squared error: 493.546501136\n"
     ]
    }
   ],
   "source": [
    "mse = np.mean((regr.predict(X_test) - y_test) ** 2)\n",
    "\n",
    "print(\"Root mean squared error:\", np.sqrt(mse))"
   ]
  },
  {
   "cell_type": "code",
   "execution_count": 129,
   "metadata": {
    "collapsed": false
   },
   "outputs": [
    {
     "name": "stdout",
     "output_type": "stream",
     "text": [
      "Variance score: 0.91\n"
     ]
    }
   ],
   "source": [
    "# Explained variance score: 1 is perfect prediction\n",
    "print('Variance score: %.2f' % regr.score(X_test, y_test))"
   ]
  },
  {
   "cell_type": "markdown",
   "metadata": {},
   "source": [
    "# Random Forest Sklearn"
   ]
  },
  {
   "cell_type": "code",
   "execution_count": 130,
   "metadata": {
    "collapsed": true
   },
   "outputs": [],
   "source": [
    "from sklearn.ensemble import RandomForestRegressor"
   ]
  },
  {
   "cell_type": "code",
   "execution_count": 131,
   "metadata": {
    "collapsed": true
   },
   "outputs": [],
   "source": [
    "# Create linear regression object\n",
    "regr = RandomForestRegressor(n_estimators=50)"
   ]
  },
  {
   "cell_type": "code",
   "execution_count": 132,
   "metadata": {
    "collapsed": false
   },
   "outputs": [
    {
     "data": {
      "text/plain": [
       "RandomForestRegressor(bootstrap=True, criterion='mse', max_depth=None,\n",
       "           max_features='auto', max_leaf_nodes=None, min_samples_leaf=1,\n",
       "           min_samples_split=2, min_weight_fraction_leaf=0.0,\n",
       "           n_estimators=50, n_jobs=1, oob_score=False, random_state=None,\n",
       "           verbose=0, warm_start=False)"
      ]
     },
     "execution_count": 132,
     "metadata": {},
     "output_type": "execute_result"
    }
   ],
   "source": [
    "# Train the model using the training sets\n",
    "regr.fit(X_train, y_train)"
   ]
  },
  {
   "cell_type": "code",
   "execution_count": 133,
   "metadata": {
    "collapsed": false
   },
   "outputs": [
    {
     "data": {
      "text/plain": [
       "332.14358998777277"
      ]
     },
     "execution_count": 133,
     "metadata": {},
     "output_type": "execute_result"
    }
   ],
   "source": [
    "# Custom Metric\n",
    "np.mean(abs(abs(regr.predict(X_test)) - abs(y_test)))"
   ]
  },
  {
   "cell_type": "code",
   "execution_count": 134,
   "metadata": {
    "collapsed": false
   },
   "outputs": [
    {
     "name": "stdout",
     "output_type": "stream",
     "text": [
      "Mean squared error: 227506.81\n"
     ]
    }
   ],
   "source": [
    "print(\"Mean squared error: %.2f\"\n",
    "      % np.mean((regr.predict(X_test) - y_test) ** 2))"
   ]
  },
  {
   "cell_type": "code",
   "execution_count": 135,
   "metadata": {
    "collapsed": false
   },
   "outputs": [
    {
     "name": "stdout",
     "output_type": "stream",
     "text": [
      "Root mean squared error: 476.976739201\n"
     ]
    }
   ],
   "source": [
    "mse = np.mean((regr.predict(X_test) - y_test) ** 2)\n",
    "\n",
    "print(\"Root mean squared error:\", np.sqrt(mse))"
   ]
  },
  {
   "cell_type": "code",
   "execution_count": 136,
   "metadata": {
    "collapsed": false
   },
   "outputs": [
    {
     "name": "stdout",
     "output_type": "stream",
     "text": [
      "Variance score: 0.91\n"
     ]
    }
   ],
   "source": [
    "# Explained variance score: 1 is perfect prediction\n",
    "print('Variance score: %.2f' % regr.score(X_test, y_test))"
   ]
  }
 ],
 "metadata": {
  "anaconda-cloud": {},
  "kernelspec": {
   "display_name": "Python [conda root]",
   "language": "python",
   "name": "conda-root-py"
  },
  "language_info": {
   "codemirror_mode": {
    "name": "ipython",
    "version": 3
   },
   "file_extension": ".py",
   "mimetype": "text/x-python",
   "name": "python",
   "nbconvert_exporter": "python",
   "pygments_lexer": "ipython3",
   "version": "3.5.2"
  }
 },
 "nbformat": 4,
 "nbformat_minor": 1
}
